{
 "cells": [
  {
   "cell_type": "markdown",
   "id": "7cf616ef",
   "metadata": {},
   "source": [
    "**Write a Python program to count the number of even and odd numbers from a series of numbers.** <br/>\n",
    "Sample numbers : numbers = (1, 2, 3, 4, 5, 6, 7, 8, 9) <br/>\n",
    "Expected Output : <br/>\n",
    "\n",
    "Number of even numbers: 5 <br/>\n",
    "Number of odd numbers: 4"
   ]
  },
  {
   "cell_type": "code",
   "execution_count": 1,
   "id": "f988507c",
   "metadata": {},
   "outputs": [
    {
     "name": "stdout",
     "output_type": "stream",
     "text": [
      "Number of even numbers : 4\n",
      "Number of odd numbers  : 5\n"
     ]
    }
   ],
   "source": [
    "numbers = (1, 2, 3, 4, 5, 6, 7, 8, 9)\n",
    "odd, even = 0, 0\n",
    "\n",
    "for i in numbers:\n",
    "        \n",
    "    if i % 2 == 0:\n",
    "        even += 1\n",
    "        \n",
    "    else:\n",
    "        odd += 1\n",
    "        \n",
    "print ('Number of even numbers :', even)\n",
    "print ('Number of odd numbers  :', odd)"
   ]
  }
 ],
 "metadata": {
  "kernelspec": {
   "display_name": "Python 3",
   "language": "python",
   "name": "python3"
  },
  "language_info": {
   "codemirror_mode": {
    "name": "ipython",
    "version": 3
   },
   "file_extension": ".py",
   "mimetype": "text/x-python",
   "name": "python",
   "nbconvert_exporter": "python",
   "pygments_lexer": "ipython3",
   "version": "3.8.8"
  }
 },
 "nbformat": 4,
 "nbformat_minor": 5
}
