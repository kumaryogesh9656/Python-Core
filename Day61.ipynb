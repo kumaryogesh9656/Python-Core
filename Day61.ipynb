{
 "cells": [
  {
   "cell_type": "markdown",
   "id": "a9df2ff2",
   "metadata": {},
   "source": [
    "**Write a Python program to find if a given string starts with a given character using Lambda.** <br/>\n",
    "Sample Output: \n",
    "\n",
    "True <br/>\n",
    "False"
   ]
  },
  {
   "cell_type": "code",
   "execution_count": 1,
   "id": "1fcc537d",
   "metadata": {},
   "outputs": [
    {
     "name": "stdout",
     "output_type": "stream",
     "text": [
      "True\n",
      "False\n"
     ]
    }
   ],
   "source": [
    "s = lambda x:True if x.startswith('A') else False\n",
    "print (s('Amit'))\n",
    "print (s('amit'))"
   ]
  },
  {
   "cell_type": "markdown",
   "id": "6a521c73",
   "metadata": {},
   "source": [
    "**Write a Python program to extract year, month, date and time using Lambda.** <br/>\n",
    "Sample Output: \n",
    "    \n",
    "2020-01-15 09:03:32.744178 <br/>\n",
    "2020 <br/>\n",
    "1 <br/>\n",
    "15 <br/>\n",
    "09:03:32.744178"
   ]
  },
  {
   "cell_type": "code",
   "execution_count": 2,
   "id": "2c2d605b",
   "metadata": {},
   "outputs": [
    {
     "name": "stdout",
     "output_type": "stream",
     "text": [
      "2022-04-11 23:24:58.228625\n",
      "2022\n",
      "4\n",
      "11\n",
      "23:24:58.228625\n"
     ]
    }
   ],
   "source": [
    "import datetime\n",
    "\n",
    "t = datetime.datetime.now()\n",
    "print(t)\n",
    "\n",
    "year = lambda x: x.year\n",
    "month = lambda x: x.month\n",
    "day = lambda x: x.day\n",
    "time = lambda x: x.time()\n",
    "\n",
    "print (year(t))\n",
    "print (month(t))\n",
    "print (day(t))\n",
    "print (time(t))"
   ]
  }
 ],
 "metadata": {
  "kernelspec": {
   "display_name": "Python 3 (ipykernel)",
   "language": "python",
   "name": "python3"
  },
  "language_info": {
   "codemirror_mode": {
    "name": "ipython",
    "version": 3
   },
   "file_extension": ".py",
   "mimetype": "text/x-python",
   "name": "python",
   "nbconvert_exporter": "python",
   "pygments_lexer": "ipython3",
   "version": "3.9.7"
  }
 },
 "nbformat": 4,
 "nbformat_minor": 5
}
