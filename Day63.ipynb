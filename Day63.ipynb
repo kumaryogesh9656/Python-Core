{
 "cells": [
  {
   "cell_type": "markdown",
   "id": "36e83166",
   "metadata": {},
   "source": [
    "**Write a Python program to create Fibonacci series upto n using Lambda.**\n",
    "\n",
    "Fibonacci series upto 2: <br/>\n",
    "[0, 1] <br/>\n",
    "Fibonacci series upto 5: <br/>\n",
    "[0, 1, 1, 2, 3] <br/>\n",
    "Fibonacci series upto 6: <br/>\n",
    "[0, 1, 1, 2, 3, 5] <br/>\n",
    "Fibonacci series upto 9: <br/>\n",
    "[0, 1, 1, 2, 3, 5, 8, 13, 21]"
   ]
  },
  {
   "cell_type": "code",
   "execution_count": 1,
   "id": "630a7895",
   "metadata": {},
   "outputs": [
    {
     "name": "stdout",
     "output_type": "stream",
     "text": [
      "Fibonacci series upto 2:\n",
      "[0, 1]\n",
      "Fibonacci series upto 5:\n",
      "[0, 1, 1, 2, 3]\n",
      "Fibonacci series upto 6:\n",
      "[0, 1, 1, 2, 3, 5]\n",
      "Fibonacci series upto 9:\n",
      "[0, 1, 1, 2, 3, 5, 8, 13, 21]\n"
     ]
    }
   ],
   "source": [
    "from functools import reduce\n",
    "\n",
    "def fibon(n):\n",
    "    f = (lambda n:reduce(lambda x, _:x + [x[-1] + x[-2]], range(n - 2), [0, 1]))\n",
    "    print (f'Fibonacci series upto {n}:')\n",
    "    print (f(n))\n",
    "    \n",
    "fibon(2)\n",
    "fibon(5)\n",
    "fibon(6)\n",
    "fibon(9)"
   ]
  }
 ],
 "metadata": {
  "kernelspec": {
   "display_name": "Python 3 (ipykernel)",
   "language": "python",
   "name": "python3"
  },
  "language_info": {
   "codemirror_mode": {
    "name": "ipython",
    "version": 3
   },
   "file_extension": ".py",
   "mimetype": "text/x-python",
   "name": "python",
   "nbconvert_exporter": "python",
   "pygments_lexer": "ipython3",
   "version": "3.9.7"
  }
 },
 "nbformat": 4,
 "nbformat_minor": 5
}
