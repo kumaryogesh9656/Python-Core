{
 "cells": [
  {
   "cell_type": "markdown",
   "id": "6ef0b4d2",
   "metadata": {},
   "source": [
    "**Write a program to store information of products like product id, product name, and product price in a dictionary by taking product id as a key.**"
   ]
  },
  {
   "cell_type": "code",
   "execution_count": 1,
   "id": "d7368bd6",
   "metadata": {},
   "outputs": [
    {
     "name": "stdout",
     "output_type": "stream",
     "text": [
      "Enter number of terms: 2\n",
      "\n",
      "Enter Product ID   : 1\n",
      "Enter Product Name : Pen\n",
      "Enter Product Price: 5\n",
      "\n",
      "Enter Product ID   : 2\n",
      "Enter Product Name : Pencil\n",
      "Enter Product Price: 3\n",
      "\n",
      "{'1': ('Pen', 5), '2': ('Pencil', 3)}\n"
     ]
    }
   ],
   "source": [
    "t = int(input(\"Enter number of terms: \"))\n",
    "prod = {}\n",
    "\n",
    "for i in range(t):\n",
    "    pid = input(\"\\nEnter Product ID   : \")\n",
    "    pn = input(\"Enter Product Name : \")\n",
    "    pp = int(input(\"Enter Product Price: \"))\n",
    "    temp = (pn, pp)\n",
    "    prod[pid] = temp\n",
    "    \n",
    "print (\"\")   \n",
    "print (prod)"
   ]
  }
 ],
 "metadata": {
  "kernelspec": {
   "display_name": "Python 3 (ipykernel)",
   "language": "python",
   "name": "python3"
  },
  "language_info": {
   "codemirror_mode": {
    "name": "ipython",
    "version": 3
   },
   "file_extension": ".py",
   "mimetype": "text/x-python",
   "name": "python",
   "nbconvert_exporter": "python",
   "pygments_lexer": "ipython3",
   "version": "3.9.7"
  }
 },
 "nbformat": 4,
 "nbformat_minor": 5
}
