{
 "cells": [
  {
   "cell_type": "markdown",
   "id": "f4ebef19",
   "metadata": {},
   "source": [
    "**Write a program to accept a key from the user and remove that key from the dictionary if present.**"
   ]
  },
  {
   "cell_type": "code",
   "execution_count": 1,
   "id": "4d1c9135",
   "metadata": {},
   "outputs": [
    {
     "name": "stdout",
     "output_type": "stream",
     "text": [
      "{1: 2, 3: 50}\n"
     ]
    }
   ],
   "source": [
    "d = {1:2, 2:90, 3:50}\n",
    "\n",
    "def add(a):\n",
    "    for k in d:\n",
    "        if a in d:\n",
    "            d.pop(a)\n",
    "            print (d)\n",
    "        else:\n",
    "            print (\"Key not found\")\n",
    "            \n",
    "        break\n",
    "    \n",
    "add(2)"
   ]
  }
 ],
 "metadata": {
  "kernelspec": {
   "display_name": "Python 3 (ipykernel)",
   "language": "python",
   "name": "python3"
  },
  "language_info": {
   "codemirror_mode": {
    "name": "ipython",
    "version": 3
   },
   "file_extension": ".py",
   "mimetype": "text/x-python",
   "name": "python",
   "nbconvert_exporter": "python",
   "pygments_lexer": "ipython3",
   "version": "3.9.7"
  }
 },
 "nbformat": 4,
 "nbformat_minor": 5
}
