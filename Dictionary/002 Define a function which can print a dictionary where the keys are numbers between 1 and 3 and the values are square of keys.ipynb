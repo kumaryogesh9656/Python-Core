{
 "cells": [
  {
   "cell_type": "markdown",
   "id": "9d715bc6",
   "metadata": {},
   "source": [
    "**Define a function which can print a dictionary where the keys are numbers between 1 and 3 (both included) and the values are square of keys.**"
   ]
  },
  {
   "cell_type": "code",
   "execution_count": 1,
   "id": "761eee0a",
   "metadata": {},
   "outputs": [
    {
     "name": "stdout",
     "output_type": "stream",
     "text": [
      "{1: 1, 2: 4, 3: 9}\n"
     ]
    }
   ],
   "source": [
    "def dict_values_square():\n",
    "    d = {}\n",
    "    \n",
    "    for i in range(1, 4) :\n",
    "        d[i] = i ** 2\n",
    "        \n",
    "    print (d)\n",
    "    \n",
    "dict_values_square()"
   ]
  },
  {
   "cell_type": "markdown",
   "id": "22fa1262",
   "metadata": {},
   "source": [
    "**Or**"
   ]
  },
  {
   "cell_type": "code",
   "execution_count": 1,
   "id": "dffe7c43",
   "metadata": {},
   "outputs": [
    {
     "name": "stdout",
     "output_type": "stream",
     "text": [
      "{1: 1, 2: 4, 3: 9}\n"
     ]
    }
   ],
   "source": [
    "def dict_values_square():\n",
    "    print ({i:i ** 2 for i in range(1, 4)})\n",
    "    \n",
    "dict_values_square()"
   ]
  }
 ],
 "metadata": {
  "kernelspec": {
   "display_name": "Python 3 (ipykernel)",
   "language": "python",
   "name": "python3"
  },
  "language_info": {
   "codemirror_mode": {
    "name": "ipython",
    "version": 3
   },
   "file_extension": ".py",
   "mimetype": "text/x-python",
   "name": "python",
   "nbconvert_exporter": "python",
   "pygments_lexer": "ipython3",
   "version": "3.9.7"
  }
 },
 "nbformat": 4,
 "nbformat_minor": 5
}
