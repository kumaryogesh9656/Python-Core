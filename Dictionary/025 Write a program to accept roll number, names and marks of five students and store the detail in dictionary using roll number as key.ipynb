{
 "cells": [
  {
   "cell_type": "markdown",
   "id": "3c4757c0",
   "metadata": {},
   "source": [
    "**Write a program to accept roll number, names and marks of five students and store the detail in dictionary using roll number as key. Also display the sum of marks of all the five students.**"
   ]
  },
  {
   "cell_type": "code",
   "execution_count": 1,
   "id": "9c984ead",
   "metadata": {},
   "outputs": [
    {
     "name": "stdout",
     "output_type": "stream",
     "text": [
      "Enter the number of students: 5\n",
      "\n",
      "Enter the Roll Number: 1\n",
      "Enter the Name       : Rahul\n",
      "Enter the marks      : 49\n",
      "\n",
      "Enter the Roll Number: 2\n",
      "Enter the Name       : Sachin\n",
      "Enter the marks      : 87\n",
      "\n",
      "Enter the Roll Number: 3\n",
      "Enter the Name       : Sehwag\n",
      "Enter the marks      : 98\n",
      "\n",
      "Enter the Roll Number: 4\n",
      "Enter the Name       : Virat\n",
      "Enter the marks      : 78\n",
      "\n",
      "Enter the Roll Number: 5\n",
      "Enter the Name       : Rohit\n",
      "Enter the marks      : 55\n",
      "\n",
      "{1: ('Rahul', 49), 2: ('Sachin', 87), 3: ('Sehwag', 98), 4: ('Virat', 78), 5: ('Rohit', 55)}\n",
      "Sum of marks of all 5 students: 367\n"
     ]
    }
   ],
   "source": [
    "stu = int(input(\"Enter the number of students: \"))\n",
    "d = {}\n",
    "s = 0\n",
    "\n",
    "for i in range(stu):\n",
    "    r = int(input(\"\\nEnter the Roll Number: \"))\n",
    "    n = input(\"Enter the Name       : \")\n",
    "    m = int(input(\"Enter the marks      : \"))\n",
    "    temp = (n, m)\n",
    "    d[r] = temp\n",
    "    \n",
    "for j in d:\n",
    "    l = d[j]\n",
    "    s = s + int(l[1])\n",
    "\n",
    "print (\"\")\n",
    "print (d)\n",
    "print (f\"Sum of marks of all {stu} students: {s}\")"
   ]
  }
 ],
 "metadata": {
  "kernelspec": {
   "display_name": "Python 3 (ipykernel)",
   "language": "python",
   "name": "python3"
  },
  "language_info": {
   "codemirror_mode": {
    "name": "ipython",
    "version": 3
   },
   "file_extension": ".py",
   "mimetype": "text/x-python",
   "name": "python",
   "nbconvert_exporter": "python",
   "pygments_lexer": "ipython3",
   "version": "3.9.7"
  }
 },
 "nbformat": 4,
 "nbformat_minor": 5
}
