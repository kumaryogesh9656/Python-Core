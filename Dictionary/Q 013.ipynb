{
 "cells": [
  {
   "cell_type": "markdown",
   "id": "a0e30cde",
   "metadata": {},
   "source": [
    "**Accept a key from the user and modify it’s value.**"
   ]
  },
  {
   "cell_type": "code",
   "execution_count": 1,
   "id": "6629f568",
   "metadata": {},
   "outputs": [
    {
     "name": "stdout",
     "output_type": "stream",
     "text": [
      "Enter the key: 2\n",
      "Enter the value: Shivani\n",
      "{1: 'Aman', 2: 'Shivani', 3: 'Aman'}\n"
     ]
    }
   ],
   "source": [
    "d = {1:\"Aman\", 2:\"Suman\", 3:\"Aman\"}\n",
    "k = int(input(\"Enter the key: \"))\n",
    "v = input(\"Enter the value: \")\n",
    "d[k] = v\n",
    "\n",
    "print (d)"
   ]
  }
 ],
 "metadata": {
  "kernelspec": {
   "display_name": "Python 3 (ipykernel)",
   "language": "python",
   "name": "python3"
  },
  "language_info": {
   "codemirror_mode": {
    "name": "ipython",
    "version": 3
   },
   "file_extension": ".py",
   "mimetype": "text/x-python",
   "name": "python",
   "nbconvert_exporter": "python",
   "pygments_lexer": "ipython3",
   "version": "3.9.7"
  }
 },
 "nbformat": 4,
 "nbformat_minor": 5
}
