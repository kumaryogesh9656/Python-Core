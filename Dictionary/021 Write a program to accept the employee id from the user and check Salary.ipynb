{
 "cells": [
  {
   "cell_type": "markdown",
   "id": "18d3315c",
   "metadata": {},
   "source": [
    "**Write a program to accept the employee id from the user and check Salary. If salary is less than 25000 then increase the salary by Rs1000.**"
   ]
  },
  {
   "cell_type": "code",
   "execution_count": 1,
   "id": "825a94be",
   "metadata": {},
   "outputs": [
    {
     "name": "stdout",
     "output_type": "stream",
     "text": [
      "Enter Employee ID    : 1\n",
      "Enter Employee Name  : Amit\n",
      "Enter Employee salary: 24500\n",
      "\n",
      "{'1': ('Amit', 25500)}\n"
     ]
    }
   ],
   "source": [
    "empid = input(\"Enter Employee ID    : \")\n",
    "empname = input(\"Enter Employee Name  : \")\n",
    "sal = int(input(\"Enter Employee salary: \"))\n",
    "\n",
    "if sal < 25000:\n",
    "    sal = sal + 1000\n",
    "\n",
    "temp = (empname, sal)\n",
    "data = {}\n",
    "data[empid] = temp\n",
    "\n",
    "print (\"\")\n",
    "print (data)"
   ]
  }
 ],
 "metadata": {
  "kernelspec": {
   "display_name": "Python 3 (ipykernel)",
   "language": "python",
   "name": "python3"
  },
  "language_info": {
   "codemirror_mode": {
    "name": "ipython",
    "version": 3
   },
   "file_extension": ".py",
   "mimetype": "text/x-python",
   "name": "python",
   "nbconvert_exporter": "python",
   "pygments_lexer": "ipython3",
   "version": "3.9.7"
  }
 },
 "nbformat": 4,
 "nbformat_minor": 5
}
