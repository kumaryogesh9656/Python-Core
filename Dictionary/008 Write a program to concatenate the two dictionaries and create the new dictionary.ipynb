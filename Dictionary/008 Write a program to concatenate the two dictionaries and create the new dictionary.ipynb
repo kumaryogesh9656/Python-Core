{
 "cells": [
  {
   "cell_type": "markdown",
   "id": "0253c19f",
   "metadata": {},
   "source": [
    "**Write a program to join/merge/concatenate the following two dictionaries and create the new dictionary.**"
   ]
  },
  {
   "cell_type": "code",
   "execution_count": 1,
   "id": "2c47ec7d",
   "metadata": {},
   "outputs": [
    {
     "name": "stdout",
     "output_type": "stream",
     "text": [
      "New dictionary = {1: 'Amit', 2: 'Suman', 4: 'Ravi', 5: 'Kamal'}\n"
     ]
    }
   ],
   "source": [
    "d1 = {1:\"Amit\", 2:\"Suman\"}\n",
    "d2 = {4:\"Ravi\", 5:\"Kamal\"}\n",
    "d3 = {}\n",
    "\n",
    "d3.update(d1)\n",
    "d3.update(d2)\n",
    "\n",
    "print (f\"New dictionary = {d3}\")"
   ]
  }
 ],
 "metadata": {
  "kernelspec": {
   "display_name": "Python 3 (ipykernel)",
   "language": "python",
   "name": "python3"
  },
  "language_info": {
   "codemirror_mode": {
    "name": "ipython",
    "version": 3
   },
   "file_extension": ".py",
   "mimetype": "text/x-python",
   "name": "python",
   "nbconvert_exporter": "python",
   "pygments_lexer": "ipython3",
   "version": "3.9.7"
  }
 },
 "nbformat": 4,
 "nbformat_minor": 5
}
