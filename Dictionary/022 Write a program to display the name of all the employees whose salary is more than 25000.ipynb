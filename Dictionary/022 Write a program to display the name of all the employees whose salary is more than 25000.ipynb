{
 "cells": [
  {
   "cell_type": "markdown",
   "id": "a1362a01",
   "metadata": {},
   "source": [
    "**Write a program to display the name of all the employees whose salary is more than 25000.**"
   ]
  },
  {
   "cell_type": "code",
   "execution_count": 1,
   "id": "cb509e15",
   "metadata": {},
   "outputs": [
    {
     "name": "stdout",
     "output_type": "stream",
     "text": [
      "Employees whose Salary more than 25000 are:\n",
      "\n",
      "Suman\n",
      "Ravi\n"
     ]
    }
   ],
   "source": [
    "print (\"Employees whose Salary more than 25000 are:\\n\")\n",
    "emp = {1:(\"Amit\", 25000), 2:(\"Suman\", 30000), 3:(\"Ravi\", 36000)}\n",
    "\n",
    "for k in emp:\n",
    "    if emp[k][1] > 25000:\n",
    "        print (emp[k][0])"
   ]
  }
 ],
 "metadata": {
  "kernelspec": {
   "display_name": "Python 3 (ipykernel)",
   "language": "python",
   "name": "python3"
  },
  "language_info": {
   "codemirror_mode": {
    "name": "ipython",
    "version": 3
   },
   "file_extension": ".py",
   "mimetype": "text/x-python",
   "name": "python",
   "nbconvert_exporter": "python",
   "pygments_lexer": "ipython3",
   "version": "3.9.7"
  }
 },
 "nbformat": 4,
 "nbformat_minor": 5
}
