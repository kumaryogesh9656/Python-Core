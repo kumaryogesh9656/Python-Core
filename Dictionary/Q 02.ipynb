{
 "cells": [
  {
   "cell_type": "markdown",
   "id": "fbeabb23",
   "metadata": {},
   "source": [
    "**Write a Python program to arrange the values in a dictionary in ascending order. For example** <br/>\n",
    "Original Dictionary = {1:25, 2:21, 3:23}\n",
    "\n",
    "Expected Output = [21, 23, 25]"
   ]
  },
  {
   "cell_type": "code",
   "execution_count": 1,
   "id": "6cbd1459",
   "metadata": {},
   "outputs": [
    {
     "name": "stdout",
     "output_type": "stream",
     "text": [
      "Original Dictionary = {1: 25, 2: 21, 3: 23}\n",
      "\n",
      "Expected Output = [21, 23, 25]\n"
     ]
    }
   ],
   "source": [
    "d = {1:25, 2:21, 3:23}\n",
    "print (f\"Original Dictionary = {d}\")\n",
    "\n",
    "print (f\"\\nExpected Output = {sorted(d.values())}\")"
   ]
  }
 ],
 "metadata": {
  "kernelspec": {
   "display_name": "Python 3 (ipykernel)",
   "language": "python",
   "name": "python3"
  },
  "language_info": {
   "codemirror_mode": {
    "name": "ipython",
    "version": 3
   },
   "file_extension": ".py",
   "mimetype": "text/x-python",
   "name": "python",
   "nbconvert_exporter": "python",
   "pygments_lexer": "ipython3",
   "version": "3.9.7"
  }
 },
 "nbformat": 4,
 "nbformat_minor": 5
}
