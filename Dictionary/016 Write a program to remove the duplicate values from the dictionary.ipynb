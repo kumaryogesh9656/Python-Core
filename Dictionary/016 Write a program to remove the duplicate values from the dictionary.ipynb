{
 "cells": [
  {
   "cell_type": "markdown",
   "id": "dd60a5dd",
   "metadata": {},
   "source": [
    "**Write a program to remove the duplicate values from the dictionary.**"
   ]
  },
  {
   "cell_type": "code",
   "execution_count": 1,
   "id": "e69b7d4e",
   "metadata": {},
   "outputs": [
    {
     "name": "stdout",
     "output_type": "stream",
     "text": [
      "Original dictionary = {1: 'Aman', 2: 'Suman', 3: 'Aman'}\n",
      "\n",
      "New dictionary = {1: 'Aman', 2: 'Suman'}\n"
     ]
    }
   ],
   "source": [
    "d = {1:\"Aman\", 2:\"Suman\", 3:\"Aman\"}\n",
    "print (f\"Original dictionary = {d}\")\n",
    "z = {}\n",
    "\n",
    "for k, v in d.items():\n",
    "    if v not in z.values():\n",
    "        z[k] = v\n",
    "    \n",
    "print (f\"\\nNew dictionary = {z}\")"
   ]
  }
 ],
 "metadata": {
  "kernelspec": {
   "display_name": "Python 3 (ipykernel)",
   "language": "python",
   "name": "python3"
  },
  "language_info": {
   "codemirror_mode": {
    "name": "ipython",
    "version": 3
   },
   "file_extension": ".py",
   "mimetype": "text/x-python",
   "name": "python",
   "nbconvert_exporter": "python",
   "pygments_lexer": "ipython3",
   "version": "3.9.7"
  }
 },
 "nbformat": 4,
 "nbformat_minor": 5
}
