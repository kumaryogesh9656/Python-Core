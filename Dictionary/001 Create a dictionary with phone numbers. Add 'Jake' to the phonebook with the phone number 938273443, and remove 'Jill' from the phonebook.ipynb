{
 "cells": [
  {
   "cell_type": "markdown",
   "id": "f69e2c97",
   "metadata": {},
   "source": [
    "**Create a dictionary with phone numbers (phonebook = {'John': 938477566, 'Jack': 938377264, 'Jill': 947662781}). Add 'Jake' to the phonebook with the phone number 938273443, and remove 'Jill' from the phonebook.**"
   ]
  },
  {
   "cell_type": "code",
   "execution_count": 1,
   "id": "93df69fb",
   "metadata": {},
   "outputs": [
    {
     "name": "stdout",
     "output_type": "stream",
     "text": [
      "{'John': 938477566, 'Jack': 938377264, 'Jake': 938273443}\n"
     ]
    }
   ],
   "source": [
    "phonebook = {\"John\":938477566, \"Jack\":938377264, \"Jill\":947662781}\n",
    "phonebook[\"Jake\"] = 938273443\n",
    "phonebook.pop(\"Jill\")\n",
    "\n",
    "print (phonebook)"
   ]
  },
  {
   "cell_type": "markdown",
   "id": "2388fa64",
   "metadata": {},
   "source": [
    "**OR**"
   ]
  },
  {
   "cell_type": "code",
   "execution_count": 1,
   "id": "d27ae806",
   "metadata": {},
   "outputs": [
    {
     "name": "stdout",
     "output_type": "stream",
     "text": [
      "{'John': 938477566, 'Jack': 938377264, 'Jake': 938273443}\n"
     ]
    }
   ],
   "source": [
    "phonebook = {\"John\":938477566, \"Jack\":938377264, \"Jill\":947662781}\n",
    "phonebook[\"Jake\"] = 938273443\n",
    "del phonebook[\"Jill\"]\n",
    "\n",
    "print (phonebook)"
   ]
  }
 ],
 "metadata": {
  "kernelspec": {
   "display_name": "Python 3 (ipykernel)",
   "language": "python",
   "name": "python3"
  },
  "language_info": {
   "codemirror_mode": {
    "name": "ipython",
    "version": 3
   },
   "file_extension": ".py",
   "mimetype": "text/x-python",
   "name": "python",
   "nbconvert_exporter": "python",
   "pygments_lexer": "ipython3",
   "version": "3.9.7"
  }
 },
 "nbformat": 4,
 "nbformat_minor": 5
}
