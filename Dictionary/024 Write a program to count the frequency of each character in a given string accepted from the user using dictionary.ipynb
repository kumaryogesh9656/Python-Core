{
 "cells": [
  {
   "cell_type": "markdown",
   "id": "ee897b78",
   "metadata": {},
   "source": [
    "**Write a program to count the frequency of each character in a given string accepted from the user using dictionary.**"
   ]
  },
  {
   "cell_type": "code",
   "execution_count": 1,
   "id": "576cede3",
   "metadata": {},
   "outputs": [
    {
     "name": "stdout",
     "output_type": "stream",
     "text": [
      "Enter a string: qwertyertyuiyuiop\n",
      "{'q': 1, 'w': 1, 'e': 2, 'r': 2, 't': 2, 'y': 3, 'u': 2, 'i': 2, 'o': 1, 'p': 1}\n"
     ]
    }
   ],
   "source": [
    "string = input(\"Enter a string: \")\n",
    "d = {}\n",
    "\n",
    "for i in string:\n",
    "    if i not in d:\n",
    "         d[i] = string.count(i)\n",
    "        \n",
    "print (d)"
   ]
  }
 ],
 "metadata": {
  "kernelspec": {
   "display_name": "Python 3 (ipykernel)",
   "language": "python",
   "name": "python3"
  },
  "language_info": {
   "codemirror_mode": {
    "name": "ipython",
    "version": 3
   },
   "file_extension": ".py",
   "mimetype": "text/x-python",
   "name": "python",
   "nbconvert_exporter": "python",
   "pygments_lexer": "ipython3",
   "version": "3.9.7"
  }
 },
 "nbformat": 4,
 "nbformat_minor": 5
}
