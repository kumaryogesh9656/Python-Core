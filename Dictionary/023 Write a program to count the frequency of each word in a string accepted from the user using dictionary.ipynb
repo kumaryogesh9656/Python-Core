{
 "cells": [
  {
   "cell_type": "markdown",
   "id": "ed0cc1d8",
   "metadata": {},
   "source": [
    "**Write a program to count the frequency of each word in a string accepted from the user using dictionary.**"
   ]
  },
  {
   "cell_type": "code",
   "execution_count": 1,
   "id": "e5e9287e",
   "metadata": {},
   "outputs": [
    {
     "name": "stdout",
     "output_type": "stream",
     "text": [
      "Enter a string: Power is always dangerous. Power attracts the worst and corrupts the best.\n",
      "{'Power': 2, 'is': 1, 'always': 1, 'dangerous.': 1, 'attracts': 1, 'the': 2, 'worst': 1, 'and': 1, 'corrupts': 1, 'best.': 1}\n"
     ]
    }
   ],
   "source": [
    "string = input(\"Enter a string: \").split()\n",
    "d = {}\n",
    "\n",
    "for i in string:\n",
    "    if i not in d:\n",
    "         d[i] = string.count(i)\n",
    "        \n",
    "print (d)"
   ]
  }
 ],
 "metadata": {
  "kernelspec": {
   "display_name": "Python 3 (ipykernel)",
   "language": "python",
   "name": "python3"
  },
  "language_info": {
   "codemirror_mode": {
    "name": "ipython",
    "version": 3
   },
   "file_extension": ".py",
   "mimetype": "text/x-python",
   "name": "python",
   "nbconvert_exporter": "python",
   "pygments_lexer": "ipython3",
   "version": "3.9.7"
  }
 },
 "nbformat": 4,
 "nbformat_minor": 5
}
