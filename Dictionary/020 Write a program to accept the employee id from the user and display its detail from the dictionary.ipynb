{
 "cells": [
  {
   "cell_type": "markdown",
   "id": "e252e3ab",
   "metadata": {},
   "source": [
    "**Write a program to accept the employee id from the user and display its detail from the dictionary. Data is stored in the dictionary in the following format:** <br/>\n",
    "{Empid: (Empname, EmpSalary)}"
   ]
  },
  {
   "cell_type": "code",
   "execution_count": 1,
   "id": "4e0f4a8f",
   "metadata": {},
   "outputs": [
    {
     "name": "stdout",
     "output_type": "stream",
     "text": [
      "Enter number of employees: 2\n",
      "\n",
      "Enter Employee ID    : Raj\n",
      "Enter Employee Name  : 1\n",
      "Enter Employee Salary: 50000\n",
      "\n",
      "Enter Employee ID    : 2\n",
      "Enter Employee Name  : Rahul\n",
      "Enter Employee Salary: 60000\n",
      "\n",
      "{'Raj': ('1', 50000), '2': ('Rahul', 60000)}\n"
     ]
    }
   ],
   "source": [
    "num = int(input(\"Enter number of employees: \"))\n",
    "emp = {}\n",
    "\n",
    "for i in range(num):\n",
    "    empid = input(\"\\nEnter Employee ID    : \")\n",
    "    empname = input(\"Enter Employee Name  : \")\n",
    "    empsal = int(input(\"Enter Employee Salary: \"))\n",
    "    temp = (empname, empsal)\n",
    "    emp[empid] = temp\n",
    "\n",
    "print (\"\")\n",
    "print (emp)"
   ]
  }
 ],
 "metadata": {
  "kernelspec": {
   "display_name": "Python 3 (ipykernel)",
   "language": "python",
   "name": "python3"
  },
  "language_info": {
   "codemirror_mode": {
    "name": "ipython",
    "version": 3
   },
   "file_extension": ".py",
   "mimetype": "text/x-python",
   "name": "python",
   "nbconvert_exporter": "python",
   "pygments_lexer": "ipython3",
   "version": "3.9.7"
  }
 },
 "nbformat": 4,
 "nbformat_minor": 5
}
