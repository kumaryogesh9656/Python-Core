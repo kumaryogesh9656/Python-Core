{
 "cells": [
  {
   "cell_type": "markdown",
   "id": "826138ab",
   "metadata": {},
   "source": [
    "**Write a program to multiply all the values of given dictionary.** <br/>\n",
    "d1 = {1:2, 2:90, 3:50}"
   ]
  },
  {
   "cell_type": "code",
   "execution_count": 1,
   "id": "d82ec82d",
   "metadata": {},
   "outputs": [
    {
     "name": "stdout",
     "output_type": "stream",
     "text": [
      "9000\n"
     ]
    }
   ],
   "source": [
    "d1 = {1:2, 2:90, 3:50}\n",
    "mul = 1\n",
    "\n",
    "for v in d1.values():\n",
    "    mul *= v\n",
    "\n",
    "print (mul)"
   ]
  }
 ],
 "metadata": {
  "kernelspec": {
   "display_name": "Python 3 (ipykernel)",
   "language": "python",
   "name": "python3"
  },
  "language_info": {
   "codemirror_mode": {
    "name": "ipython",
    "version": 3
   },
   "file_extension": ".py",
   "mimetype": "text/x-python",
   "name": "python",
   "nbconvert_exporter": "python",
   "pygments_lexer": "ipython3",
   "version": "3.9.7"
  }
 },
 "nbformat": 4,
 "nbformat_minor": 5
}
