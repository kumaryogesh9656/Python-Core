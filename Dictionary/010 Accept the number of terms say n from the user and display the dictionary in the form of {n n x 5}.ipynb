{
 "cells": [
  {
   "cell_type": "markdown",
   "id": "1d25ac79",
   "metadata": {},
   "source": [
    "**Accept the number of terms say n from the user and display the dictionary in the form of {n:n x 5}.**"
   ]
  },
  {
   "cell_type": "code",
   "execution_count": 1,
   "id": "14b3f03a",
   "metadata": {},
   "outputs": [
    {
     "name": "stdout",
     "output_type": "stream",
     "text": [
      "Enter a number: 4\n",
      "{1: 5, 2: 10, 3: 15, 4: 20}\n"
     ]
    }
   ],
   "source": [
    "num = int(input(\"Enter a number: \"))\n",
    "\n",
    "print ({i:i * 5 for i in range(1, num + 1)})"
   ]
  }
 ],
 "metadata": {
  "kernelspec": {
   "display_name": "Python 3 (ipykernel)",
   "language": "python",
   "name": "python3"
  },
  "language_info": {
   "codemirror_mode": {
    "name": "ipython",
    "version": 3
   },
   "file_extension": ".py",
   "mimetype": "text/x-python",
   "name": "python",
   "nbconvert_exporter": "python",
   "pygments_lexer": "ipython3",
   "version": "3.9.7"
  }
 },
 "nbformat": 4,
 "nbformat_minor": 5
}
