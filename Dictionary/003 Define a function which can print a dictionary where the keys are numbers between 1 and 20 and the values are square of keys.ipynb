{
 "cells": [
  {
   "cell_type": "markdown",
   "id": "25f4d2d8",
   "metadata": {},
   "source": [
    "**Define a function which can print a dictionary where the keys are numbers between 1 and 20 (both included) and the values are square of keys.**"
   ]
  },
  {
   "cell_type": "code",
   "execution_count": 1,
   "id": "9bc4041b",
   "metadata": {},
   "outputs": [
    {
     "name": "stdout",
     "output_type": "stream",
     "text": [
      "{1: 1, 2: 4, 3: 9, 4: 16, 5: 25, 6: 36, 7: 49, 8: 64, 9: 81, 10: 100, 11: 121, 12: 144, 13: 169, 14: 196, 15: 225, 16: 256, 17: 289, 18: 324, 19: 361, 20: 400}\n"
     ]
    }
   ],
   "source": [
    "def dict_values_square():\n",
    "    d = {}\n",
    "    \n",
    "    for i in range(1, 21) :\n",
    "        d[i] = i ** 2\n",
    "        \n",
    "    print (d)\n",
    "    \n",
    "dict_values_square()"
   ]
  },
  {
   "cell_type": "markdown",
   "id": "4f7cfdb9",
   "metadata": {},
   "source": [
    "**OR**"
   ]
  },
  {
   "cell_type": "code",
   "execution_count": 1,
   "id": "86becc47",
   "metadata": {},
   "outputs": [
    {
     "name": "stdout",
     "output_type": "stream",
     "text": [
      "{1: 1, 2: 4, 3: 9, 4: 16, 5: 25, 6: 36, 7: 49, 8: 64, 9: 81, 10: 100, 11: 121, 12: 144, 13: 169, 14: 196, 15: 225, 16: 256, 17: 289, 18: 324, 19: 361, 20: 400}\n"
     ]
    }
   ],
   "source": [
    "def dict_values_square():\n",
    "    print ({i:i ** 2 for i in range(1, 21)})\n",
    "    \n",
    "dict_values_square()"
   ]
  }
 ],
 "metadata": {
  "kernelspec": {
   "display_name": "Python 3 (ipykernel)",
   "language": "python",
   "name": "python3"
  },
  "language_info": {
   "codemirror_mode": {
    "name": "ipython",
    "version": 3
   },
   "file_extension": ".py",
   "mimetype": "text/x-python",
   "name": "python",
   "nbconvert_exporter": "python",
   "pygments_lexer": "ipython3",
   "version": "3.9.7"
  }
 },
 "nbformat": 4,
 "nbformat_minor": 5
}
