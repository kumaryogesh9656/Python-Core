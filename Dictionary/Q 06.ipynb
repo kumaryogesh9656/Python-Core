{
 "cells": [
  {
   "cell_type": "markdown",
   "id": "29774eb5",
   "metadata": {},
   "source": [
    "**Write a program to add the values of given dictionary.** <br/>\n",
    "d1 = {1:2, 2:90, 3:50}"
   ]
  },
  {
   "cell_type": "code",
   "execution_count": 1,
   "id": "a870db6a",
   "metadata": {},
   "outputs": [
    {
     "name": "stdout",
     "output_type": "stream",
     "text": [
      "142\n"
     ]
    }
   ],
   "source": [
    "d1 = {1:2, 2:90, 3:50}\n",
    "\n",
    "print (sum(d1.values()))"
   ]
  }
 ],
 "metadata": {
  "kernelspec": {
   "display_name": "Python 3 (ipykernel)",
   "language": "python",
   "name": "python3"
  },
  "language_info": {
   "codemirror_mode": {
    "name": "ipython",
    "version": 3
   },
   "file_extension": ".py",
   "mimetype": "text/x-python",
   "name": "python",
   "nbconvert_exporter": "python",
   "pygments_lexer": "ipython3",
   "version": "3.9.7"
  }
 },
 "nbformat": 4,
 "nbformat_minor": 5
}
