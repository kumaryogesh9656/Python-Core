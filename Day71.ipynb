{
 "cells": [
  {
   "cell_type": "markdown",
   "id": "2e1c4be9",
   "metadata": {},
   "source": [
    "**Write a Python program to find palindromes in a given list of strings using Lambda.** <br/>\n",
    "Orginal list of strings: <br/>\n",
    "['php', 'Python', 'abcd', 'Java', 'aaa']\n",
    "\n",
    "List of palindromes: <br/>\n",
    "['php', 'aaa']"
   ]
  },
  {
   "cell_type": "code",
   "execution_count": 1,
   "id": "ad6a6ef7",
   "metadata": {},
   "outputs": [
    {
     "name": "stdout",
     "output_type": "stream",
     "text": [
      "Orginal list of strings:\n",
      "['php', 'Python', 'abcd', 'Java', 'aaa']\n",
      "\n",
      "List of palindromes:\n",
      "['php', 'aaa']\n"
     ]
    }
   ],
   "source": [
    "print ('Orginal list of strings:')\n",
    "print (\"['php', 'Python', 'abcd', 'Java', 'aaa']\")\n",
    "\n",
    "print ('\\nList of palindromes:')\n",
    "print (list(filter(lambda x:x[:] == x[::-1], ['php', 'Python', 'abcd', 'Java', 'aaa'])))"
   ]
  }
 ],
 "metadata": {
  "kernelspec": {
   "display_name": "Python 3 (ipykernel)",
   "language": "python",
   "name": "python3"
  },
  "language_info": {
   "codemirror_mode": {
    "name": "ipython",
    "version": 3
   },
   "file_extension": ".py",
   "mimetype": "text/x-python",
   "name": "python",
   "nbconvert_exporter": "python",
   "pygments_lexer": "ipython3",
   "version": "3.9.7"
  }
 },
 "nbformat": 4,
 "nbformat_minor": 5
}
