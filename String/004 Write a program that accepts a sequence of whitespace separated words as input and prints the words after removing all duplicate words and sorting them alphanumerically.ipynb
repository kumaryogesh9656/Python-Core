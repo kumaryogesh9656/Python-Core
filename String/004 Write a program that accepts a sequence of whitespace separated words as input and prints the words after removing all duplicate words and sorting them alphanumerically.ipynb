{
 "cells": [
  {
   "cell_type": "markdown",
   "id": "47f9dae7",
   "metadata": {},
   "source": [
    "**Write a program that accepts a sequence of whitespace separated words as input and prints the words after removing all duplicate words and sorting them alphanumerically.**"
   ]
  },
  {
   "cell_type": "code",
   "execution_count": 1,
   "id": "febedc77",
   "metadata": {},
   "outputs": [
    {
     "name": "stdout",
     "output_type": "stream",
     "text": [
      "Enter a sequence of words: hello world and practice makes perfect and hello world again\n",
      "\n",
      "again and hello makes perfect practice world\n"
     ]
    }
   ],
   "source": [
    "words = input(\"Enter a sequence of words: \").split(\" \")\n",
    "print (\"\")\n",
    "l = []\n",
    "\n",
    "for i in words:\n",
    "    if i not in l:\n",
    "        l.append(i)\n",
    "        l.sort()\n",
    "        \n",
    "print (\" \".join(l))"
   ]
  }
 ],
 "metadata": {
  "kernelspec": {
   "display_name": "Python 3 (ipykernel)",
   "language": "python",
   "name": "python3"
  },
  "language_info": {
   "codemirror_mode": {
    "name": "ipython",
    "version": 3
   },
   "file_extension": ".py",
   "mimetype": "text/x-python",
   "name": "python",
   "nbconvert_exporter": "python",
   "pygments_lexer": "ipython3",
   "version": "3.9.7"
  }
 },
 "nbformat": 4,
 "nbformat_minor": 5
}
