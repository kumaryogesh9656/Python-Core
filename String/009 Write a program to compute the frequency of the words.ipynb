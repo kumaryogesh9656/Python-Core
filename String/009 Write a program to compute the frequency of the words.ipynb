{
 "cells": [
  {
   "cell_type": "markdown",
   "id": "e233a8f2",
   "metadata": {},
   "source": [
    "**Write a program to compute the frequency of the words from the input. The output should output after sorting the key alphanumerically.**"
   ]
  },
  {
   "cell_type": "code",
   "execution_count": 1,
   "id": "b216f926",
   "metadata": {},
   "outputs": [
    {
     "name": "stdout",
     "output_type": "stream",
     "text": [
      "Enter a sentence: New to Python or choosing between Python 2 and Python 3? Read Python 2 or Python 3.\n",
      "2: 2\n",
      "3.: 1\n",
      "3?: 1\n",
      "New: 1\n",
      "Python: 5\n",
      "Read: 1\n",
      "and: 1\n",
      "between: 1\n",
      "choosing: 1\n",
      "or: 2\n",
      "to: 1\n"
     ]
    }
   ],
   "source": [
    "words = input(\"Enter a sentence: \")\n",
    "l = []\n",
    "\n",
    "for i in words.split():\n",
    "    if i not in l:\n",
    "        l.append(i)\n",
    "        l.sort()\n",
    "\n",
    "for j in range(len(l)):\n",
    "    print (f\"{l[j]}: {words.count(l[j])}\")"
   ]
  }
 ],
 "metadata": {
  "kernelspec": {
   "display_name": "Python 3 (ipykernel)",
   "language": "python",
   "name": "python3"
  },
  "language_info": {
   "codemirror_mode": {
    "name": "ipython",
    "version": 3
   },
   "file_extension": ".py",
   "mimetype": "text/x-python",
   "name": "python",
   "nbconvert_exporter": "python",
   "pygments_lexer": "ipython3",
   "version": "3.9.7"
  }
 },
 "nbformat": 4,
 "nbformat_minor": 5
}
