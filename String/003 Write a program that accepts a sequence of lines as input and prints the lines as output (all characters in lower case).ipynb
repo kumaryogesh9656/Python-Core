{
 "cells": [
  {
   "cell_type": "markdown",
   "id": "cab36499",
   "metadata": {},
   "source": [
    "**Write a program that accepts a sequence of lines (blank line to terminate) as input and prints the lines as output (all characters in lower case).**"
   ]
  },
  {
   "cell_type": "code",
   "execution_count": 1,
   "id": "ec521be7",
   "metadata": {},
   "outputs": [
    {
     "name": "stdout",
     "output_type": "stream",
     "text": [
      "Today is 13th March 2022\n",
      "\n",
      "today is 13th march 2022\n"
     ]
    }
   ],
   "source": [
    "l = []\n",
    "\n",
    "while True:\n",
    "    lines = input()\n",
    "    if lines:\n",
    "        l.append(lines.lower())    \n",
    "    else:\n",
    "        break\n",
    "        \n",
    "for i in l:\n",
    "    print (i)"
   ]
  }
 ],
 "metadata": {
  "kernelspec": {
   "display_name": "Python 3 (ipykernel)",
   "language": "python",
   "name": "python3"
  },
  "language_info": {
   "codemirror_mode": {
    "name": "ipython",
    "version": 3
   },
   "file_extension": ".py",
   "mimetype": "text/x-python",
   "name": "python",
   "nbconvert_exporter": "python",
   "pygments_lexer": "ipython3",
   "version": "3.9.7"
  }
 },
 "nbformat": 4,
 "nbformat_minor": 5
}
