{
 "cells": [
  {
   "cell_type": "markdown",
   "id": "5ac275bb",
   "metadata": {},
   "source": [
    "**Write a program which accepts a string from console and print the characters that have even indexes.**"
   ]
  },
  {
   "cell_type": "code",
   "execution_count": 1,
   "id": "90da439e",
   "metadata": {},
   "outputs": [
    {
     "name": "stdout",
     "output_type": "stream",
     "text": [
      "Enter a string: H1e2l3l4o5W6o7r8l9d\n",
      "\n",
      "HelloWorld\n"
     ]
    }
   ],
   "source": [
    "string = input(\"Enter a string: \")\n",
    "print (\"\")\n",
    "\n",
    "print (string[::2])"
   ]
  }
 ],
 "metadata": {
  "kernelspec": {
   "display_name": "Python 3 (ipykernel)",
   "language": "python",
   "name": "python3"
  },
  "language_info": {
   "codemirror_mode": {
    "name": "ipython",
    "version": 3
   },
   "file_extension": ".py",
   "mimetype": "text/x-python",
   "name": "python",
   "nbconvert_exporter": "python",
   "pygments_lexer": "ipython3",
   "version": "3.9.7"
  }
 },
 "nbformat": 4,
 "nbformat_minor": 5
}
