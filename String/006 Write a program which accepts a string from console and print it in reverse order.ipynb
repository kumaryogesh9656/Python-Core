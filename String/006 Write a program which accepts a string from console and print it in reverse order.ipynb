{
 "cells": [
  {
   "cell_type": "markdown",
   "id": "b22f87c1",
   "metadata": {},
   "source": [
    "**Write a program which accepts a string from console and print it in reverse order.**"
   ]
  },
  {
   "cell_type": "code",
   "execution_count": 1,
   "id": "d61bf7a8",
   "metadata": {},
   "outputs": [
    {
     "name": "stdout",
     "output_type": "stream",
     "text": [
      "Enter a string: rise to vote sir\n",
      "\n",
      "ris etov ot esir"
     ]
    }
   ],
   "source": [
    "s = input(\"Enter a string: \")\n",
    "print (\"\")\n",
    "a = s[::-1]\n",
    "\n",
    "for i in a:\n",
    "    print (i, end = \"\")"
   ]
  },
  {
   "cell_type": "markdown",
   "id": "0516700b",
   "metadata": {},
   "source": [
    "**OR**"
   ]
  },
  {
   "cell_type": "code",
   "execution_count": 1,
   "id": "441eca2e",
   "metadata": {},
   "outputs": [
    {
     "name": "stdout",
     "output_type": "stream",
     "text": [
      "Enter a string: rise to vote sir\n",
      "\n",
      "ris etov ot esir\n"
     ]
    }
   ],
   "source": [
    "s = input(\"Enter a string: \")\n",
    "print (\"\")\n",
    "\n",
    "def reverse():\n",
    "    print (s[::-1])\n",
    "\n",
    "reverse()"
   ]
  }
 ],
 "metadata": {
  "kernelspec": {
   "display_name": "Python 3 (ipykernel)",
   "language": "python",
   "name": "python3"
  },
  "language_info": {
   "codemirror_mode": {
    "name": "ipython",
    "version": 3
   },
   "file_extension": ".py",
   "mimetype": "text/x-python",
   "name": "python",
   "nbconvert_exporter": "python",
   "pygments_lexer": "ipython3",
   "version": "3.9.7"
  }
 },
 "nbformat": 4,
 "nbformat_minor": 5
}
