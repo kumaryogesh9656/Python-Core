{
 "cells": [
  {
   "cell_type": "markdown",
   "id": "db00502d",
   "metadata": {},
   "source": [
    "**Write a program that accepts a comma separated sequence of words as input and prints the words in a comma-separated sequence after sorting them alphabetically.** <br/> \n",
    "Suppose the input is supplied to the program: without, hello, bag, world <br/> \n",
    "Then, the output should be: bag, hello, without, world "
   ]
  },
  {
   "cell_type": "code",
   "execution_count": 2,
   "id": "dd97b3b7",
   "metadata": {},
   "outputs": [
    {
     "name": "stdout",
     "output_type": "stream",
     "text": [
      "Enter your words: without, hello, bag, world\n"
     ]
    }
   ],
   "source": [
    "words = input('Enter your words: ').split(', ')"
   ]
  },
  {
   "cell_type": "code",
   "execution_count": 3,
   "id": "02fc0efd",
   "metadata": {},
   "outputs": [
    {
     "name": "stdout",
     "output_type": "stream",
     "text": [
      "bag, hello, without, world\n"
     ]
    }
   ],
   "source": [
    "l = []\n",
    "\n",
    "for i in words:\n",
    "    l.append(i)\n",
    "    l.sort()\n",
    "    \n",
    "print (', '.join(l))"
   ]
  },
  {
   "cell_type": "markdown",
   "id": "fd9ec5f4",
   "metadata": {},
   "source": [
    "**Write a program that accepts sequence of lines as input and prints the lines after making all characters in the sentence capitalized.** <br/>\n",
    "Suppose the input is supplied to the program: Hello world <br/>\n",
    "Practice makes perfect <br/>\n",
    "Then, the output should be: HELLO WORLD <br/>\n",
    "PRACTICE MAKES PERFECT "
   ]
  },
  {
   "cell_type": "code",
   "execution_count": 4,
   "id": "7ba8bc49",
   "metadata": {},
   "outputs": [
    {
     "name": "stdout",
     "output_type": "stream",
     "text": [
      "Enter lines: Hello world\n",
      "Enter lines: Practice makes perfect\n",
      "Enter lines: \n",
      "HELLO WORLD\n",
      "PRACTICE MAKES PERFECT\n"
     ]
    }
   ],
   "source": [
    "l = []\n",
    "\n",
    "while True:\n",
    "    lines = input('Enter lines: ')\n",
    "    if lines:\n",
    "        l.append(lines.upper())\n",
    "    else:\n",
    "        break\n",
    "        \n",
    "for i in l:\n",
    "    print (i)"
   ]
  },
  {
   "cell_type": "markdown",
   "id": "874a4059",
   "metadata": {},
   "source": [
    "**Write a program that accepts a sequence of whitespace separated words as input and prints the words after removing all duplicate words and sorting them alphanumerically.** <br/>\n",
    "Suppose the input is supplied to the program: hello world and practice makes perfect and hello world again <br/>\n",
    "Then, the output should be: again and hello makes perfect practice world"
   ]
  },
  {
   "cell_type": "code",
   "execution_count": 6,
   "id": "361a0a0b",
   "metadata": {},
   "outputs": [
    {
     "name": "stdout",
     "output_type": "stream",
     "text": [
      "Enter words: hello world and practice makes perfect and hello world again\n"
     ]
    }
   ],
   "source": [
    "words = input('Enter words: ').split(' ')"
   ]
  },
  {
   "cell_type": "code",
   "execution_count": 7,
   "id": "2523920e",
   "metadata": {},
   "outputs": [
    {
     "name": "stdout",
     "output_type": "stream",
     "text": [
      "again and hello makes perfect practice world\n"
     ]
    }
   ],
   "source": [
    "l = []\n",
    "\n",
    "for i in words:\n",
    "    if i not in l:\n",
    "        l.append(i)\n",
    "        l.sort()\n",
    "        \n",
    "print (' '.join(l))"
   ]
  },
  {
   "cell_type": "markdown",
   "id": "626d2f23",
   "metadata": {},
   "source": [
    "**Write a program which accepts a sequence of comma separated 4 digit binary numbers as its input and then check whether they are divisible by 5 or not. The numbers that are divisible by 5 are to be printed in a comma separated sequence.** <br/>\n",
    "Suppose the input is supplied to the program: 0100,0011,1010,1001 <br/> \n",
    "Then the output should be: 1010 "
   ]
  },
  {
   "cell_type": "code",
   "execution_count": 8,
   "id": "597b23f8",
   "metadata": {},
   "outputs": [
    {
     "name": "stdout",
     "output_type": "stream",
     "text": [
      "Enter 4 digit binary numbers: 0001,0011,1010,1001\n",
      "1010\n"
     ]
    }
   ],
   "source": [
    "l = []\n",
    "num = input('Enter 4 digit binary numbers: ').split(',')\n",
    "for i in num:\n",
    "    d = int(i, 2)\n",
    "    if d % 5 == 0:\n",
    "        l.append(i)\n",
    "print(','.join(l))"
   ]
  }
 ],
 "metadata": {
  "kernelspec": {
   "display_name": "Python 3",
   "language": "python",
   "name": "python3"
  },
  "language_info": {
   "codemirror_mode": {
    "name": "ipython",
    "version": 3
   },
   "file_extension": ".py",
   "mimetype": "text/x-python",
   "name": "python",
   "nbconvert_exporter": "python",
   "pygments_lexer": "ipython3",
   "version": "3.8.8"
  }
 },
 "nbformat": 4,
 "nbformat_minor": 5
}
