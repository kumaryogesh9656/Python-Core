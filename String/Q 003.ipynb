{
 "cells": [
  {
   "cell_type": "markdown",
   "id": "b22f87c1",
   "metadata": {},
   "source": [
    "**Please write a program which accepts a string from console and print it in reverse order.** <br/>\n",
    "If the following string is given as input to the program: rise to vote sir <br/>\n",
    "Then, the output of the program should be: ris etov ot esir "
   ]
  },
  {
   "cell_type": "code",
   "execution_count": 1,
   "id": "d61bf7a8",
   "metadata": {},
   "outputs": [
    {
     "name": "stdout",
     "output_type": "stream",
     "text": [
      "Enter a string: rise to vote sir\n",
      "ris etov ot esir"
     ]
    }
   ],
   "source": [
    "s = input('Enter a string: ')\n",
    "a = s[::-1]\n",
    "\n",
    "for i in a:\n",
    "    print (i, end = '')"
   ]
  },
  {
   "cell_type": "markdown",
   "id": "0516700b",
   "metadata": {},
   "source": [
    "**OR**"
   ]
  },
  {
   "cell_type": "code",
   "execution_count": 2,
   "id": "441eca2e",
   "metadata": {},
   "outputs": [
    {
     "name": "stdout",
     "output_type": "stream",
     "text": [
      "ris etov ot esir\n"
     ]
    }
   ],
   "source": [
    "def reverse():\n",
    "    print (s[::-1])\n",
    "\n",
    "reverse()"
   ]
  }
 ],
 "metadata": {
  "kernelspec": {
   "display_name": "Python 3",
   "language": "python",
   "name": "python3"
  },
  "language_info": {
   "codemirror_mode": {
    "name": "ipython",
    "version": 3
   },
   "file_extension": ".py",
   "mimetype": "text/x-python",
   "name": "python",
   "nbconvert_exporter": "python",
   "pygments_lexer": "ipython3",
   "version": "3.8.8"
  }
 },
 "nbformat": 4,
 "nbformat_minor": 5
}
