{
 "cells": [
  {
   "cell_type": "markdown",
   "id": "0e164e16",
   "metadata": {},
   "source": [
    "**Write a program which accepts a string as input to print 'Yes' if the string is 'yes' or 'YES' or 'Yes', otherwise print 'No'.**"
   ]
  },
  {
   "cell_type": "code",
   "execution_count": 1,
   "id": "27cf31bb",
   "metadata": {},
   "outputs": [
    {
     "name": "stdout",
     "output_type": "stream",
     "text": [
      "Enter a string: yes\n",
      "Yes\n"
     ]
    }
   ],
   "source": [
    "s = input(\"Enter a string: \")\n",
    "\n",
    "if s == \"yes\" or s == \"YES\" or s == \"Yes\":\n",
    "    print (\"Yes\")\n",
    "else:\n",
    "    print (\"No\")"
   ]
  }
 ],
 "metadata": {
  "kernelspec": {
   "display_name": "Python 3 (ipykernel)",
   "language": "python",
   "name": "python3"
  },
  "language_info": {
   "codemirror_mode": {
    "name": "ipython",
    "version": 3
   },
   "file_extension": ".py",
   "mimetype": "text/x-python",
   "name": "python",
   "nbconvert_exporter": "python",
   "pygments_lexer": "ipython3",
   "version": "3.9.7"
  }
 },
 "nbformat": 4,
 "nbformat_minor": 5
}
