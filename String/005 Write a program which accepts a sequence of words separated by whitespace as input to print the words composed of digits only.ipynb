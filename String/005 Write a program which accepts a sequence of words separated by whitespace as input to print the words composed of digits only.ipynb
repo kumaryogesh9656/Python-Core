{
 "cells": [
  {
   "cell_type": "markdown",
   "id": "bbdb85be",
   "metadata": {},
   "source": [
    "**Write a program which accepts a sequence of words separated by whitespace as input to print the words composed of digits only.**"
   ]
  },
  {
   "cell_type": "code",
   "execution_count": 1,
   "id": "322bb82a",
   "metadata": {},
   "outputs": [
    {
     "name": "stdout",
     "output_type": "stream",
     "text": [
      "Enter a sequence of words: 2 cats and 3 dogs.\n",
      "\n",
      "['2', '3']\n"
     ]
    }
   ],
   "source": [
    "words = input(\"Enter a sequence of words: \")\n",
    "print (\"\")\n",
    "w = []\n",
    "\n",
    "for i in words:\n",
    "    if i.isdigit():\n",
    "        w.append(i)\n",
    "        \n",
    "print (w)"
   ]
  }
 ],
 "metadata": {
  "kernelspec": {
   "display_name": "Python 3 (ipykernel)",
   "language": "python",
   "name": "python3"
  },
  "language_info": {
   "codemirror_mode": {
    "name": "ipython",
    "version": 3
   },
   "file_extension": ".py",
   "mimetype": "text/x-python",
   "name": "python",
   "nbconvert_exporter": "python",
   "pygments_lexer": "ipython3",
   "version": "3.9.7"
  }
 },
 "nbformat": 4,
 "nbformat_minor": 5
}
