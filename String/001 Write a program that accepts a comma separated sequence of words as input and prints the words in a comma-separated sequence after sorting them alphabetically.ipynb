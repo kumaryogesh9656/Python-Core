{
 "cells": [
  {
   "cell_type": "markdown",
   "id": "db00502d",
   "metadata": {},
   "source": [
    "**Write a program that accepts a comma separated sequence of words as input and prints the words in a comma-separated sequence after sorting them alphabetically.**"
   ]
  },
  {
   "cell_type": "code",
   "execution_count": 1,
   "id": "02fc0efd",
   "metadata": {},
   "outputs": [
    {
     "name": "stdout",
     "output_type": "stream",
     "text": [
      "Enter your words: without, hello, bag, world\n",
      "bag, hello, without, world\n"
     ]
    }
   ],
   "source": [
    "words = input(\"Enter your words: \").split(\", \")\n",
    "l = []\n",
    "\n",
    "for i in words:\n",
    "    l.append(i)\n",
    "    l.sort()\n",
    "    \n",
    "print (\", \".join(l))"
   ]
  }
 ],
 "metadata": {
  "kernelspec": {
   "display_name": "Python 3 (ipykernel)",
   "language": "python",
   "name": "python3"
  },
  "language_info": {
   "codemirror_mode": {
    "name": "ipython",
    "version": 3
   },
   "file_extension": ".py",
   "mimetype": "text/x-python",
   "name": "python",
   "nbconvert_exporter": "python",
   "pygments_lexer": "ipython3",
   "version": "3.9.7"
  }
 },
 "nbformat": 4,
 "nbformat_minor": 5
}
