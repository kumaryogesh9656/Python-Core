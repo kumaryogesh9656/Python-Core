{
 "cells": [
  {
   "cell_type": "markdown",
   "id": "5ac275bb",
   "metadata": {},
   "source": [
    "**Please write a program which accepts a string from console and print the characters that have even indexes.** <br/>\n",
    "If the following string is given as input to the program: H1e2l3l4o5w6o7r8l9d <br/>\n",
    "Then, the output of the program should be: Helloworld "
   ]
  },
  {
   "cell_type": "code",
   "execution_count": 1,
   "id": "90da439e",
   "metadata": {},
   "outputs": [
    {
     "name": "stdout",
     "output_type": "stream",
     "text": [
      "Enter your string: H1e2l3l4o5w6o7r8l9d\n",
      "Helloworld\n"
     ]
    }
   ],
   "source": [
    "string = input('Enter your string: ')\n",
    "\n",
    "print (string[::2])"
   ]
  }
 ],
 "metadata": {
  "kernelspec": {
   "display_name": "Python 3",
   "language": "python",
   "name": "python3"
  },
  "language_info": {
   "codemirror_mode": {
    "name": "ipython",
    "version": 3
   },
   "file_extension": ".py",
   "mimetype": "text/x-python",
   "name": "python",
   "nbconvert_exporter": "python",
   "pygments_lexer": "ipython3",
   "version": "3.8.8"
  }
 },
 "nbformat": 4,
 "nbformat_minor": 5
}
