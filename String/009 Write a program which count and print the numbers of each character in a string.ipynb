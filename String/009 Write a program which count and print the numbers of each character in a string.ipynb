{
 "cells": [
  {
   "cell_type": "markdown",
   "id": "37c30f91",
   "metadata": {},
   "source": [
    "**Write a program which count and print the numbers of each character in a string input by console.**"
   ]
  },
  {
   "cell_type": "code",
   "execution_count": 1,
   "id": "fa8cfb5b",
   "metadata": {},
   "outputs": [
    {
     "name": "stdout",
     "output_type": "stream",
     "text": [
      "Enter a string: abcdefgabc\n",
      "\n",
      "a: 2\n",
      "b: 2\n",
      "c: 2\n",
      "d: 1\n",
      "e: 1\n",
      "f: 1\n",
      "g: 1\n"
     ]
    }
   ],
   "source": [
    "s = input(\"Enter a string: \")\n",
    "print (\"\")\n",
    "l = []\n",
    "\n",
    "for i in s:\n",
    "    if i not in l:\n",
    "        l.append(i)\n",
    "        \n",
    "for j in range(len(l)):\n",
    "    print (f\"{l[j]}: {s.count(l[j])}\")"
   ]
  }
 ],
 "metadata": {
  "kernelspec": {
   "display_name": "Python 3 (ipykernel)",
   "language": "python",
   "name": "python3"
  },
  "language_info": {
   "codemirror_mode": {
    "name": "ipython",
    "version": 3
   },
   "file_extension": ".py",
   "mimetype": "text/x-python",
   "name": "python",
   "nbconvert_exporter": "python",
   "pygments_lexer": "ipython3",
   "version": "3.9.7"
  }
 },
 "nbformat": 4,
 "nbformat_minor": 5
}
