{
 "cells": [
  {
   "cell_type": "markdown",
   "id": "10870703",
   "metadata": {},
   "source": [
    "**Write a program in python to display the maximum and minimum value in dictionary.**"
   ]
  },
  {
   "cell_type": "code",
   "execution_count": 1,
   "id": "915d9dfd",
   "metadata": {},
   "outputs": [
    {
     "name": "stdout",
     "output_type": "stream",
     "text": [
      "Maximum value: 90\n",
      "Minimum value: 2\n"
     ]
    }
   ],
   "source": [
    "d = {1:2, 2:90, 3:50}\n",
    "\n",
    "print (f\"Maximum value: {max(d.values())}\")\n",
    "print (f\"Minimum value: {min(d.values())}\")"
   ]
  }
 ],
 "metadata": {
  "kernelspec": {
   "display_name": "Python 3 (ipykernel)",
   "language": "python",
   "name": "python3"
  },
  "language_info": {
   "codemirror_mode": {
    "name": "ipython",
    "version": 3
   },
   "file_extension": ".py",
   "mimetype": "text/x-python",
   "name": "python",
   "nbconvert_exporter": "python",
   "pygments_lexer": "ipython3",
   "version": "3.9.7"
  }
 },
 "nbformat": 4,
 "nbformat_minor": 5
}
