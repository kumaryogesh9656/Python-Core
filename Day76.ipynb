{
 "cells": [
  {
   "cell_type": "markdown",
   "id": "554b7b9c",
   "metadata": {},
   "source": [
    "**Write a function previous(List, name) which is accepting list of names and a name and display the index value of the first occurence of the name passed in the list.**"
   ]
  },
  {
   "cell_type": "code",
   "execution_count": 1,
   "id": "582e687b",
   "metadata": {},
   "outputs": [
    {
     "name": "stdout",
     "output_type": "stream",
     "text": [
      "Index value: 5\n"
     ]
    }
   ],
   "source": [
    "name = [\"Amit\", \"Sumit\", \"Pooja\", \"Mini\", \"Ronit\", \"Poonam\"]\n",
    "\n",
    "def previous(List, name):\n",
    "        print (f\"Index value: {List.index(name)}\")\n",
    "        \n",
    "previous(name, \"Poonam\")"
   ]
  },
  {
   "cell_type": "markdown",
   "id": "dc22ce53",
   "metadata": {},
   "source": [
    "**OR**"
   ]
  },
  {
   "cell_type": "code",
   "execution_count": 1,
   "id": "286e8690",
   "metadata": {},
   "outputs": [
    {
     "name": "stdout",
     "output_type": "stream",
     "text": [
      "Index Value: 5\n"
     ]
    }
   ],
   "source": [
    "name = [\"Amit\", \"Sumit\", \"Pooja\", \"Mini\", \"Ronit\", \"Poonam\"]\n",
    "\n",
    "def previous(List, name):\n",
    "    c = -1\n",
    "    \n",
    "    for i in List:\n",
    "        c = c + 1\n",
    "        if i.lower() == name.lower():\n",
    "            print(f\"Index Value: {c}\") \n",
    "            break\n",
    "    else:\n",
    "        print(\"Name not found\")\n",
    "        \n",
    "previous(name, \"poonam\")"
   ]
  }
 ],
 "metadata": {
  "kernelspec": {
   "display_name": "Python 3 (ipykernel)",
   "language": "python",
   "name": "python3"
  },
  "language_info": {
   "codemirror_mode": {
    "name": "ipython",
    "version": 3
   },
   "file_extension": ".py",
   "mimetype": "text/x-python",
   "name": "python",
   "nbconvert_exporter": "python",
   "pygments_lexer": "ipython3",
   "version": "3.9.7"
  }
 },
 "nbformat": 4,
 "nbformat_minor": 5
}
