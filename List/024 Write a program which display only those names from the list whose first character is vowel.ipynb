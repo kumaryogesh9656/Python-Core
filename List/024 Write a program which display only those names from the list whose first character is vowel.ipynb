{
 "cells": [
  {
   "cell_type": "markdown",
   "id": "a1f816e9",
   "metadata": {},
   "source": [
    "**Write a program which display only those names from the list whose first character is vowel.**"
   ]
  },
  {
   "cell_type": "code",
   "execution_count": 1,
   "id": "bcb4f7b5",
   "metadata": {},
   "outputs": [
    {
     "name": "stdout",
     "output_type": "stream",
     "text": [
      "Amit\n",
      "Uma\n",
      "Emil\n"
     ]
    }
   ],
   "source": [
    "l = [\"Amit\", \"Suman\", \"Sumit\", \"Uma\", \"Emil\"]\n",
    "\n",
    "for i in l:\n",
    "    if i[0].lower() in \"aeiou\":\n",
    "        print (i)"
   ]
  }
 ],
 "metadata": {
  "kernelspec": {
   "display_name": "Python 3 (ipykernel)",
   "language": "python",
   "name": "python3"
  },
  "language_info": {
   "codemirror_mode": {
    "name": "ipython",
    "version": 3
   },
   "file_extension": ".py",
   "mimetype": "text/x-python",
   "name": "python",
   "nbconvert_exporter": "python",
   "pygments_lexer": "ipython3",
   "version": "3.9.7"
  }
 },
 "nbformat": 4,
 "nbformat_minor": 5
}
