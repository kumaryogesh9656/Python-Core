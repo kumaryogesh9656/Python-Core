{
 "cells": [
  {
   "cell_type": "markdown",
   "id": "7ce6854d",
   "metadata": {},
   "source": [
    "**Use a list comprehension to square each odd number in a list. The list is input by a sequence of comma-separated numbers.**"
   ]
  },
  {
   "cell_type": "code",
   "execution_count": 1,
   "id": "24abb9aa",
   "metadata": {},
   "outputs": [
    {
     "name": "stdout",
     "output_type": "stream",
     "text": [
      "Enter numbers: 1, 2, 3, 4, 5, 6, 7, 8, 9, 10\n",
      "\n",
      "[1, 9, 25, 49, 81]\n"
     ]
    }
   ],
   "source": [
    "l = list(input(\"Enter numbers: \").split(\", \"))\n",
    "print (\"\")\n",
    "\n",
    "print ([int(i) ** 2 for i in l if int(i) % 2 != 0])"
   ]
  }
 ],
 "metadata": {
  "kernelspec": {
   "display_name": "Python 3 (ipykernel)",
   "language": "python",
   "name": "python3"
  },
  "language_info": {
   "codemirror_mode": {
    "name": "ipython",
    "version": 3
   },
   "file_extension": ".py",
   "mimetype": "text/x-python",
   "name": "python",
   "nbconvert_exporter": "python",
   "pygments_lexer": "ipython3",
   "version": "3.9.7"
  }
 },
 "nbformat": 4,
 "nbformat_minor": 5
}
