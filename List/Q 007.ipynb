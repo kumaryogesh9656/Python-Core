{
 "cells": [
  {
   "cell_type": "markdown",
   "id": "877836d6",
   "metadata": {},
   "source": [
    "**Write a Python program to sum all the items in a list.**"
   ]
  },
  {
   "cell_type": "code",
   "execution_count": 1,
   "id": "52098e2f",
   "metadata": {},
   "outputs": [
    {
     "name": "stdout",
     "output_type": "stream",
     "text": [
      "55\n"
     ]
    }
   ],
   "source": [
    "l = [1, 2, 3, 4, 5, 6, 7, 8, 9, 10]\n",
    "sum = 0\n",
    "\n",
    "for i in l:\n",
    "    sum += i\n",
    "    \n",
    "print (sum)"
   ]
  },
  {
   "cell_type": "markdown",
   "id": "9fbdd8c2",
   "metadata": {},
   "source": [
    "**OR**"
   ]
  },
  {
   "cell_type": "code",
   "execution_count": 1,
   "id": "9eea59a4",
   "metadata": {},
   "outputs": [
    {
     "name": "stdout",
     "output_type": "stream",
     "text": [
      "110\n"
     ]
    }
   ],
   "source": [
    "def sum_list(items):\n",
    "    sum = 0\n",
    "    \n",
    "    for i in items:\n",
    "        sum = sum + i\n",
    "    \n",
    "    return sum\n",
    "\n",
    "print (sum_list([20, 34, 56]))"
   ]
  }
 ],
 "metadata": {
  "kernelspec": {
   "display_name": "Python 3 (ipykernel)",
   "language": "python",
   "name": "python3"
  },
  "language_info": {
   "codemirror_mode": {
    "name": "ipython",
    "version": 3
   },
   "file_extension": ".py",
   "mimetype": "text/x-python",
   "name": "python",
   "nbconvert_exporter": "python",
   "pygments_lexer": "ipython3",
   "version": "3.9.7"
  }
 },
 "nbformat": 4,
 "nbformat_minor": 5
}
