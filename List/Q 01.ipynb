{
 "cells": [
  {
   "cell_type": "markdown",
   "id": "7ce6854d",
   "metadata": {},
   "source": [
    "**Use a list comprehension to square each odd number in a list. The list is input by a sequence of comma-separated numbers.** <br/>\n",
    "Suppose the input is supplied to the program: 1,2,3,4,5,6,7,8,9 <br/>\n",
    "Then, the output should be: 1, 3, 5, 7, 9 "
   ]
  },
  {
   "cell_type": "code",
   "execution_count": 1,
   "id": "24abb9aa",
   "metadata": {},
   "outputs": [
    {
     "name": "stdout",
     "output_type": "stream",
     "text": [
      "Enter numbers: 1,2,3,4,5,6,7,8,9\n"
     ]
    }
   ],
   "source": [
    "l = input('Enter numbers: ').split(',')"
   ]
  },
  {
   "cell_type": "code",
   "execution_count": 2,
   "id": "1bcf7d0e",
   "metadata": {},
   "outputs": [
    {
     "name": "stdout",
     "output_type": "stream",
     "text": [
      "[1, 9, 25, 49, 81]\n"
     ]
    }
   ],
   "source": [
    "print ([int(i) ** 2 for i in l if int(i) % 2 != 0])"
   ]
  },
  {
   "cell_type": "markdown",
   "id": "fa15b870",
   "metadata": {},
   "source": [
    "**Write a program that computes the net amount of a bank account based a transaction log from console input. The transaction log format is shown as following: <br/>\n",
    "D 100 <br/>\n",
    "W 200** <br/>\n",
    "D means deposit while W means withdrawal. <br/>\n",
    "Suppose the input is supplied to the program: <br/>\n",
    "D 300 \n",
    "\n",
    "D 300 <br/>\n",
    "W 200 <br/>\n",
    "D 100 <br/>\n",
    "Then, the output should be: 500"
   ]
  },
  {
   "cell_type": "code",
   "execution_count": 4,
   "id": "2e34c246",
   "metadata": {},
   "outputs": [
    {
     "name": "stdout",
     "output_type": "stream",
     "text": [
      "Enter deposite amount: 300,300,100\n",
      "Enter withdraw amount: 200\n"
     ]
    }
   ],
   "source": [
    "d = input('Enter deposite amount: ').split(',')\n",
    "w = input('Enter withdraw amount: ').split(',')\n",
    "bal = 0"
   ]
  },
  {
   "cell_type": "code",
   "execution_count": 5,
   "id": "1d78abf9",
   "metadata": {},
   "outputs": [
    {
     "name": "stdout",
     "output_type": "stream",
     "text": [
      "500\n"
     ]
    }
   ],
   "source": [
    "d_sum = 0\n",
    "w_sum = 0\n",
    "\n",
    "for i in d:\n",
    "    x = int(i)\n",
    "    d_sum += x\n",
    "    \n",
    "for j in w:\n",
    "    y = int(j)\n",
    "    w_sum += y\n",
    "\n",
    "bal = d_sum - w_sum\n",
    "print (bal)"
   ]
  },
  {
   "cell_type": "markdown",
   "id": "36cb50f7",
   "metadata": {},
   "source": [
    "**A website requires the users to input username and password to register. Write a program to check the validity of password input by users. <br/>\n",
    "Following are the criteria for checking the password:** <br/>\n",
    "1. At least 1 letter between [a-z] <br/>\n",
    "2. At least 1 number between [0-9] <br/>\n",
    "1. At least 1 letter between [A-Z] <br/>\n",
    "3. At least 1 character from [$#@] <br/>\n",
    "4. Minimum length of transaction password: 6 <br/>\n",
    "5. Maximum length of transaction password: 12 <br/>\n",
    "**Your program should accept a sequence of comma separated passwords and will check them according to the above criteria. Passwords that match the criteria are to be printed, each separated by a comma.** <br/>\n",
    "If the following passwords are given as input to the program: ABd1234@1, a F1#, 2w3E*, 2We3345 <br/>\n",
    "Then, the output of the program should be: ABd1234@1 "
   ]
  },
  {
   "cell_type": "code",
   "execution_count": 6,
   "id": "7b179075",
   "metadata": {},
   "outputs": [
    {
     "name": "stdout",
     "output_type": "stream",
     "text": [
      "Enter your passwors: ABd1234@1,a F1#,2w3E*,2We3345\n"
     ]
    }
   ],
   "source": [
    "password = input('Enter your passwors: ').split(',')"
   ]
  },
  {
   "cell_type": "code",
   "execution_count": 7,
   "id": "e244cc7e",
   "metadata": {},
   "outputs": [
    {
     "name": "stdout",
     "output_type": "stream",
     "text": [
      "ABd1234@1\n"
     ]
    }
   ],
   "source": [
    "for i in password:\n",
    "    l, d, u, sc = 0, 0, 0, 0\n",
    "    \n",
    "    for j in i:               \n",
    "        if j.islower():\n",
    "            l += 1\n",
    "        elif j.isdigit():\n",
    "            d += 1\n",
    "        elif j.isupper():\n",
    "            u += 1\n",
    "        elif j in '@#$':\n",
    "            sc += 1\n",
    "        else:\n",
    "            continue\n",
    "    \n",
    "    if l > 0 and d > 0 and u > 0 and sc > 0 and len(i) >= 6 and len(i) <= 12:\n",
    "        print (i)\n",
    "    else:\n",
    "        continue"
   ]
  }
 ],
 "metadata": {
  "kernelspec": {
   "display_name": "Python 3",
   "language": "python",
   "name": "python3"
  },
  "language_info": {
   "codemirror_mode": {
    "name": "ipython",
    "version": 3
   },
   "file_extension": ".py",
   "mimetype": "text/x-python",
   "name": "python",
   "nbconvert_exporter": "python",
   "pygments_lexer": "ipython3",
   "version": "3.8.8"
  }
 },
 "nbformat": 4,
 "nbformat_minor": 5
}
