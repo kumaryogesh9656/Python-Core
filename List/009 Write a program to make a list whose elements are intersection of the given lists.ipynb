{
 "cells": [
  {
   "cell_type": "markdown",
   "id": "9be7bb0f",
   "metadata": {},
   "source": [
    "**With two given lists [1, 3, 6, 78, 35, 55] and [12, 24, 35, 24, 88, 120, 155], write a program to make a list whose elements are intersection of the above given lists.**"
   ]
  },
  {
   "cell_type": "code",
   "execution_count": 1,
   "id": "9522134b",
   "metadata": {},
   "outputs": [
    {
     "name": "stdout",
     "output_type": "stream",
     "text": [
      "[35]\n"
     ]
    }
   ],
   "source": [
    "l1 = [1, 3, 6, 78, 35, 55]\n",
    "l2 = [12, 24, 35, 24, 88, 120, 155]\n",
    "\n",
    "a = set(l1)\n",
    "b = set(l2)\n",
    "\n",
    "i =  a.intersection(b)\n",
    "print (list((i)))"
   ]
  }
 ],
 "metadata": {
  "kernelspec": {
   "display_name": "Python 3 (ipykernel)",
   "language": "python",
   "name": "python3"
  },
  "language_info": {
   "codemirror_mode": {
    "name": "ipython",
    "version": 3
   },
   "file_extension": ".py",
   "mimetype": "text/x-python",
   "name": "python",
   "nbconvert_exporter": "python",
   "pygments_lexer": "ipython3",
   "version": "3.9.7"
  }
 },
 "nbformat": 4,
 "nbformat_minor": 5
}
