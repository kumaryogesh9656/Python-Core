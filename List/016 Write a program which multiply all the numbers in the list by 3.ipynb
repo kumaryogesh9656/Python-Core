{
 "cells": [
  {
   "cell_type": "markdown",
   "id": "76793143",
   "metadata": {},
   "source": [
    "**Write a program which multiply all the numbers in the list by 3.**"
   ]
  },
  {
   "cell_type": "code",
   "execution_count": 1,
   "id": "fa264e5b",
   "metadata": {},
   "outputs": [
    {
     "name": "stdout",
     "output_type": "stream",
     "text": [
      "['Sumit', 3, 6, 'Pooja', 9, 12, 15]\n"
     ]
    }
   ],
   "source": [
    "l = [\"Sumit\", 1, 2, \"Pooja\", 3, 4, 5]\n",
    "\n",
    "for i in range(len(l)):\n",
    "    if str(l[i]).isdigit():\n",
    "        l[i] *= 3\n",
    "    \n",
    "print (l)"
   ]
  },
  {
   "cell_type": "markdown",
   "id": "86a03568",
   "metadata": {},
   "source": [
    "**OR**"
   ]
  },
  {
   "cell_type": "code",
   "execution_count": 1,
   "id": "36c7dbb2",
   "metadata": {},
   "outputs": [
    {
     "name": "stdout",
     "output_type": "stream",
     "text": [
      "['Sumit', 3, 6, 'Pooja', 9, 12, 15]\n"
     ]
    }
   ],
   "source": [
    "l = [\"Sumit\", 1, 2, \"Pooja\", 3, 4, 5]\n",
    "c = 0\n",
    "\n",
    "for i in l:\n",
    "    if str(i).isdigit():\n",
    "        l[c] *= 3\n",
    "    c += 1\n",
    "    \n",
    "print (l)"
   ]
  }
 ],
 "metadata": {
  "kernelspec": {
   "display_name": "Python 3 (ipykernel)",
   "language": "python",
   "name": "python3"
  },
  "language_info": {
   "codemirror_mode": {
    "name": "ipython",
    "version": 3
   },
   "file_extension": ".py",
   "mimetype": "text/x-python",
   "name": "python",
   "nbconvert_exporter": "python",
   "pygments_lexer": "ipython3",
   "version": "3.9.7"
  }
 },
 "nbformat": 4,
 "nbformat_minor": 5
}
