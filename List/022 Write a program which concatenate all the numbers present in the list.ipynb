{
 "cells": [
  {
   "cell_type": "markdown",
   "id": "d1b56a39",
   "metadata": {},
   "source": [
    "**Write a program which concatenate all the numbers present in the list.**"
   ]
  },
  {
   "cell_type": "code",
   "execution_count": 1,
   "id": "d60d6f3f",
   "metadata": {},
   "outputs": [
    {
     "name": "stdout",
     "output_type": "stream",
     "text": [
      "Original List: [12, 34, 43, 2, 34]\n",
      "\n",
      "123443234"
     ]
    }
   ],
   "source": [
    "l = [12, 34, 43, 2, 34]\n",
    "print (f\"Original List: {l}\")\n",
    "print (\"\")\n",
    "\n",
    "for i in l:\n",
    "    print (i, end = \"\")"
   ]
  },
  {
   "cell_type": "markdown",
   "id": "e6af1a93",
   "metadata": {},
   "source": [
    "**OR**"
   ]
  },
  {
   "cell_type": "code",
   "execution_count": 1,
   "id": "df519e96",
   "metadata": {},
   "outputs": [
    {
     "name": "stdout",
     "output_type": "stream",
     "text": [
      "Original List: [12, 34, 43, 2, 34]\n",
      "\n",
      "123443234\n"
     ]
    }
   ],
   "source": [
    "l = [12, 34, 43, 2, 34]\n",
    "r = \"\"\n",
    "print (f\"Original List: {l}\")\n",
    "print (\"\")\n",
    "\n",
    "for i in l:\n",
    "    r = r + str(i)\n",
    "\n",
    "print (r)"
   ]
  }
 ],
 "metadata": {
  "kernelspec": {
   "display_name": "Python 3 (ipykernel)",
   "language": "python",
   "name": "python3"
  },
  "language_info": {
   "codemirror_mode": {
    "name": "ipython",
    "version": 3
   },
   "file_extension": ".py",
   "mimetype": "text/x-python",
   "name": "python",
   "nbconvert_exporter": "python",
   "pygments_lexer": "ipython3",
   "version": "3.9.7"
  }
 },
 "nbformat": 4,
 "nbformat_minor": 5
}
