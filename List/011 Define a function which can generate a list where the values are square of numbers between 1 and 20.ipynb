{
 "cells": [
  {
   "cell_type": "markdown",
   "id": "361e1bbf",
   "metadata": {},
   "source": [
    "**Define a function which can generate a list where the values are square of numbers between 1 and 20 (both included). Then the function needs to print the last 5 elements in the list.**"
   ]
  },
  {
   "cell_type": "code",
   "execution_count": 1,
   "id": "770cff0d",
   "metadata": {},
   "outputs": [
    {
     "name": "stdout",
     "output_type": "stream",
     "text": [
      "[1, 4, 9, 16, 25]\n"
     ]
    }
   ],
   "source": [
    "def list_square():\n",
    "    l = [i ** 2 for i in range(1, 21)]\n",
    "    print(l[:5])\n",
    "    \n",
    "list_square()"
   ]
  },
  {
   "cell_type": "markdown",
   "id": "2547fa0d",
   "metadata": {},
   "source": [
    "**Define a function which can generate a list where the values are square of numbers between 1 and 20 (both included). Then the function needs to print all values except the first 5 elements in the list.**"
   ]
  },
  {
   "cell_type": "code",
   "execution_count": 2,
   "id": "fbf5b858",
   "metadata": {},
   "outputs": [
    {
     "name": "stdout",
     "output_type": "stream",
     "text": [
      "[36, 49, 64, 81, 100, 121, 144, 169, 196, 225, 256, 289, 324, 361, 400]\n"
     ]
    }
   ],
   "source": [
    "def list_square():\n",
    "    l = [i ** 2 for i in range(1, 21)]\n",
    "    print(l[5:])\n",
    "    \n",
    "list_square()"
   ]
  }
 ],
 "metadata": {
  "kernelspec": {
   "display_name": "Python 3 (ipykernel)",
   "language": "python",
   "name": "python3"
  },
  "language_info": {
   "codemirror_mode": {
    "name": "ipython",
    "version": 3
   },
   "file_extension": ".py",
   "mimetype": "text/x-python",
   "name": "python",
   "nbconvert_exporter": "python",
   "pygments_lexer": "ipython3",
   "version": "3.9.7"
  }
 },
 "nbformat": 4,
 "nbformat_minor": 5
}
