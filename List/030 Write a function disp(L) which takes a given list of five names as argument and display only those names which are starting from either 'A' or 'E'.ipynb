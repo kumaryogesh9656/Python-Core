{
 "cells": [
  {
   "cell_type": "markdown",
   "id": "f81c8f3d",
   "metadata": {},
   "source": [
    "**Write a function disp(L) which takes a given list of five names as argument and display only those names which are starting from either 'A' or 'E'.**"
   ]
  },
  {
   "cell_type": "code",
   "execution_count": 1,
   "id": "01fa3602",
   "metadata": {},
   "outputs": [
    {
     "name": "stdout",
     "output_type": "stream",
     "text": [
      "Amit\n",
      "Esha\n",
      "Anuj\n"
     ]
    }
   ],
   "source": [
    "l = [\"Amit\", \"Esha\", \"Sumit\", \"Naman\", \"Anuj\"]\n",
    "\n",
    "def disp(L):\n",
    "    for i in L:\n",
    "        if i[0].lower() in \"ae\":\n",
    "            print (i)\n",
    "            \n",
    "disp(l)"
   ]
  }
 ],
 "metadata": {
  "kernelspec": {
   "display_name": "Python 3 (ipykernel)",
   "language": "python",
   "name": "python3"
  },
  "language_info": {
   "codemirror_mode": {
    "name": "ipython",
    "version": 3
   },
   "file_extension": ".py",
   "mimetype": "text/x-python",
   "name": "python",
   "nbconvert_exporter": "python",
   "pygments_lexer": "ipython3",
   "version": "3.9.7"
  }
 },
 "nbformat": 4,
 "nbformat_minor": 5
}
