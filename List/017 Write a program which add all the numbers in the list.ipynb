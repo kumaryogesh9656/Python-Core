{
 "cells": [
  {
   "cell_type": "markdown",
   "id": "72e77f83",
   "metadata": {},
   "source": [
    "**Write a program which add all the numbers in the list.**"
   ]
  },
  {
   "cell_type": "code",
   "execution_count": 1,
   "id": "e413e43b",
   "metadata": {},
   "outputs": [
    {
     "name": "stdout",
     "output_type": "stream",
     "text": [
      "15\n"
     ]
    }
   ],
   "source": [
    "l = [\"Sumit\", 1, 2, \"Pooja\", 3, 4, 5]\n",
    "sum = 0\n",
    "\n",
    "for i in range(len(l)):\n",
    "    if str(l[i]).isdigit():\n",
    "        sum += l[i]\n",
    "\n",
    "print (sum)"
   ]
  },
  {
   "cell_type": "markdown",
   "id": "6f71c6cc",
   "metadata": {},
   "source": [
    "**OR**"
   ]
  },
  {
   "cell_type": "code",
   "execution_count": 1,
   "id": "082afda0",
   "metadata": {},
   "outputs": [
    {
     "name": "stdout",
     "output_type": "stream",
     "text": [
      "15\n"
     ]
    }
   ],
   "source": [
    "l = [\"Sumit\", 1, 2, \"Pooja\", 3, 4, 5]\n",
    "sum = 0\n",
    "\n",
    "for i in l:\n",
    "    if str(i).isdigit():\n",
    "        sum += i\n",
    "\n",
    "print (sum)"
   ]
  }
 ],
 "metadata": {
  "kernelspec": {
   "display_name": "Python 3 (ipykernel)",
   "language": "python",
   "name": "python3"
  },
  "language_info": {
   "codemirror_mode": {
    "name": "ipython",
    "version": 3
   },
   "file_extension": ".py",
   "mimetype": "text/x-python",
   "name": "python",
   "nbconvert_exporter": "python",
   "pygments_lexer": "ipython3",
   "version": "3.9.7"
  }
 },
 "nbformat": 4,
 "nbformat_minor": 5
}
