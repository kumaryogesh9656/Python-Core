{
 "cells": [
  {
   "cell_type": "markdown",
   "id": "16f2f8db",
   "metadata": {},
   "source": [
    "**Write a program which removes the last element from the list and insert it in the beginning.**"
   ]
  },
  {
   "cell_type": "code",
   "execution_count": 1,
   "id": "feb89d6b",
   "metadata": {},
   "outputs": [
    {
     "name": "stdout",
     "output_type": "stream",
     "text": [
      "Original List: [1, 3, 2, 34, 'amit', 7, 5]\n",
      "\n",
      "New List: [5, 1, 3, 2, 34, 'amit', 7]\n"
     ]
    }
   ],
   "source": [
    "l = [1, 3, 2, 34, \"amit\", 7, 5]\n",
    "print (f\"Original List: {l}\")\n",
    "n = []\n",
    "\n",
    "for i in range(len(l)):\n",
    "    n.append(l[i - 1])\n",
    "    \n",
    "print (f\"\\nNew List: {n}\")"
   ]
  },
  {
   "cell_type": "markdown",
   "id": "0ef853e4",
   "metadata": {},
   "source": [
    "**OR**"
   ]
  },
  {
   "cell_type": "code",
   "execution_count": 1,
   "id": "ef98b3b9",
   "metadata": {},
   "outputs": [
    {
     "name": "stdout",
     "output_type": "stream",
     "text": [
      "Original List: [1, 3, 2, 34, 'amit', 7, 5]\n",
      "\n",
      "New List: [5, 1, 3, 2, 34, 'amit', 7]\n"
     ]
    }
   ],
   "source": [
    "l = [1, 3, 2, 34, \"amit\", 7, 5]\n",
    "print (f\"Original List: {l}\")\n",
    "\n",
    "l.insert(0, l.pop())\n",
    "print (f\"\\nNew List: {l}\")"
   ]
  }
 ],
 "metadata": {
  "kernelspec": {
   "display_name": "Python 3 (ipykernel)",
   "language": "python",
   "name": "python3"
  },
  "language_info": {
   "codemirror_mode": {
    "name": "ipython",
    "version": 3
   },
   "file_extension": ".py",
   "mimetype": "text/x-python",
   "name": "python",
   "nbconvert_exporter": "python",
   "pygments_lexer": "ipython3",
   "version": "3.9.7"
  }
 },
 "nbformat": 4,
 "nbformat_minor": 5
}
