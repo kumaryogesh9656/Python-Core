{
 "cells": [
  {
   "cell_type": "markdown",
   "id": "16f2f8db",
   "metadata": {},
   "source": [
    "**Write a program in python which removes the last element from the list and insert it in the beginning. Like** <br/>\n",
    "Original List: L = [1, 3, 2, 34, \"amit\", 7, 5]\n",
    "\n",
    "New List: L = [5, 1, 3, 2, 34, \"amit\", 7]"
   ]
  },
  {
   "cell_type": "code",
   "execution_count": 1,
   "id": "feb89d6b",
   "metadata": {},
   "outputs": [
    {
     "name": "stdout",
     "output_type": "stream",
     "text": [
      "Original List: [1, 3, 2, 34, 'amit', 7, 5]\n",
      "\n",
      "New List: [5, 1, 3, 2, 34, 'amit', 7]\n"
     ]
    }
   ],
   "source": [
    "L = [1, 3, 2, 34, \"amit\", 7, 5]\n",
    "print (f\"Original List: {L}\")\n",
    "N = []\n",
    "\n",
    "for i in range(len(L)):\n",
    "    N.append(L[i - 1])\n",
    "    \n",
    "print (f\"\\nNew List: {N}\")"
   ]
  },
  {
   "cell_type": "markdown",
   "id": "0ef853e4",
   "metadata": {},
   "source": [
    "**OR**"
   ]
  },
  {
   "cell_type": "code",
   "execution_count": 1,
   "id": "ef98b3b9",
   "metadata": {},
   "outputs": [
    {
     "name": "stdout",
     "output_type": "stream",
     "text": [
      "Original List: [1, 3, 2, 34, 'amit', 7, 5]\n",
      "\n",
      "New List: [5, 1, 3, 2, 34, 'amit', 7]\n"
     ]
    }
   ],
   "source": [
    "L = [1, 3, 2, 34, \"amit\", 7, 5]\n",
    "print (f\"Original List: {L}\")\n",
    "\n",
    "L.insert(0, L.pop())\n",
    "print (f\"\\nNew List: {L}\")"
   ]
  }
 ],
 "metadata": {
  "kernelspec": {
   "display_name": "Python 3 (ipykernel)",
   "language": "python",
   "name": "python3"
  },
  "language_info": {
   "codemirror_mode": {
    "name": "ipython",
    "version": 3
   },
   "file_extension": ".py",
   "mimetype": "text/x-python",
   "name": "python",
   "nbconvert_exporter": "python",
   "pygments_lexer": "ipython3",
   "version": "3.9.7"
  }
 },
 "nbformat": 4,
 "nbformat_minor": 5
}
