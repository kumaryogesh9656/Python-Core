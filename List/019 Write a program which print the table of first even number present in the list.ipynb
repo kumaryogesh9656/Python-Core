{
 "cells": [
  {
   "cell_type": "markdown",
   "id": "f6aa7539",
   "metadata": {},
   "source": [
    "**Write a program which print the table of first even number present in the list.**"
   ]
  },
  {
   "cell_type": "code",
   "execution_count": 1,
   "id": "7e86f66e",
   "metadata": {},
   "outputs": [
    {
     "name": "stdout",
     "output_type": "stream",
     "text": [
      "6 x 1 = 6\n",
      "6 x 2 = 12\n",
      "6 x 3 = 18\n",
      "6 x 4 = 24\n",
      "6 x 5 = 30\n",
      "6 x 6 = 36\n",
      "6 x 7 = 42\n",
      "6 x 8 = 48\n",
      "6 x 9 = 54\n",
      "6 x 10 = 60\n"
     ]
    }
   ],
   "source": [
    "l = [23, 13, 101, 6, 81, 9, 4]\n",
    "\n",
    "for i in range(len(l)):\n",
    "    if l[i] % 2 == 0:\n",
    "        for j in range(1, 11):\n",
    "            print (f\"{l[i]} x {j} = {l[i] * j}\")\n",
    "        break"
   ]
  }
 ],
 "metadata": {
  "kernelspec": {
   "display_name": "Python 3 (ipykernel)",
   "language": "python",
   "name": "python3"
  },
  "language_info": {
   "codemirror_mode": {
    "name": "ipython",
    "version": 3
   },
   "file_extension": ".py",
   "mimetype": "text/x-python",
   "name": "python",
   "nbconvert_exporter": "python",
   "pygments_lexer": "ipython3",
   "version": "3.9.7"
  }
 },
 "nbformat": 4,
 "nbformat_minor": 5
}
