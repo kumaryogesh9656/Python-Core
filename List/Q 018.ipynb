{
 "cells": [
  {
   "cell_type": "markdown",
   "id": "358846b0",
   "metadata": {},
   "source": [
    "**Write a program in python which display only those names from the list which have 'i' as second last character. Like L = [\"Amit\", \"Suman\", \"Sumit\", \"Anil\"]**"
   ]
  },
  {
   "cell_type": "code",
   "execution_count": 1,
   "id": "e96710ae",
   "metadata": {},
   "outputs": [
    {
     "name": "stdout",
     "output_type": "stream",
     "text": [
      "Amit\n",
      "Sumit\n",
      "Anil\n"
     ]
    }
   ],
   "source": [
    "L = [\"Amit\", \"Suman\", \"Sumit\", \"Anil\"]\n",
    "\n",
    "for i in L:\n",
    "    if i[-2] == \"i\":\n",
    "        print (i)"
   ]
  }
 ],
 "metadata": {
  "kernelspec": {
   "display_name": "Python 3 (ipykernel)",
   "language": "python",
   "name": "python3"
  },
  "language_info": {
   "codemirror_mode": {
    "name": "ipython",
    "version": 3
   },
   "file_extension": ".py",
   "mimetype": "text/x-python",
   "name": "python",
   "nbconvert_exporter": "python",
   "pygments_lexer": "ipython3",
   "version": "3.9.7"
  }
 },
 "nbformat": 4,
 "nbformat_minor": 5
}
