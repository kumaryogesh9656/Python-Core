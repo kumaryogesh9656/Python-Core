{
 "cells": [
  {
   "cell_type": "markdown",
   "id": "5d4c0e7c",
   "metadata": {},
   "source": [
    "**With a given list [12, 24, 35, 24, 88, 120, 155, 88, 120, 155], write a program to print this list after removing all duplicate values with original order reserved.**"
   ]
  },
  {
   "cell_type": "code",
   "execution_count": 3,
   "id": "35b743b0",
   "metadata": {},
   "outputs": [
    {
     "name": "stdout",
     "output_type": "stream",
     "text": [
      "[155, 120, 88, 35, 24, 12]\n"
     ]
    }
   ],
   "source": [
    "l = [12, 24, 35, 24, 88, 120, 155, 88, 120, 155]\n",
    "a = set()\n",
    "m = []\n",
    "\n",
    "for i in l:\n",
    "    if i not in a:\n",
    "        m.append(i)\n",
    "        a.add(i)\n",
    "        \n",
    "\n",
    "print (m[::-1])"
   ]
  }
 ],
 "metadata": {
  "kernelspec": {
   "display_name": "Python 3",
   "language": "python",
   "name": "python3"
  },
  "language_info": {
   "codemirror_mode": {
    "name": "ipython",
    "version": 3
   },
   "file_extension": ".py",
   "mimetype": "text/x-python",
   "name": "python",
   "nbconvert_exporter": "python",
   "pygments_lexer": "ipython3",
   "version": "3.8.8"
  }
 },
 "nbformat": 4,
 "nbformat_minor": 5
}
