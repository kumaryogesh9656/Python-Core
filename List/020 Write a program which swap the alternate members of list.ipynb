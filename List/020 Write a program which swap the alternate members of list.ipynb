{
 "cells": [
  {
   "cell_type": "markdown",
   "id": "abd18d9a",
   "metadata": {},
   "source": [
    "**Write a program which swap the alternate members of list. (assuming that even number of elements in the list)**"
   ]
  },
  {
   "cell_type": "code",
   "execution_count": 1,
   "id": "824509dd",
   "metadata": {},
   "outputs": [
    {
     "name": "stdout",
     "output_type": "stream",
     "text": [
      "Original List: [23, 45, 67, 29, 12, 1]\n",
      "\n",
      "After Swaping: [45, 23, 29, 67, 1, 12]\n"
     ]
    }
   ],
   "source": [
    "l = [23, 45, 67, 29, 12, 1]\n",
    "print (f\"Original List: {l}\")\n",
    "\n",
    "for i in range(0, len(l), 2):\n",
    "    l[i], l[i + 1] = l[i + 1], l[i]\n",
    "\n",
    "print (f\"\\nAfter Swaping: {l}\")"
   ]
  }
 ],
 "metadata": {
  "kernelspec": {
   "display_name": "Python 3 (ipykernel)",
   "language": "python",
   "name": "python3"
  },
  "language_info": {
   "codemirror_mode": {
    "name": "ipython",
    "version": 3
   },
   "file_extension": ".py",
   "mimetype": "text/x-python",
   "name": "python",
   "nbconvert_exporter": "python",
   "pygments_lexer": "ipython3",
   "version": "3.9.7"
  }
 },
 "nbformat": 4,
 "nbformat_minor": 5
}
