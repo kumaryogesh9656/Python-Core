{
 "cells": [
  {
   "cell_type": "markdown",
   "id": "685d12f2",
   "metadata": {},
   "source": [
    "**By using list comprehension, please write a program to print the list after removing the value 24 in [12, 24, 35, 24, 88, 120, 155].**"
   ]
  },
  {
   "cell_type": "code",
   "execution_count": 1,
   "id": "e4355aef",
   "metadata": {},
   "outputs": [
    {
     "name": "stdout",
     "output_type": "stream",
     "text": [
      "[12, 35, 88, 120, 155]\n"
     ]
    }
   ],
   "source": [
    "print ([i for i in [12, 24, 35, 24, 88, 120, 155] if i != 24])"
   ]
  },
  {
   "cell_type": "markdown",
   "id": "f00e7983",
   "metadata": {},
   "source": [
    "**With two given lists [1, 3, 6, 78, 35, 55] and [12, 24, 35, 24, 88, 120, 155], write a program to make a list whose elements are intersection of the above given lists.**"
   ]
  },
  {
   "cell_type": "code",
   "execution_count": 2,
   "id": "ae2dcafe",
   "metadata": {},
   "outputs": [
    {
     "name": "stdout",
     "output_type": "stream",
     "text": [
      "[35]\n"
     ]
    }
   ],
   "source": [
    "list1 = [1, 3, 6, 78, 35, 55]\n",
    "list2 = [12, 24, 35, 24, 88, 120, 155]\n",
    "\n",
    "a = set(list1)\n",
    "b = set(list2)\n",
    "\n",
    "i =  a.intersection(b)\n",
    "print (list((i)))"
   ]
  }
 ],
 "metadata": {
  "kernelspec": {
   "display_name": "Python 3",
   "language": "python",
   "name": "python3"
  },
  "language_info": {
   "codemirror_mode": {
    "name": "ipython",
    "version": 3
   },
   "file_extension": ".py",
   "mimetype": "text/x-python",
   "name": "python",
   "nbconvert_exporter": "python",
   "pygments_lexer": "ipython3",
   "version": "3.8.8"
  }
 },
 "nbformat": 4,
 "nbformat_minor": 5
}
