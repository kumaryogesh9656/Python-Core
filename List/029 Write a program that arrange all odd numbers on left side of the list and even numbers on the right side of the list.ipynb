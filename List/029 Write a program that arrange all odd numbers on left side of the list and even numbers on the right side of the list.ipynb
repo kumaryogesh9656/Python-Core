{
 "cells": [
  {
   "cell_type": "markdown",
   "id": "4d39e4a8",
   "metadata": {},
   "source": [
    "**Write a program that arrange all odd numbers on left side of the list and even numbers on the right side of the list.**"
   ]
  },
  {
   "cell_type": "code",
   "execution_count": 1,
   "id": "cc42f4f5",
   "metadata": {},
   "outputs": [
    {
     "name": "stdout",
     "output_type": "stream",
     "text": [
      "Original List: [23, 44, 65, 78, 34, 21, 9]\n",
      "\n",
      "[9, 21, 65, 23, 44, 78, 34]\n"
     ]
    }
   ],
   "source": [
    "l = [23, 44, 65, 78, 34, 21, 9]\n",
    "print (f\"Original List: {l}\\n\")\n",
    "\n",
    "for i in range(len(l)):\n",
    "    if l[i] % 2 != 0:\n",
    "        l.insert(0, l.pop(i))\n",
    "    \n",
    "print (l)"
   ]
  }
 ],
 "metadata": {
  "kernelspec": {
   "display_name": "Python 3 (ipykernel)",
   "language": "python",
   "name": "python3"
  },
  "language_info": {
   "codemirror_mode": {
    "name": "ipython",
    "version": 3
   },
   "file_extension": ".py",
   "mimetype": "text/x-python",
   "name": "python",
   "nbconvert_exporter": "python",
   "pygments_lexer": "ipython3",
   "version": "3.9.7"
  }
 },
 "nbformat": 4,
 "nbformat_minor": 5
}
