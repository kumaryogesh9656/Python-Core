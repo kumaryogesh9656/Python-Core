{
 "cells": [
  {
   "cell_type": "markdown",
   "id": "fee09589",
   "metadata": {},
   "source": [
    "**By using list comprehension, write a program to print the list after removing the 0th, 4th, 5th numbers in [12, 24, 35, 70, 88, 120, 155].**"
   ]
  },
  {
   "cell_type": "code",
   "execution_count": 1,
   "id": "df343062",
   "metadata": {},
   "outputs": [
    {
     "name": "stdout",
     "output_type": "stream",
     "text": [
      "[24, 35, 24, 155]\n"
     ]
    }
   ],
   "source": [
    "l = [12, 24, 35, 24, 88, 120, 155]\n",
    "\n",
    "print ([l[i] for i in range(len(l)) if i not in (0, 4, 5)])"
   ]
  }
 ],
 "metadata": {
  "kernelspec": {
   "display_name": "Python 3 (ipykernel)",
   "language": "python",
   "name": "python3"
  },
  "language_info": {
   "codemirror_mode": {
    "name": "ipython",
    "version": 3
   },
   "file_extension": ".py",
   "mimetype": "text/x-python",
   "name": "python",
   "nbconvert_exporter": "python",
   "pygments_lexer": "ipython3",
   "version": "3.9.7"
  }
 },
 "nbformat": 4,
 "nbformat_minor": 5
}
