{
 "cells": [
  {
   "cell_type": "markdown",
   "id": "ea0433e0",
   "metadata": {},
   "source": [
    "**Write a program which accepts a sequence of words separated by whitespace as input to print the words composed of digits only.** <br/>\n",
    "If the following words are given as input to the program: 2 cats and 3 dogs. <br/>\n",
    "Then, the output of the program should be: ['2', '3'] "
   ]
  },
  {
   "cell_type": "code",
   "execution_count": 1,
   "id": "77e3cca4",
   "metadata": {},
   "outputs": [
    {
     "name": "stdout",
     "output_type": "stream",
     "text": [
      "Enter a sequence of words: 2 cats and 3 dogs.\n",
      "['2', '3']\n"
     ]
    }
   ],
   "source": [
    "words = input('Enter a sequence of words: ')\n",
    "w = []\n",
    "\n",
    "for i in words:\n",
    "    if i.isdigit():\n",
    "        w.append(i)\n",
    "        \n",
    "print (w)"
   ]
  },
  {
   "cell_type": "markdown",
   "id": "a203bba1",
   "metadata": {},
   "source": [
    "**Please write a program to shuffle and print the list [3, 6, 7, 8].**"
   ]
  },
  {
   "cell_type": "code",
   "execution_count": 2,
   "id": "53c73802",
   "metadata": {},
   "outputs": [
    {
     "name": "stdout",
     "output_type": "stream",
     "text": [
      "[7, 6, 8, 3]\n"
     ]
    }
   ],
   "source": [
    "from random import shuffle\n",
    "l = [3, 6, 7, 8]\n",
    "\n",
    "shuffle(l)\n",
    "print (l)"
   ]
  }
 ],
 "metadata": {
  "kernelspec": {
   "display_name": "Python 3",
   "language": "python",
   "name": "python3"
  },
  "language_info": {
   "codemirror_mode": {
    "name": "ipython",
    "version": 3
   },
   "file_extension": ".py",
   "mimetype": "text/x-python",
   "name": "python",
   "nbconvert_exporter": "python",
   "pygments_lexer": "ipython3",
   "version": "3.8.8"
  }
 },
 "nbformat": 4,
 "nbformat_minor": 5
}
