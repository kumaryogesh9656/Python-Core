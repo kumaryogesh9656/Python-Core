{
 "cells": [
  {
   "cell_type": "markdown",
   "id": "3d81ecc6",
   "metadata": {},
   "source": [
    "**Write a function mul7(list) which takes list as argument and multiply only those numbers which are multiples of 7.**"
   ]
  },
  {
   "cell_type": "code",
   "execution_count": 1,
   "id": "112ae023",
   "metadata": {},
   "outputs": [
    {
     "name": "stdout",
     "output_type": "stream",
     "text": [
      "7203\n"
     ]
    }
   ],
   "source": [
    "l = [\"Sumit\", 1, 2, \"Pooja\", 34, 23, 21, 49, 7, 8]\n",
    "\n",
    "def mul7(list):\n",
    "    mul = 1\n",
    "    \n",
    "    for i in range(len(l)):\n",
    "        if str(l[i]).isdigit() and l[i] % 7 == 0:\n",
    "            mul *= l[i]\n",
    "        \n",
    "    print (mul)\n",
    "\n",
    "mul7(l)"
   ]
  }
 ],
 "metadata": {
  "kernelspec": {
   "display_name": "Python 3 (ipykernel)",
   "language": "python",
   "name": "python3"
  },
  "language_info": {
   "codemirror_mode": {
    "name": "ipython",
    "version": 3
   },
   "file_extension": ".py",
   "mimetype": "text/x-python",
   "name": "python",
   "nbconvert_exporter": "python",
   "pygments_lexer": "ipython3",
   "version": "3.9.7"
  }
 },
 "nbformat": 4,
 "nbformat_minor": 5
}
