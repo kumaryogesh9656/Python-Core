{
 "cells": [
  {
   "cell_type": "markdown",
   "id": "b5a1b84f",
   "metadata": {},
   "source": [
    "**By using list comprehension, write a program to print the list after removing/delete even numbers in [5, 6, 77, 45, 22, 12, 24].**"
   ]
  },
  {
   "cell_type": "code",
   "execution_count": 1,
   "id": "b8631c4e",
   "metadata": {},
   "outputs": [
    {
     "name": "stdout",
     "output_type": "stream",
     "text": [
      "[5, 77, 45]\n"
     ]
    }
   ],
   "source": [
    "print (list(filter(lambda x:x % 2 != 0, [5, 6, 77, 45, 22, 12, 24])))"
   ]
  }
 ],
 "metadata": {
  "kernelspec": {
   "display_name": "Python 3 (ipykernel)",
   "language": "python",
   "name": "python3"
  },
  "language_info": {
   "codemirror_mode": {
    "name": "ipython",
    "version": 3
   },
   "file_extension": ".py",
   "mimetype": "text/x-python",
   "name": "python",
   "nbconvert_exporter": "python",
   "pygments_lexer": "ipython3",
   "version": "3.9.7"
  }
 },
 "nbformat": 4,
 "nbformat_minor": 5
}
