{
 "cells": [
  {
   "cell_type": "markdown",
   "id": "7bfb2a22",
   "metadata": {},
   "source": [
    "**Write a function countf(List, num) which takes a list of numbers and a number as an argument and display the frequency of that number in the list. (without using inbuilt function 'count')**"
   ]
  },
  {
   "cell_type": "code",
   "execution_count": 1,
   "id": "fafa7203",
   "metadata": {},
   "outputs": [
    {
     "name": "stdout",
     "output_type": "stream",
     "text": [
      "Frequency of 3 is 2\n"
     ]
    }
   ],
   "source": [
    "l = [1, 3, 2, 34, 3, 7, 5]\n",
    "\n",
    "def countf(List, num):\n",
    "    c = 0\n",
    "    \n",
    "    for i in List:\n",
    "        if i == num:\n",
    "            c = c + 1\n",
    "            \n",
    "    print(f\"Frequency of {num} is {c}\")\n",
    "\n",
    "countf(l, 3)"
   ]
  }
 ],
 "metadata": {
  "kernelspec": {
   "display_name": "Python 3 (ipykernel)",
   "language": "python",
   "name": "python3"
  },
  "language_info": {
   "codemirror_mode": {
    "name": "ipython",
    "version": 3
   },
   "file_extension": ".py",
   "mimetype": "text/x-python",
   "name": "python",
   "nbconvert_exporter": "python",
   "pygments_lexer": "ipython3",
   "version": "3.9.7"
  }
 },
 "nbformat": 4,
 "nbformat_minor": 5
}
