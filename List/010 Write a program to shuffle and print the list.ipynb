{
 "cells": [
  {
   "cell_type": "markdown",
   "id": "a203bba1",
   "metadata": {},
   "source": [
    "**Write a program to shuffle and print the list [3, 6, 7, 8].**"
   ]
  },
  {
   "cell_type": "code",
   "execution_count": 1,
   "id": "53c73802",
   "metadata": {},
   "outputs": [
    {
     "name": "stdout",
     "output_type": "stream",
     "text": [
      "[8, 3, 7, 6]\n"
     ]
    }
   ],
   "source": [
    "from random import shuffle\n",
    "l = [3, 6, 7, 8]\n",
    "\n",
    "shuffle(l)\n",
    "print (l)"
   ]
  }
 ],
 "metadata": {
  "kernelspec": {
   "display_name": "Python 3 (ipykernel)",
   "language": "python",
   "name": "python3"
  },
  "language_info": {
   "codemirror_mode": {
    "name": "ipython",
    "version": 3
   },
   "file_extension": ".py",
   "mimetype": "text/x-python",
   "name": "python",
   "nbconvert_exporter": "python",
   "pygments_lexer": "ipython3",
   "version": "3.9.7"
  }
 },
 "nbformat": 4,
 "nbformat_minor": 5
}
