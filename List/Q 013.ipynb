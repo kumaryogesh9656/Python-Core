{
 "cells": [
  {
   "cell_type": "markdown",
   "id": "f60cb82d",
   "metadata": {},
   "source": [
    "**Write a program in python which convert all the odd numbers in the list to even by adding 1.**"
   ]
  },
  {
   "cell_type": "code",
   "execution_count": 1,
   "id": "bc08b967",
   "metadata": {},
   "outputs": [
    {
     "name": "stdout",
     "output_type": "stream",
     "text": [
      "[14, 22, 32, 24, 56, 26, 18, 38, 60]\n"
     ]
    }
   ],
   "source": [
    "L = [13, 21, 32, 24, 55, 26, 17, 38, 59]\n",
    "c = 0\n",
    "\n",
    "for i in L:\n",
    "    if i % 2 != 0:\n",
    "        L[c] += 1\n",
    "    c += 1\n",
    "    \n",
    "print (L)"
   ]
  },
  {
   "cell_type": "markdown",
   "id": "75da4a99",
   "metadata": {},
   "source": [
    "**OR**"
   ]
  },
  {
   "cell_type": "code",
   "execution_count": 1,
   "id": "7dbed9f6",
   "metadata": {},
   "outputs": [
    {
     "name": "stdout",
     "output_type": "stream",
     "text": [
      "[14, 22, 32, 24, 56, 26, 18, 38, 60]\n"
     ]
    }
   ],
   "source": [
    "L = [13, 21, 32, 24, 55, 26, 17, 38, 59]\n",
    "\n",
    "for i in range(len(L)):\n",
    "    if L[i] % 2 != 0:\n",
    "        L[i] = L[i] + 1\n",
    "\n",
    "print (L)"
   ]
  }
 ],
 "metadata": {
  "kernelspec": {
   "display_name": "Python 3 (ipykernel)",
   "language": "python",
   "name": "python3"
  },
  "language_info": {
   "codemirror_mode": {
    "name": "ipython",
    "version": 3
   },
   "file_extension": ".py",
   "mimetype": "text/x-python",
   "name": "python",
   "nbconvert_exporter": "python",
   "pygments_lexer": "ipython3",
   "version": "3.9.7"
  }
 },
 "nbformat": 4,
 "nbformat_minor": 5
}
