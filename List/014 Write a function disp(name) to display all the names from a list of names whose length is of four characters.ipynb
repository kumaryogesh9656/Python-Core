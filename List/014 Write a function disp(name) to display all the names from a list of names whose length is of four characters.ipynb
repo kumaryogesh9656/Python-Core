{
 "cells": [
  {
   "cell_type": "markdown",
   "id": "4544d709",
   "metadata": {},
   "source": [
    "**Write a function disp(name) to display all the names from a list of names whose length is of four characters.**"
   ]
  },
  {
   "cell_type": "code",
   "execution_count": 1,
   "id": "2731bc77",
   "metadata": {},
   "outputs": [
    {
     "name": "stdout",
     "output_type": "stream",
     "text": [
      "Amit\n",
      "Mini\n"
     ]
    }
   ],
   "source": [
    "name = [\"Amit\", \"Sumit\", \"Pooja\", \"Mini\", \"Ronit\", \"Poonam\"]\n",
    "\n",
    "def disp(name):\n",
    "    for i in name:\n",
    "        if len(i) == 4:\n",
    "            print (i)\n",
    "            \n",
    "disp(name)"
   ]
  }
 ],
 "metadata": {
  "kernelspec": {
   "display_name": "Python 3 (ipykernel)",
   "language": "python",
   "name": "python3"
  },
  "language_info": {
   "codemirror_mode": {
    "name": "ipython",
    "version": 3
   },
   "file_extension": ".py",
   "mimetype": "text/x-python",
   "name": "python",
   "nbconvert_exporter": "python",
   "pygments_lexer": "ipython3",
   "version": "3.9.7"
  }
 },
 "nbformat": 4,
 "nbformat_minor": 5
}
