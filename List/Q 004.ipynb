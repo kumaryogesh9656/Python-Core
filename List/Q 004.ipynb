{
 "cells": [
  {
   "cell_type": "markdown",
   "id": "a2b99354",
   "metadata": {},
   "source": [
    "**By using list comprehension, please write a program to print the list after removing the 0th, 2nd, 4th,6th numbers in [12, 24, 35, 70, 88, 120, 155].**"
   ]
  },
  {
   "cell_type": "code",
   "execution_count": 1,
   "id": "67b79a4d",
   "metadata": {},
   "outputs": [
    {
     "name": "stdout",
     "output_type": "stream",
     "text": [
      "[24, 70, 120]\n"
     ]
    }
   ],
   "source": [
    "l = [12, 24, 35, 70, 88, 120, 155]\n",
    "\n",
    "print ([l[i] for i in range(len(l)) if i not in (0, 2, 4, 6)])"
   ]
  },
  {
   "cell_type": "markdown",
   "id": "259cb194",
   "metadata": {},
   "source": [
    "**By using list comprehension, please write a program generate a 3 * 5 * 8 3D array whose each element is 0.**"
   ]
  },
  {
   "cell_type": "code",
   "execution_count": 2,
   "id": "0cb8bf33",
   "metadata": {},
   "outputs": [
    {
     "data": {
      "text/plain": [
       "[[['*', '*', '*', '*', '*', '*', '*', '*'],\n",
       "  ['*', '*', '*', '*', '*', '*', '*', '*'],\n",
       "  ['*', '*', '*', '*', '*', '*', '*', '*'],\n",
       "  ['*', '*', '*', '*', '*', '*', '*', '*'],\n",
       "  ['*', '*', '*', '*', '*', '*', '*', '*']],\n",
       " [['*', '*', '*', '*', '*', '*', '*', '*'],\n",
       "  ['*', '*', '*', '*', '*', '*', '*', '*'],\n",
       "  ['*', '*', '*', '*', '*', '*', '*', '*'],\n",
       "  ['*', '*', '*', '*', '*', '*', '*', '*'],\n",
       "  ['*', '*', '*', '*', '*', '*', '*', '*']],\n",
       " [['*', '*', '*', '*', '*', '*', '*', '*'],\n",
       "  ['*', '*', '*', '*', '*', '*', '*', '*'],\n",
       "  ['*', '*', '*', '*', '*', '*', '*', '*'],\n",
       "  ['*', '*', '*', '*', '*', '*', '*', '*'],\n",
       "  ['*', '*', '*', '*', '*', '*', '*', '*']]]"
      ]
     },
     "execution_count": 2,
     "metadata": {},
     "output_type": "execute_result"
    }
   ],
   "source": [
    "[[['*' for i in range(8)] for j in range(5)] for k in range(3)]"
   ]
  }
 ],
 "metadata": {
  "kernelspec": {
   "display_name": "Python 3",
   "language": "python",
   "name": "python3"
  },
  "language_info": {
   "codemirror_mode": {
    "name": "ipython",
    "version": 3
   },
   "file_extension": ".py",
   "mimetype": "text/x-python",
   "name": "python",
   "nbconvert_exporter": "python",
   "pygments_lexer": "ipython3",
   "version": "3.8.8"
  }
 },
 "nbformat": 4,
 "nbformat_minor": 5
}
