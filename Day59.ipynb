{
 "cells": [
  {
   "cell_type": "markdown",
   "id": "72b70ebd",
   "metadata": {},
   "source": [
    "**Write a Python program to filter a list of integers using Lambda.** <br/>\n",
    "Original list of integers: <br/>\n",
    "[1, 2, 3, 4, 5, 6, 7, 8, 9, 10]\n",
    "\n",
    "Even numbers from the said list: <br/>\n",
    "[2, 4, 6, 8, 10] <br/>\n",
    "Odd numbers from the said list: <br/>\n",
    "[1, 3, 5, 7, 9]"
   ]
  },
  {
   "cell_type": "code",
   "execution_count": 1,
   "id": "8f367896",
   "metadata": {},
   "outputs": [
    {
     "name": "stdout",
     "output_type": "stream",
     "text": [
      "Original list of integers:\n",
      "[1, 2, 3, 4, 5, 6, 7, 8, 9, 10]\n",
      "\n",
      "Even numbers from the said list:\n",
      "[2, 4, 6, 8, 10]\n",
      "Odd numbers from the said list:\n",
      "[1, 3, 5, 7, 9]\n"
     ]
    }
   ],
   "source": [
    "print ('Original list of integers:')\n",
    "print ('[1, 2, 3, 4, 5, 6, 7, 8, 9, 10]')\n",
    "\n",
    "print ('\\nEven numbers from the said list:')\n",
    "print (list(filter(lambda x:x % 2 == 0 , [1, 2, 3, 4, 5, 6, 7, 8, 9, 10])))\n",
    "print ('Odd numbers from the said list:')\n",
    "print (list(filter(lambda x:x % 2 != 0 , [1, 2, 3, 4, 5, 6, 7, 8, 9, 10])))"
   ]
  }
 ],
 "metadata": {
  "kernelspec": {
   "display_name": "Python 3 (ipykernel)",
   "language": "python",
   "name": "python3"
  },
  "language_info": {
   "codemirror_mode": {
    "name": "ipython",
    "version": 3
   },
   "file_extension": ".py",
   "mimetype": "text/x-python",
   "name": "python",
   "nbconvert_exporter": "python",
   "pygments_lexer": "ipython3",
   "version": "3.9.7"
  }
 },
 "nbformat": 4,
 "nbformat_minor": 5
}
