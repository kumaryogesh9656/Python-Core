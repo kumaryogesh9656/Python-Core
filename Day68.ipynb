{
 "cells": [
  {
   "cell_type": "markdown",
   "id": "0696aa31",
   "metadata": {},
   "source": [
    "**Write a Python program to add two given lists using map and lambda.** <br/>\n",
    "Original list: <br/>\n",
    "[1, 2, 3] <br/>\n",
    "[4, 5, 6]\n",
    "\n",
    "Result: after adding two list <br/>\n",
    "[5, 7, 9]"
   ]
  },
  {
   "cell_type": "code",
   "execution_count": 1,
   "id": "6791189a",
   "metadata": {},
   "outputs": [
    {
     "name": "stdout",
     "output_type": "stream",
     "text": [
      "Original list:\n",
      "[1, 2, 3]\n",
      "[4, 5, 6]\n",
      "\n",
      "Result: after adding two list\n",
      "[5, 7, 9]\n"
     ]
    }
   ],
   "source": [
    "print ('Original list:')\n",
    "print ('[1, 2, 3]')\n",
    "print ('[4, 5, 6]')\n",
    "\n",
    "print ('\\nResult: after adding two list')\n",
    "print (list(map(lambda x, y: x + y, [1, 2, 3], [4, 5, 6])))"
   ]
  }
 ],
 "metadata": {
  "kernelspec": {
   "display_name": "Python 3 (ipykernel)",
   "language": "python",
   "name": "python3"
  },
  "language_info": {
   "codemirror_mode": {
    "name": "ipython",
    "version": 3
   },
   "file_extension": ".py",
   "mimetype": "text/x-python",
   "name": "python",
   "nbconvert_exporter": "python",
   "pygments_lexer": "ipython3",
   "version": "3.9.7"
  }
 },
 "nbformat": 4,
 "nbformat_minor": 5
}
