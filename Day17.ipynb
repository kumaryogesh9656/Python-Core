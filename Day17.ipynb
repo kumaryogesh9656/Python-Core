{
 "cells": [
  {
   "cell_type": "markdown",
   "id": "4d3c3d9b",
   "metadata": {},
   "source": [
    "**Define a class named Circle which can be constructed by a radius. The Circle class has a method which can compute the area.**"
   ]
  },
  {
   "cell_type": "code",
   "execution_count": 1,
   "id": "b8c08f5e",
   "metadata": {},
   "outputs": [
    {
     "name": "stdout",
     "output_type": "stream",
     "text": [
      "The area of circle: 50.24\n"
     ]
    }
   ],
   "source": [
    "class Circle:\n",
    "    def __init__(self, radius):\n",
    "        self.radius = radius\n",
    "        \n",
    "    def area(self):\n",
    "        a = 3.14 * self.radius * self.radius\n",
    "        print ('The area of circle:', a)        \n",
    "        \n",
    "cir = Circle(4)\n",
    "cir.area()"
   ]
  },
  {
   "cell_type": "markdown",
   "id": "f4f52ad3",
   "metadata": {},
   "source": [
    "**Define a class named Rectangle which can be constructed by a length and width. The Rectangle class has a method which can compute the area.**"
   ]
  },
  {
   "cell_type": "code",
   "execution_count": 2,
   "id": "20a444e9",
   "metadata": {},
   "outputs": [
    {
     "name": "stdout",
     "output_type": "stream",
     "text": [
      "The area of Rectangle: 20\n"
     ]
    }
   ],
   "source": [
    "class Rectangle:\n",
    "    def __init__(self, length, width):\n",
    "        self.length = length\n",
    "        self.width = width\n",
    "        \n",
    "    def area(self):\n",
    "        area = self.length * self.width\n",
    "        print ('The area of Rectangle:', area)        \n",
    "        \n",
    "rec = Rectangle(4, 5)\n",
    "rec.area()"
   ]
  }
 ],
 "metadata": {
  "kernelspec": {
   "display_name": "Python 3",
   "language": "python",
   "name": "python3"
  },
  "language_info": {
   "codemirror_mode": {
    "name": "ipython",
    "version": 3
   },
   "file_extension": ".py",
   "mimetype": "text/x-python",
   "name": "python",
   "nbconvert_exporter": "python",
   "pygments_lexer": "ipython3",
   "version": "3.8.8"
  }
 },
 "nbformat": 4,
 "nbformat_minor": 5
}
