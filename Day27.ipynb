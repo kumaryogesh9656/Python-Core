{
 "cells": [
  {
   "cell_type": "markdown",
   "id": "37c30f91",
   "metadata": {},
   "source": [
    "**Please write a program which count and print the numbers of each character in a string input by console.** <br/>\n",
    "If the following string is given as input to the program: abcdefgabc <br/>\n",
    "Then, the output of the program should be: \n",
    "\n",
    "a,2 <br/>\n",
    "c,2 <br/>\n",
    "b,2 <br/>\n",
    "e,1 <br/>\n",
    "d,1 <br/>\n",
    "g,1 <br/>\n",
    "f,1 "
   ]
  },
  {
   "cell_type": "code",
   "execution_count": 1,
   "id": "fa8cfb5b",
   "metadata": {},
   "outputs": [
    {
     "name": "stdout",
     "output_type": "stream",
     "text": [
      "Enter your string: abcdefgabc\n",
      "a, 2\n",
      "b, 2\n",
      "c, 2\n",
      "d, 1\n",
      "e, 1\n",
      "f, 1\n",
      "g, 1\n"
     ]
    }
   ],
   "source": [
    "s = input('Enter your string: ')\n",
    "l = []\n",
    "\n",
    "for i in s:\n",
    "    if i not in l:\n",
    "        l.append(i)\n",
    "        \n",
    "for j in range(len(l)):\n",
    "    print ('{}, {}'.format(l[j], s.count(l[j])))"
   ]
  }
 ],
 "metadata": {
  "kernelspec": {
   "display_name": "Python 3",
   "language": "python",
   "name": "python3"
  },
  "language_info": {
   "codemirror_mode": {
    "name": "ipython",
    "version": 3
   },
   "file_extension": ".py",
   "mimetype": "text/x-python",
   "name": "python",
   "nbconvert_exporter": "python",
   "pygments_lexer": "ipython3",
   "version": "3.8.8"
  }
 },
 "nbformat": 4,
 "nbformat_minor": 5
}
