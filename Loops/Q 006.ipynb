{
 "cells": [
  {
   "cell_type": "markdown",
   "id": "0b9d28c7",
   "metadata": {},
   "source": [
    "**Write a Python program which takes two digits m (row) and n (column) as input and generates a two-dimensional array. The element value in the i-th row and j-th column of the array should be i*j.** <br/>\n",
    "Note : <br/>\n",
    "i = 0,1.., m-1 <br/>\n",
    "j = 0,1, n-1. <br/>\n",
    "\n",
    "Test Data : Rows = 3, Columns = 4 <br/>\n",
    "Expected Result : \n",
    "\n",
    "[[0, 0, 0, 0], [0, 1, 2, 3], [0, 2, 4, 6]]"
   ]
  },
  {
   "cell_type": "code",
   "execution_count": 1,
   "id": "7e114dce",
   "metadata": {},
   "outputs": [
    {
     "name": "stdout",
     "output_type": "stream",
     "text": [
      "Number of rows: 3\n",
      "Number of columns: 4\n",
      "[[0 0 0 0]\n",
      " [0 1 2 3]\n",
      " [0 2 4 6]]\n"
     ]
    }
   ],
   "source": [
    "row = int(input('Number of rows: '))\n",
    "col = int(input('Number of columns: '))\n",
    "matrix = [[c for c in range(col)] for r in range(row)]\n",
    "\n",
    "for i in range(row):\n",
    "    for j in range(col):\n",
    "        matrix[i][j] = i * j\n",
    "\n",
    "import numpy as np\n",
    "\n",
    "print (np.array(matrix).reshape(row, col))"
   ]
  },
  {
   "cell_type": "markdown",
   "id": "de6174ef",
   "metadata": {},
   "source": [
    "**Write a Python program that accepts a sequence of lines (blank line to terminate) as input and prints the lines as output (all characters in lower case).**"
   ]
  },
  {
   "cell_type": "code",
   "execution_count": 1,
   "id": "0312ddae",
   "metadata": {},
   "outputs": [
    {
     "name": "stdout",
     "output_type": "stream",
     "text": [
      "Today is 13th March 2022\n",
      "\n",
      "today is 13th march 2022\n"
     ]
    }
   ],
   "source": [
    "l = []\n",
    "\n",
    "while True:\n",
    "    lines = input()\n",
    "    if lines:\n",
    "        l.append(lines.lower())\n",
    "    \n",
    "    else:\n",
    "        break\n",
    "        \n",
    "for i in l:\n",
    "    print (i)"
   ]
  }
 ],
 "metadata": {
  "kernelspec": {
   "display_name": "Python 3",
   "language": "python",
   "name": "python3"
  },
  "language_info": {
   "codemirror_mode": {
    "name": "ipython",
    "version": 3
   },
   "file_extension": ".py",
   "mimetype": "text/x-python",
   "name": "python",
   "nbconvert_exporter": "python",
   "pygments_lexer": "ipython3",
   "version": "3.8.8"
  }
 },
 "nbformat": 4,
 "nbformat_minor": 5
}
