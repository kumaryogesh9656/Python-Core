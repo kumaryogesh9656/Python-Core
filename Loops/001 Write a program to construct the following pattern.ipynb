{
 "cells": [
  {
   "cell_type": "markdown",
   "id": "d2c7823a",
   "metadata": {},
   "source": [
    "**Write a program to construct the following pattern, using a nested for loop:** <br/>\n",
    "**a)**\n",
    "\n",
    "o <br/>\n",
    "o $\\;$ o <br/>\n",
    "o $\\;$ o $\\;$ o <br/>\n",
    "o $\\;$ o $\\;$ o $\\;$ o <br/>\n",
    "o $\\;$ o $\\;$ o $\\;$ o $\\;$ o <br/>\n",
    "o $\\;$ o $\\;$ o $\\;$ o <br/>\n",
    "o $\\;$ o $\\;$ o <br/>\n",
    "o $\\;$ o <br/>\n",
    "o"
   ]
  },
  {
   "cell_type": "code",
   "execution_count": 1,
   "id": "63e3b3c8",
   "metadata": {},
   "outputs": [
    {
     "name": "stdout",
     "output_type": "stream",
     "text": [
      "o \n",
      "o o \n",
      "o o o \n",
      "o o o o \n",
      "o o o o o \n",
      "o o o o \n",
      "o o o \n",
      "o o \n",
      "o \n"
     ]
    }
   ],
   "source": [
    "for i in range(1, 6):\n",
    "    for j in range(1, i + 1):\n",
    "        print (\"o\", end = \" \")\n",
    "    print (\"\")\n",
    "    \n",
    "for k in range(4, 0, -1):\n",
    "    for l in range(k):\n",
    "        print (\"o\", end = \" \")\n",
    "    print (\"\")"
   ]
  },
  {
   "cell_type": "markdown",
   "id": "3fff120d",
   "metadata": {},
   "source": [
    "**OR**"
   ]
  },
  {
   "cell_type": "code",
   "execution_count": 1,
   "id": "63c26e7d",
   "metadata": {},
   "outputs": [
    {
     "name": "stdout",
     "output_type": "stream",
     "text": [
      "o \n",
      "o o \n",
      "o o o \n",
      "o o o o \n",
      "o o o o o \n",
      "o o o o \n",
      "o o o \n",
      "o o \n",
      "o \n"
     ]
    }
   ],
   "source": [
    "for i in range(1, 6):\n",
    "    print (\"o \" * i)\n",
    "    \n",
    "for j in range(4, 0, -1):\n",
    "    print (\"o \" * j)"
   ]
  },
  {
   "cell_type": "markdown",
   "id": "0d39e493",
   "metadata": {},
   "source": [
    "**b)**\n",
    "\n",
    "1 <br/>\n",
    "22 <br/>\n",
    "333 <br/>\n",
    "4444 <br/>\n",
    "55555 <br/>\n",
    "666666 <br/>\n",
    "7777777 <br/>\n",
    "88888888 <br/>\n",
    "999999999"
   ]
  },
  {
   "cell_type": "code",
   "execution_count": 2,
   "id": "f57c2b38",
   "metadata": {},
   "outputs": [
    {
     "name": "stdout",
     "output_type": "stream",
     "text": [
      "1\n",
      "22\n",
      "333\n",
      "4444\n",
      "55555\n",
      "666666\n",
      "7777777\n",
      "88888888\n",
      "999999999\n"
     ]
    }
   ],
   "source": [
    "for i in range(1, 10):\n",
    "    for j in range(1, i + 1):\n",
    "        print (i, end = \"\")\n",
    "    print (\"\")"
   ]
  },
  {
   "cell_type": "markdown",
   "id": "f33f5a53",
   "metadata": {},
   "source": [
    "**OR**"
   ]
  },
  {
   "cell_type": "code",
   "execution_count": 2,
   "id": "55740373",
   "metadata": {},
   "outputs": [
    {
     "name": "stdout",
     "output_type": "stream",
     "text": [
      "1\n",
      "22\n",
      "333\n",
      "4444\n",
      "55555\n",
      "666666\n",
      "7777777\n",
      "88888888\n",
      "999999999\n"
     ]
    }
   ],
   "source": [
    "for i in range(1, 10):\n",
    "    print(str(i) * i)"
   ]
  }
 ],
 "metadata": {
  "kernelspec": {
   "display_name": "Python 3 (ipykernel)",
   "language": "python",
   "name": "python3"
  },
  "language_info": {
   "codemirror_mode": {
    "name": "ipython",
    "version": 3
   },
   "file_extension": ".py",
   "mimetype": "text/x-python",
   "name": "python",
   "nbconvert_exporter": "python",
   "pygments_lexer": "ipython3",
   "version": "3.9.7"
  }
 },
 "nbformat": 4,
 "nbformat_minor": 5
}
