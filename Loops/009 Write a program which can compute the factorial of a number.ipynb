{
 "cells": [
  {
   "cell_type": "markdown",
   "id": "5cb889de",
   "metadata": {},
   "source": [
    "**Write a program which can compute the factorial of a number.**"
   ]
  },
  {
   "cell_type": "code",
   "execution_count": 1,
   "id": "b44dd4af",
   "metadata": {},
   "outputs": [
    {
     "name": "stdout",
     "output_type": "stream",
     "text": [
      "Enter your number: 5\n",
      "\n",
      "Factorial: 120\n"
     ]
    }
   ],
   "source": [
    "n = int(input(\"Enter your number: \"))\n",
    "f = 1\n",
    "\n",
    "if n < 0:\n",
    "    print (\"\\nInvalid Factorial\")\n",
    "elif n == 0:\n",
    "    print (\"\\nFactorial: 1\")\n",
    "else:\n",
    "    for i in range(1, n + 1):\n",
    "        f = f * i\n",
    "    print (\"\\nFactorial:\", f)"
   ]
  }
 ],
 "metadata": {
  "kernelspec": {
   "display_name": "Python 3 (ipykernel)",
   "language": "python",
   "name": "python3"
  },
  "language_info": {
   "codemirror_mode": {
    "name": "ipython",
    "version": 3
   },
   "file_extension": ".py",
   "mimetype": "text/x-python",
   "name": "python",
   "nbconvert_exporter": "python",
   "pygments_lexer": "ipython3",
   "version": "3.9.7"
  }
 },
 "nbformat": 4,
 "nbformat_minor": 5
}
