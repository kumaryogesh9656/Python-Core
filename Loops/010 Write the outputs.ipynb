{
 "cells": [
  {
   "cell_type": "markdown",
   "id": "beed1519",
   "metadata": {},
   "source": [
    "**Write the output of the following:**"
   ]
  },
  {
   "cell_type": "markdown",
   "id": "4fca3130",
   "metadata": {},
   "source": [
    "**a). for i in \"Myblog\": <br/>\n",
    "$\\;\\;\\;\\;\\;\\;\\;$ print (i, \"?\")**"
   ]
  },
  {
   "cell_type": "code",
   "execution_count": 1,
   "id": "3e6b7fc7",
   "metadata": {},
   "outputs": [
    {
     "name": "stdout",
     "output_type": "stream",
     "text": [
      "M ?\n",
      "y ?\n",
      "b ?\n",
      "l ?\n",
      "o ?\n",
      "g ?\n"
     ]
    }
   ],
   "source": [
    "for i in \"Myblog\":\n",
    "    print (i, \"?\")"
   ]
  },
  {
   "cell_type": "markdown",
   "id": "0b0a4bec",
   "metadata": {},
   "source": [
    "**b). for i in range(5): <br/>\n",
    "$\\;\\;\\;\\;\\;\\;\\;$ print (i)**"
   ]
  },
  {
   "cell_type": "code",
   "execution_count": 2,
   "id": "fa2dfba8",
   "metadata": {},
   "outputs": [
    {
     "name": "stdout",
     "output_type": "stream",
     "text": [
      "0\n",
      "1\n",
      "2\n",
      "3\n",
      "4\n"
     ]
    }
   ],
   "source": [
    "for i in range(5):\n",
    "    print (i)"
   ]
  },
  {
   "cell_type": "markdown",
   "id": "8f606732",
   "metadata": {},
   "source": [
    "**c). for i in range(10, 15): <br/>\n",
    "$\\;\\;\\;\\;\\;\\;\\;$ print (i)**"
   ]
  },
  {
   "cell_type": "code",
   "execution_count": 3,
   "id": "061461fb",
   "metadata": {},
   "outputs": [
    {
     "name": "stdout",
     "output_type": "stream",
     "text": [
      "10\n",
      "11\n",
      "12\n",
      "13\n",
      "14\n"
     ]
    }
   ],
   "source": [
    "for i in range(10, 15):\n",
    "    print (i)"
   ]
  }
 ],
 "metadata": {
  "kernelspec": {
   "display_name": "Python 3 (ipykernel)",
   "language": "python",
   "name": "python3"
  },
  "language_info": {
   "codemirror_mode": {
    "name": "ipython",
    "version": 3
   },
   "file_extension": ".py",
   "mimetype": "text/x-python",
   "name": "python",
   "nbconvert_exporter": "python",
   "pygments_lexer": "ipython3",
   "version": "3.9.7"
  }
 },
 "nbformat": 4,
 "nbformat_minor": 5
}
