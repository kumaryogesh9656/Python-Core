{
 "cells": [
  {
   "cell_type": "markdown",
   "id": "739777fd",
   "metadata": {},
   "source": [
    "**Write a program that accepts a word from the user and reverse it.**"
   ]
  },
  {
   "cell_type": "code",
   "execution_count": 1,
   "id": "d6bce6bd",
   "metadata": {},
   "outputs": [
    {
     "name": "stdout",
     "output_type": "stream",
     "text": [
      "Input a word to reverse: amit\n",
      "tima"
     ]
    }
   ],
   "source": [
    "def word():\n",
    "    w = input(\"Input a word to reverse: \")\n",
    "    w = w[::-1]\n",
    "    \n",
    "    for i in w:\n",
    "        print (i, end = \"\")\n",
    "        \n",
    "word()"
   ]
  },
  {
   "cell_type": "markdown",
   "id": "fb92031b",
   "metadata": {},
   "source": [
    "**OR**"
   ]
  },
  {
   "cell_type": "code",
   "execution_count": 1,
   "id": "2c468dba",
   "metadata": {},
   "outputs": [
    {
     "name": "stdout",
     "output_type": "stream",
     "text": [
      "Input a word to reverse: amit\n",
      "tima"
     ]
    }
   ],
   "source": [
    "def word():\n",
    "    w = input(\"Input a word to reverse: \")\n",
    "    i = 1\n",
    "    \n",
    "    while i <= len(w):\n",
    "        print (w[-i], end = \"\")\n",
    "        i = i + 1\n",
    "        \n",
    "word()"
   ]
  }
 ],
 "metadata": {
  "kernelspec": {
   "display_name": "Python 3 (ipykernel)",
   "language": "python",
   "name": "python3"
  },
  "language_info": {
   "codemirror_mode": {
    "name": "ipython",
    "version": 3
   },
   "file_extension": ".py",
   "mimetype": "text/x-python",
   "name": "python",
   "nbconvert_exporter": "python",
   "pygments_lexer": "ipython3",
   "version": "3.9.7"
  }
 },
 "nbformat": 4,
 "nbformat_minor": 5
}
