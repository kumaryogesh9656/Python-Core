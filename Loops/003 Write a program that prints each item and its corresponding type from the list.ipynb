{
 "cells": [
  {
   "cell_type": "markdown",
   "id": "b69e370c",
   "metadata": {},
   "source": [
    "**Write a program that prints each item and its corresponding type from the following list:**<br/>\n",
    "datalist = [1452, 11.23, 1 + 2j, True, (0, -1), [5, 12], {'class':'V', 'section':'A'}]"
   ]
  },
  {
   "cell_type": "code",
   "execution_count": 1,
   "id": "711c6b9e",
   "metadata": {},
   "outputs": [
    {
     "name": "stdout",
     "output_type": "stream",
     "text": [
      "Type of 1452 is <class 'int'>\n",
      "Type of 11.23 is <class 'float'>\n",
      "Type of (1+2j) is <class 'complex'>\n",
      "Type of True is <class 'bool'>\n",
      "Type of (0, -1) is <class 'tuple'>\n",
      "Type of [5, 12] is <class 'list'>\n",
      "Type of {'class': 'V', 'section': 'A'} is <class 'dict'>\n"
     ]
    }
   ],
   "source": [
    "datalist = [1452, 11.23, 1 + 2j, True, (0, -1), [5, 12], {\"class\":\"V\", \"section\":\"A\"}]\n",
    "\n",
    "for i in datalist:\n",
    "    print (f\"Type of {i} is {type(i)}\")"
   ]
  }
 ],
 "metadata": {
  "kernelspec": {
   "display_name": "Python 3 (ipykernel)",
   "language": "python",
   "name": "python3"
  },
  "language_info": {
   "codemirror_mode": {
    "name": "ipython",
    "version": 3
   },
   "file_extension": ".py",
   "mimetype": "text/x-python",
   "name": "python",
   "nbconvert_exporter": "python",
   "pygments_lexer": "ipython3",
   "version": "3.9.7"
  }
 },
 "nbformat": 4,
 "nbformat_minor": 5
}
