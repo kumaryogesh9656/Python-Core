{
 "cells": [
  {
   "cell_type": "markdown",
   "id": "b5aeedca",
   "metadata": {},
   "source": [
    "**Write a Python program to find those numbers which are divisible by 7 and multiple of 5, between 1500 and 2700 (both included).**"
   ]
  },
  {
   "cell_type": "code",
   "execution_count": 1,
   "id": "be7e801f",
   "metadata": {},
   "outputs": [
    {
     "name": "stdout",
     "output_type": "stream",
     "text": [
      "1506, 1541, 1576, 1611, 1646, 1681, 1716, 1751, 1786, 1821, 1856, 1891, 1926, 1961, 1996, 2031, 2066, 2101, 2136, 2171, 2206, 2241, 2276, 2311, 2346, 2381, 2416, 2451, 2486, 2521, 2556, 2591, 2626, 2661, 2696\n"
     ]
    }
   ],
   "source": [
    "l = []\n",
    "\n",
    "for i in range(1500, 2701):\n",
    "    if i % 5 == True and i % 7 == True:\n",
    "        l.append(str(i))\n",
    "        \n",
    "print (', '.join(l))"
   ]
  }
 ],
 "metadata": {
  "kernelspec": {
   "display_name": "Python 3",
   "language": "python",
   "name": "python3"
  },
  "language_info": {
   "codemirror_mode": {
    "name": "ipython",
    "version": 3
   },
   "file_extension": ".py",
   "mimetype": "text/x-python",
   "name": "python",
   "nbconvert_exporter": "python",
   "pygments_lexer": "ipython3",
   "version": "3.8.8"
  }
 },
 "nbformat": 4,
 "nbformat_minor": 5
}
