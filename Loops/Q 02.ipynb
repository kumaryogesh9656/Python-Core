{
 "cells": [
  {
   "cell_type": "markdown",
   "id": "d2c7823a",
   "metadata": {},
   "source": [
    "**Write a Python program to construct the following pattern, using a nested for loop.** <br/>\n",
    "\n",
    "o <br/>\n",
    "o $\\;$ o <br/>\n",
    "o $\\;$ o $\\;$ o <br/>\n",
    "o $\\;$ o $\\;$ o $\\;$ o <br/>\n",
    "o $\\;$ o $\\;$ o $\\;$ o $\\;$ o <br/>\n",
    "o $\\;$ o $\\;$ o $\\;$ o <br/>\n",
    "o $\\;$ o $\\;$ o <br/>\n",
    "o $\\;$ o <br/>\n",
    "o"
   ]
  },
  {
   "cell_type": "code",
   "execution_count": 6,
   "id": "63e3b3c8",
   "metadata": {},
   "outputs": [
    {
     "name": "stdout",
     "output_type": "stream",
     "text": [
      "o \n",
      "o o \n",
      "o o o \n",
      "o o o o \n",
      "o o o o o \n",
      "o o o o \n",
      "o o o \n",
      "o o \n",
      "o \n"
     ]
    }
   ],
   "source": [
    "for i in range(1, 6):\n",
    "    for j in range(1, i + 1):\n",
    "        print ('o', end = ' ')\n",
    "    print ('')\n",
    "    \n",
    "for k in range(4, 0, -1):\n",
    "    for l in range(k):\n",
    "        print ('o', end = ' ')\n",
    "    print ('')"
   ]
  },
  {
   "cell_type": "markdown",
   "id": "3fff120d",
   "metadata": {},
   "source": [
    "**OR**"
   ]
  },
  {
   "cell_type": "code",
   "execution_count": 7,
   "id": "63c26e7d",
   "metadata": {},
   "outputs": [
    {
     "name": "stdout",
     "output_type": "stream",
     "text": [
      "o \n",
      "o o \n",
      "o o o \n",
      "o o o o \n",
      "o o o o o \n",
      "o o o o \n",
      "o o o \n",
      "o o \n",
      "o \n"
     ]
    }
   ],
   "source": [
    "for i in range(1, 6):\n",
    "    print ('o ' * i)\n",
    "    \n",
    "for j in range(4, 0, -1):\n",
    "    print ('o ' * j)"
   ]
  }
 ],
 "metadata": {
  "kernelspec": {
   "display_name": "Python 3",
   "language": "python",
   "name": "python3"
  },
  "language_info": {
   "codemirror_mode": {
    "name": "ipython",
    "version": 3
   },
   "file_extension": ".py",
   "mimetype": "text/x-python",
   "name": "python",
   "nbconvert_exporter": "python",
   "pygments_lexer": "ipython3",
   "version": "3.8.8"
  }
 },
 "nbformat": 4,
 "nbformat_minor": 5
}
