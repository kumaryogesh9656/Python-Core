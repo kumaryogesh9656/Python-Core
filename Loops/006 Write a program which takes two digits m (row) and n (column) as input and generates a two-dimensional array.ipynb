{
 "cells": [
  {
   "cell_type": "markdown",
   "id": "0b9d28c7",
   "metadata": {},
   "source": [
    "**Write a program which takes two digits m (row) and n (column) as input and generates a two-dimensional array. The element value in the $i^{th}$ row and $j^{th}$ column of the array should be $i * j$.**"
   ]
  },
  {
   "cell_type": "code",
   "execution_count": 1,
   "id": "7e114dce",
   "metadata": {},
   "outputs": [
    {
     "name": "stdout",
     "output_type": "stream",
     "text": [
      "Number of rows: 3\n",
      "Number of columns: 4\n",
      "[[0 0 0 0]\n",
      " [0 1 2 3]\n",
      " [0 2 4 6]]\n"
     ]
    }
   ],
   "source": [
    "import numpy as np\n",
    "\n",
    "row = int(input(\"Number of rows: \"))\n",
    "col = int(input(\"Number of columns: \"))\n",
    "matrix = [[c for c in range(col)] for r in range(row)]\n",
    "\n",
    "for i in range(row):\n",
    "    for j in range(col):\n",
    "        matrix[i][j] = i * j\n",
    "\n",
    "print (np.array(matrix).reshape(row, col))"
   ]
  },
  {
   "cell_type": "markdown",
   "id": "7cb85248",
   "metadata": {},
   "source": [
    "**OR**"
   ]
  },
  {
   "cell_type": "code",
   "execution_count": 1,
   "id": "18372263",
   "metadata": {},
   "outputs": [
    {
     "name": "stdout",
     "output_type": "stream",
     "text": [
      "Number of rows: 3\n",
      "Number of columns: 4\n",
      "[[0, 0, 0, 0], [0, 1, 2, 3], [0, 2, 4, 6]]\n"
     ]
    }
   ],
   "source": [
    "row = int(input(\"Number of rows: \"))\n",
    "col = int(input(\"Number of columns: \"))\n",
    "matrix = [[c for c in range(col)] for r in range(row)]\n",
    "\n",
    "for i in range(row):\n",
    "    for j in range(col):\n",
    "        matrix[i][j] = i * j\n",
    "        \n",
    "print (matrix)"
   ]
  }
 ],
 "metadata": {
  "kernelspec": {
   "display_name": "Python 3 (ipykernel)",
   "language": "python",
   "name": "python3"
  },
  "language_info": {
   "codemirror_mode": {
    "name": "ipython",
    "version": 3
   },
   "file_extension": ".py",
   "mimetype": "text/x-python",
   "name": "python",
   "nbconvert_exporter": "python",
   "pygments_lexer": "ipython3",
   "version": "3.9.7"
  }
 },
 "nbformat": 4,
 "nbformat_minor": 5
}
