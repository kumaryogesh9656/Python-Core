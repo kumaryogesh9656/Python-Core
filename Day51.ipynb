{
 "cells": [
  {
   "cell_type": "markdown",
   "id": "23b1827e",
   "metadata": {},
   "source": [
    "**Write a Python program to get next day of a given date.** <br/>\n",
    "Expected Output :\n",
    "\n",
    "Input a year: 2016                                                      \n",
    "Input a month [1-12]: 08                                                \n",
    "Input a day [1-31]: 23                                                  \n",
    "The next date is [yyyy-mm-dd] 2016-8-24"
   ]
  },
  {
   "cell_type": "code",
   "execution_count": 1,
   "id": "d11a7fe9",
   "metadata": {},
   "outputs": [
    {
     "name": "stdout",
     "output_type": "stream",
     "text": [
      "Input a year: 2016\n",
      "Input a month [1-12]: 08\n",
      "Input a day [1-31]: 23\n",
      "The next date is [yyyy-mm-dd] 2016-8-24.\n"
     ]
    }
   ],
   "source": [
    "year = int(input('Input a year: '))\n",
    "\n",
    "if year % 400 == 0 or year % 100 != 0 and year % 4 == 0:\n",
    "    leap_year = True\n",
    "    \n",
    "else:\n",
    "    leap_year = False\n",
    "\n",
    "    \n",
    "month = int(input('Input a month [1-12]: '))\n",
    "if month in (1, 3, 5, 7, 8, 10, 12):\n",
    "    month_length = 31\n",
    "    \n",
    "elif month == 2:\n",
    "    if leap_year:\n",
    "        month_length = 29\n",
    "        \n",
    "    else:\n",
    "        month_length = 28\n",
    "        \n",
    "else:\n",
    "    month_length = 30\n",
    "    \n",
    "\n",
    "day = int(input('Input a day [1-31]: '))\n",
    "if day < month_length:\n",
    "    day += 1\n",
    "    \n",
    "else:\n",
    "    day = 1\n",
    "    if month == 12:\n",
    "        month = 1\n",
    "        year += 1\n",
    "        \n",
    "    else:\n",
    "        month += 1\n",
    "        \n",
    "print ('The next date is [yyyy-mm-dd] %d-%d-%d.' % (year, month, day))"
   ]
  }
 ],
 "metadata": {
  "kernelspec": {
   "display_name": "Python 3 (ipykernel)",
   "language": "python",
   "name": "python3"
  },
  "language_info": {
   "codemirror_mode": {
    "name": "ipython",
    "version": 3
   },
   "file_extension": ".py",
   "mimetype": "text/x-python",
   "name": "python",
   "nbconvert_exporter": "python",
   "pygments_lexer": "ipython3",
   "version": "3.9.7"
  }
 },
 "nbformat": 4,
 "nbformat_minor": 5
}
