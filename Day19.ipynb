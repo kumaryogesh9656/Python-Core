{
 "cells": [
  {
   "cell_type": "markdown",
   "id": "2057dc65",
   "metadata": {},
   "source": [
    "**Define a custom exception class which takes a string message as attribute.**"
   ]
  },
  {
   "cell_type": "code",
   "execution_count": 1,
   "id": "87dfc480",
   "metadata": {},
   "outputs": [
    {
     "name": "stdout",
     "output_type": "stream",
     "text": [
      "Enter your message: This message is for everyone\n",
      "This message is for everyone\n"
     ]
    }
   ],
   "source": [
    "class custom_exception:\n",
    "    def __init__(self):\n",
    "        self.message = input('Enter your message: ')\n",
    "        print (self.message)\n",
    "        \n",
    "ce = custom_exception()"
   ]
  },
  {
   "cell_type": "markdown",
   "id": "467bc5a6",
   "metadata": {},
   "source": [
    "**Assuming that we have some email addresses in the \"username@companyname.com\" format, please write program to print the user name of a given email address. Both user names and company names are composed of letters only.** <br/>\n",
    "If the following email address is given as input to the program: Chandra@gdhdhtc.com <br/>\n",
    "Then, the output of the program should be: Chandra "
   ]
  },
  {
   "cell_type": "code",
   "execution_count": 2,
   "id": "93c77c87",
   "metadata": {},
   "outputs": [
    {
     "name": "stdout",
     "output_type": "stream",
     "text": [
      "Enter your email address: Chandra@gdhdhtc.com\n",
      "Chandra\n"
     ]
    }
   ],
   "source": [
    "email = input('Enter your email address: ')\n",
    "\n",
    "print (email.rpartition('@')[0])"
   ]
  },
  {
   "cell_type": "markdown",
   "id": "4ecd2891",
   "metadata": {},
   "source": [
    "**OR**"
   ]
  },
  {
   "cell_type": "code",
   "execution_count": 3,
   "id": "732c0f62",
   "metadata": {},
   "outputs": [
    {
     "name": "stdout",
     "output_type": "stream",
     "text": [
      "Enter your email address: Chandra@gdhdhtc.com\n",
      "Chandra"
     ]
    }
   ],
   "source": [
    "email = input('Enter your email address: ')\n",
    "\n",
    "for i in email:\n",
    "    if i == '@':\n",
    "        break\n",
    "    print (i, end = '')"
   ]
  }
 ],
 "metadata": {
  "kernelspec": {
   "display_name": "Python 3",
   "language": "python",
   "name": "python3"
  },
  "language_info": {
   "codemirror_mode": {
    "name": "ipython",
    "version": 3
   },
   "file_extension": ".py",
   "mimetype": "text/x-python",
   "name": "python",
   "nbconvert_exporter": "python",
   "pygments_lexer": "ipython3",
   "version": "3.8.8"
  }
 },
 "nbformat": 4,
 "nbformat_minor": 5
}
