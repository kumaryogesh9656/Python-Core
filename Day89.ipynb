{
 "cells": [
  {
   "cell_type": "markdown",
   "id": "dcb4f78e",
   "metadata": {},
   "source": [
    "**Write a function double(L) in python which take a list as an argument and if an element is numeric then multiply it by 3 and if it is a string then concatenate that element with itself. For example:** <br/>\n",
    "Original List: L = [1, 2, \"amit\", 5, \"list\"]\n",
    "\n",
    "Output <br/>\n",
    "[3, 6, \"amitamit\", 15, \"listlist\"]"
   ]
  },
  {
   "cell_type": "code",
   "execution_count": 1,
   "id": "c242fcbc",
   "metadata": {},
   "outputs": [
    {
     "name": "stdout",
     "output_type": "stream",
     "text": [
      "Original List: [1, 2, 'amit', 5, 'list']\n",
      "\n",
      "[3, 6, 'amitamit', 15, 'listlist']\n"
     ]
    }
   ],
   "source": [
    "L = [1, 2, \"amit\", 5, \"list\"]\n",
    "\n",
    "def double(L):\n",
    "    print (f\"Original List: {L}\\n\")\n",
    "    \n",
    "    for i in range(len(L)):\n",
    "        if str(L[i]).isdigit():\n",
    "            L[i] *= 3\n",
    "        elif L[i].isalpha():\n",
    "            L[i] += L[i]\n",
    "            \n",
    "    print (L)\n",
    "    \n",
    "double(L)"
   ]
  },
  {
   "cell_type": "markdown",
   "id": "cd476914",
   "metadata": {},
   "source": [
    "**OR**"
   ]
  },
  {
   "cell_type": "code",
   "execution_count": 1,
   "id": "e8b75ced",
   "metadata": {},
   "outputs": [
    {
     "name": "stdout",
     "output_type": "stream",
     "text": [
      "Original List: [1, 2, 'amit', 5, 'list']\n",
      "\n",
      "[3, 6, 'amitamit', 15, 'listlist']\n"
     ]
    }
   ],
   "source": [
    "L = [1, 2, \"amit\", 5, \"list\"]\n",
    "\n",
    "def double(L):\n",
    "    print (f\"Original List: {L}\\n\")\n",
    "    \n",
    "    for i in range(len(L)):\n",
    "        if str(L[i]).isdigit():\n",
    "            L[i] *= 3\n",
    "        else:\n",
    "            L[i] *= 2\n",
    "            \n",
    "    print (L)\n",
    "    \n",
    "double(L)"
   ]
  }
 ],
 "metadata": {
  "kernelspec": {
   "display_name": "Python 3 (ipykernel)",
   "language": "python",
   "name": "python3"
  },
  "language_info": {
   "codemirror_mode": {
    "name": "ipython",
    "version": 3
   },
   "file_extension": ".py",
   "mimetype": "text/x-python",
   "name": "python",
   "nbconvert_exporter": "python",
   "pygments_lexer": "ipython3",
   "version": "3.9.7"
  }
 },
 "nbformat": 4,
 "nbformat_minor": 5
}
