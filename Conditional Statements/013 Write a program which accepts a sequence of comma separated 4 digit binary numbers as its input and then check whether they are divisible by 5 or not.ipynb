{
 "cells": [
  {
   "cell_type": "markdown",
   "id": "626d2f23",
   "metadata": {},
   "source": [
    "**Write a program which accepts a sequence of comma separated 4 digit binary numbers as its input and then check whether they are divisible by 5 or not. The numbers that are divisible by 5 are to be printed in a comma separated sequence.**"
   ]
  },
  {
   "cell_type": "code",
   "execution_count": 1,
   "id": "597b23f8",
   "metadata": {},
   "outputs": [
    {
     "name": "stdout",
     "output_type": "stream",
     "text": [
      "Enter 4 digit binary numbers: 0001, 0011, 1010, 1001\n",
      "1010\n"
     ]
    }
   ],
   "source": [
    "num = input(\"Enter 4 digit binary numbers: \").split(\", \")\n",
    "l = []\n",
    "\n",
    "for i in num:\n",
    "    d = int(i, 2)\n",
    "    if d % 5 == 0:\n",
    "        l.append(i)\n",
    "        \n",
    "print(\", \".join(l))"
   ]
  },
  {
   "cell_type": "markdown",
   "id": "8684e1f8",
   "metadata": {},
   "source": [
    "**OR**"
   ]
  },
  {
   "cell_type": "code",
   "execution_count": 1,
   "id": "d4530f0a",
   "metadata": {},
   "outputs": [
    {
     "name": "stdout",
     "output_type": "stream",
     "text": [
      "Enter 4 digit binary numbers: 0001, 0011, 1010, 1001\n",
      "10: 1010\n"
     ]
    }
   ],
   "source": [
    "def binary():\n",
    "    b = input(\"Enter 4 digit binary numbers: \").split(\", \")\n",
    "    \n",
    "    for i in b:\n",
    "        x = int(i, 2)\n",
    "        if x % 5 == 0:\n",
    "            print (f\"{x}: {i}\")\n",
    "            \n",
    "binary()"
   ]
  }
 ],
 "metadata": {
  "kernelspec": {
   "display_name": "Python 3 (ipykernel)",
   "language": "python",
   "name": "python3"
  },
  "language_info": {
   "codemirror_mode": {
    "name": "ipython",
    "version": 3
   },
   "file_extension": ".py",
   "mimetype": "text/x-python",
   "name": "python",
   "nbconvert_exporter": "python",
   "pygments_lexer": "ipython3",
   "version": "3.9.7"
  }
 },
 "nbformat": 4,
 "nbformat_minor": 5
}
