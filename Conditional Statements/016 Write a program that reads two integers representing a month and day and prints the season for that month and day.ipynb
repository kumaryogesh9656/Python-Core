{
 "cells": [
  {
   "cell_type": "markdown",
   "id": "f67d0896",
   "metadata": {},
   "source": [
    "**Write a program that reads two integers representing a month and day and prints the season for that month and day.**"
   ]
  },
  {
   "cell_type": "code",
   "execution_count": 1,
   "id": "1f4f83fa",
   "metadata": {},
   "outputs": [
    {
     "name": "stdout",
     "output_type": "stream",
     "text": [
      "Input the month: July\n",
      "Input the day: 31\n",
      "Summer\n"
     ]
    }
   ],
   "source": [
    "def season():\n",
    "    month = input(\"Input the month: \").title()\n",
    "    day = int(input(\"Input the day: \"))\n",
    "    \n",
    "    if month in (\"January\", \"February\", \"March\"):\n",
    "        season = \"Winter\"        \n",
    "    elif month in (\"April\", \"May\", \"June\"):\n",
    "        season = \"Spring\"        \n",
    "    elif month in (\"July\", \"August\", \"September\"):\n",
    "        season = \"Summer\"        \n",
    "    else:\n",
    "        season = \"Autumn\"\n",
    "\n",
    "    if (month == \"March\") and (day > 19):\n",
    "            season = \"Spring\"            \n",
    "    elif (month == \"June\") and (day > 20):\n",
    "            season = \"Summer\"            \n",
    "    elif (month == \"September\") and (day > 21):\n",
    "            season = \"Autumn\"            \n",
    "    elif (month == \"December\") and (day > 20):\n",
    "            season = \"Winter\"\n",
    "\n",
    "    print(season)   \n",
    "        \n",
    "season()"
   ]
  }
 ],
 "metadata": {
  "kernelspec": {
   "display_name": "Python 3 (ipykernel)",
   "language": "python",
   "name": "python3"
  },
  "language_info": {
   "codemirror_mode": {
    "name": "ipython",
    "version": 3
   },
   "file_extension": ".py",
   "mimetype": "text/x-python",
   "name": "python",
   "nbconvert_exporter": "python",
   "pygments_lexer": "ipython3",
   "version": "3.9.7"
  }
 },
 "nbformat": 4,
 "nbformat_minor": 5
}
