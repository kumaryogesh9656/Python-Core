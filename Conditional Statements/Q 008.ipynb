{
 "cells": [
  {
   "cell_type": "markdown",
   "id": "0c2836b4",
   "metadata": {},
   "source": [
    "**Write a Python program to calculate a dog's age in dog's years.** <br/>\n",
    "Note : For the first two years, a dog year is equal to 10.5 human years. After that, each dog year equals 4 human years. <br/>\n",
    "Expected Output : <br/>\n",
    "\n",
    "Input a dog's age in human years: 15                                \n",
    "The dog's age in dog's years is 73"
   ]
  },
  {
   "cell_type": "code",
   "execution_count": 1,
   "id": "75b2d6fa",
   "metadata": {},
   "outputs": [
    {
     "name": "stdout",
     "output_type": "stream",
     "text": [
      "Input a dog's age in human years: 15\n",
      "The dog's age in dog's years is 73\n"
     ]
    }
   ],
   "source": [
    "def dog_age():\n",
    "    d = int(input(\"Input a dog's age in human years: \"))\n",
    "    \n",
    "    if d < 0:\n",
    "        print ('Age mustbe positive number.')\n",
    "        exit()\n",
    "        \n",
    "    elif d <= 2:\n",
    "        d_age = d * 10.5\n",
    "        \n",
    "    else:\n",
    "        d_age = 21 + (d - 2) * 4\n",
    "        \n",
    "    print (\"The dog's age in dog's years is\", d_age)\n",
    "\n",
    "dog_age()"
   ]
  }
 ],
 "metadata": {
  "kernelspec": {
   "display_name": "Python 3",
   "language": "python",
   "name": "python3"
  },
  "language_info": {
   "codemirror_mode": {
    "name": "ipython",
    "version": 3
   },
   "file_extension": ".py",
   "mimetype": "text/x-python",
   "name": "python",
   "nbconvert_exporter": "python",
   "pygments_lexer": "ipython3",
   "version": "3.8.8"
  }
 },
 "nbformat": 4,
 "nbformat_minor": 5
}
