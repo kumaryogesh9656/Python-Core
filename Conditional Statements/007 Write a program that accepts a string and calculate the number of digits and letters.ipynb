{
 "cells": [
  {
   "cell_type": "markdown",
   "id": "f856f5fb",
   "metadata": {},
   "source": [
    "**Write a program that accepts a string and calculate the number of digits and letters.**"
   ]
  },
  {
   "cell_type": "code",
   "execution_count": 1,
   "id": "9acdb882",
   "metadata": {},
   "outputs": [
    {
     "name": "stdout",
     "output_type": "stream",
     "text": [
      "Enter a String: Python 3.2\n",
      "Letters: 6\n",
      "Digits : 2\n"
     ]
    }
   ],
   "source": [
    "def cal_string():\n",
    "    s = input(\"Enter a String: \")\n",
    "    digit = letter = 0\n",
    "    \n",
    "    for i in s:\n",
    "        if i.isdigit():\n",
    "            digit += 1        \n",
    "        elif i.isalpha():\n",
    "            letter += 1            \n",
    "        else:\n",
    "            pass\n",
    "        \n",
    "    print (\"Letters:\", letter)        \n",
    "    print (\"Digits :\", digit)\n",
    "\n",
    "cal_string()"
   ]
  }
 ],
 "metadata": {
  "kernelspec": {
   "display_name": "Python 3 (ipykernel)",
   "language": "python",
   "name": "python3"
  },
  "language_info": {
   "codemirror_mode": {
    "name": "ipython",
    "version": 3
   },
   "file_extension": ".py",
   "mimetype": "text/x-python",
   "name": "python",
   "nbconvert_exporter": "python",
   "pygments_lexer": "ipython3",
   "version": "3.9.7"
  }
 },
 "nbformat": 4,
 "nbformat_minor": 5
}
