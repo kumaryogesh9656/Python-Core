{
 "cells": [
  {
   "cell_type": "markdown",
   "id": "a93b421e",
   "metadata": {},
   "source": [
    "**Write a Python program to find the median of three values.** <br/>\n",
    "Expected Output :\n",
    "\n",
    "Input first number: 15                                                  \n",
    "Input second number: 26                                                 \n",
    "Input third number: 29                                                  \n",
    "The median is 26.0"
   ]
  },
  {
   "cell_type": "code",
   "execution_count": 1,
   "id": "9df2f884",
   "metadata": {},
   "outputs": [
    {
     "name": "stdout",
     "output_type": "stream",
     "text": [
      "Input first number: 15\n",
      "Input second number: 26\n",
      "Input third number: 29\n",
      "The median is 26.0\n"
     ]
    }
   ],
   "source": [
    "a = float(input('Input first number: '))\n",
    "b = float(input('Input second number: '))\n",
    "c = float(input('Input third number: '))\n",
    "\n",
    "if a > b:\n",
    "    if a < c:\n",
    "        median = a\n",
    "        \n",
    "    elif b > c:\n",
    "        median = b\n",
    "        \n",
    "    else:\n",
    "        median = c\n",
    "    \n",
    "else:\n",
    "    if a > c:\n",
    "        median = a\n",
    "    \n",
    "    elif b < c:\n",
    "        median = b\n",
    "        \n",
    "    else:\n",
    "        median = c\n",
    "        \n",
    "print ('The median is', median)"
   ]
  }
 ],
 "metadata": {
  "kernelspec": {
   "display_name": "Python 3 (ipykernel)",
   "language": "python",
   "name": "python3"
  },
  "language_info": {
   "codemirror_mode": {
    "name": "ipython",
    "version": 3
   },
   "file_extension": ".py",
   "mimetype": "text/x-python",
   "name": "python",
   "nbconvert_exporter": "python",
   "pygments_lexer": "ipython3",
   "version": "3.9.7"
  }
 },
 "nbformat": 4,
 "nbformat_minor": 5
}
