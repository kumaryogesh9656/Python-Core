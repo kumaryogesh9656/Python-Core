{
 "cells": [
  {
   "cell_type": "markdown",
   "id": "4f0df289",
   "metadata": {},
   "source": [
    "**Write a Python program which accepts a sequence of comma separated 4 digit binary numbers as its input and print the numbers that are divisible by 5 in a comma separated sequence.** <br/>\n",
    "Sample Data : 0100,0011,1010,1001,1100,1001 <br/>\n",
    "Expected Output : \n",
    "\n",
    "1010"
   ]
  },
  {
   "cell_type": "code",
   "execution_count": 1,
   "id": "ac3a11af",
   "metadata": {},
   "outputs": [
    {
     "name": "stdout",
     "output_type": "stream",
     "text": [
      "Enter binary numbers:  0001,0011,1010,1001\n",
      "10 : 1010\n"
     ]
    }
   ],
   "source": [
    "def binary():\n",
    "    b = input('Enter binary numbers: ').split(',')\n",
    "    \n",
    "    for i in b:\n",
    "        x = int(i, 2)\n",
    "        \n",
    "        if x % 5 == 0:\n",
    "            print (f'{x} : {i}')\n",
    "            \n",
    "binary()"
   ]
  },
  {
   "cell_type": "markdown",
   "id": "f856f5fb",
   "metadata": {},
   "source": [
    "**Write a Python program that accepts a string and calculate the number of digits and letters.** <br/>\n",
    "Sample Data : Python 3.2 <br/>\n",
    "Expected Output : <br/>\n",
    "\n",
    "Letters 6 <br/>\n",
    "Digits 2"
   ]
  },
  {
   "cell_type": "code",
   "execution_count": 1,
   "id": "9acdb882",
   "metadata": {},
   "outputs": [
    {
     "name": "stdout",
     "output_type": "stream",
     "text": [
      "Enter a String: Python 3.2\n",
      "Letters : 6\n",
      "Digits  : 2\n"
     ]
    }
   ],
   "source": [
    "def cal_string():\n",
    "    s = input('Enter a String: ')\n",
    "    digit = letter = 0\n",
    "    \n",
    "    for i in s:\n",
    "        if i.isdigit():\n",
    "            digit += 1\n",
    "        \n",
    "        elif i.isalpha():\n",
    "            letter += 1\n",
    "            \n",
    "        else:\n",
    "            pass\n",
    "        \n",
    "    print ('Letters :', letter)        \n",
    "    print ('Digits  :', digit)\n",
    "\n",
    "cal_string()"
   ]
  }
 ],
 "metadata": {
  "kernelspec": {
   "display_name": "Python 3",
   "language": "python",
   "name": "python3"
  },
  "language_info": {
   "codemirror_mode": {
    "name": "ipython",
    "version": 3
   },
   "file_extension": ".py",
   "mimetype": "text/x-python",
   "name": "python",
   "nbconvert_exporter": "python",
   "pygments_lexer": "ipython3",
   "version": "3.8.8"
  }
 },
 "nbformat": 4,
 "nbformat_minor": 5
}
