{
 "cells": [
  {
   "cell_type": "markdown",
   "id": "bb8b43f2",
   "metadata": {},
   "source": [
    "**Write a Python program to check a triangle is equilateral, isosceles or scalene.** <br/>\n",
    "Note : <br/>\n",
    "An equilateral triangle is a triangle in which all three sides are equal. <br/>\n",
    "A scalene triangle is a triangle that has three unequal sides. <br/>\n",
    "An isosceles triangle is a triangle with (at least) two equal sides. <br/>\n",
    "Expected Output : <br/>\n",
    "\n",
    "Input lengths of the triangle sides:                                    \n",
    "x: 6                                                                 \n",
    "y: 8                                                                   \n",
    "z: 12                                                                   \n",
    "Scalene triangle  "
   ]
  },
  {
   "cell_type": "code",
   "execution_count": 1,
   "id": "7416caaa",
   "metadata": {},
   "outputs": [
    {
     "name": "stdout",
     "output_type": "stream",
     "text": [
      "Input lengths of the triangle sides: \n",
      "x: 6\n",
      "y: 8\n",
      "z: 12\n",
      "Scalene triangle\n"
     ]
    }
   ],
   "source": [
    "def check_triangle():\n",
    "    print ('Input lengths of the triangle sides: ')\n",
    "    x = (int(input('x: ')))\n",
    "    y = (int(input('y: ')))\n",
    "    z = (int(input('z: ')))\n",
    "    \n",
    "    if x == y == z:\n",
    "        print ('Equilateral triangle')\n",
    "        \n",
    "    elif x == y or y == z or z == x:\n",
    "        print ('Isosceles triangle')\n",
    "        \n",
    "    else:\n",
    "        print ('Scalene triangle')\n",
    "        \n",
    "check_triangle()"
   ]
  }
 ],
 "metadata": {
  "kernelspec": {
   "display_name": "Python 3 (ipykernel)",
   "language": "python",
   "name": "python3"
  },
  "language_info": {
   "codemirror_mode": {
    "name": "ipython",
    "version": 3
   },
   "file_extension": ".py",
   "mimetype": "text/x-python",
   "name": "python",
   "nbconvert_exporter": "python",
   "pygments_lexer": "ipython3",
   "version": "3.9.7"
  }
 },
 "nbformat": 4,
 "nbformat_minor": 5
}
