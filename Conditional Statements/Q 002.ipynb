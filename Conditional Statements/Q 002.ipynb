{
 "cells": [
  {
   "cell_type": "markdown",
   "id": "05b7056c",
   "metadata": {},
   "source": [
    "**Write a program, which will find all such numbers between 1000 and 3000 (both included) such that each digit of the number is an even number.**"
   ]
  },
  {
   "cell_type": "code",
   "execution_count": 1,
   "id": "d1896aeb",
   "metadata": {},
   "outputs": [
    {
     "name": "stdout",
     "output_type": "stream",
     "text": [
      "2000, 2002, 2004, 2006, 2008, 2020, 2022, 2024, 2026, 2028, 2040, 2042, 2044, 2046, 2048, 2060, 2062, 2064, 2066, 2068, 2080, 2082, 2084, 2086, 2088, 2200, 2202, 2204, 2206, 2208, 2220, 2222, 2224, 2226, 2228, 2240, 2242, 2244, 2246, 2248, 2260, 2262, 2264, 2266, 2268, 2280, 2282, 2284, 2286, 2288, 2400, 2402, 2404, 2406, 2408, 2420, 2422, 2424, 2426, 2428, 2440, 2442, 2444, 2446, 2448, 2460, 2462, 2464, 2466, 2468, 2480, 2482, 2484, 2486, 2488, 2600, 2602, 2604, 2606, 2608, 2620, 2622, 2624, 2626, 2628, 2640, 2642, 2644, 2646, 2648, 2660, 2662, 2664, 2666, 2668, 2680, 2682, 2684, 2686, 2688, 2800, 2802, 2804, 2806, 2808, 2820, 2822, 2824, 2826, 2828, 2840, 2842, 2844, 2846, 2848, 2860, 2862, 2864, 2866, 2868, 2880, 2882, 2884, 2886, 2888\n"
     ]
    }
   ],
   "source": [
    "l = []\n",
    "\n",
    "for i in range(1000,3001):\n",
    "    y = str(i)\n",
    "    if int(y[0]) % 2 == 0 and int(y[1]) % 2 == 0 and int(y[2]) % 2 == 0 and int(y[3]) % 2 == 0:\n",
    "        l.append(y)\n",
    "\n",
    "print (', '.join(l))"
   ]
  },
  {
   "cell_type": "markdown",
   "id": "51034813",
   "metadata": {},
   "source": [
    "**Write a program that accepts a sentence and calculate the number of letters and digits.** <br/>\n",
    "Suppose the input is supplied to the program: hello world! 123 <br/>\n",
    "Then, the output should be: \n",
    "\n",
    "LETTERS 10 <br/>\n",
    "DIGITS 3"
   ]
  },
  {
   "cell_type": "code",
   "execution_count": 2,
   "id": "d03b73e6",
   "metadata": {},
   "outputs": [
    {
     "name": "stdout",
     "output_type": "stream",
     "text": [
      "Enter your sentence: hello world! 123\n"
     ]
    }
   ],
   "source": [
    "n = input('Enter your sentence: ')"
   ]
  },
  {
   "cell_type": "code",
   "execution_count": 3,
   "id": "5ce7f7fa",
   "metadata": {},
   "outputs": [
    {
     "name": "stdout",
     "output_type": "stream",
     "text": [
      "Letters : 10\n",
      "Digits  : 3\n"
     ]
    }
   ],
   "source": [
    "l, d = 0, 0\n",
    "\n",
    "for i in n:\n",
    "    if i.isalpha():\n",
    "        l += 1\n",
    "    elif i.isdigit():\n",
    "        d += 1\n",
    "\n",
    "print ('Letters :', l)\n",
    "print ('Digits  :', d)"
   ]
  },
  {
   "cell_type": "markdown",
   "id": "1733d469",
   "metadata": {},
   "source": [
    "**Write a program that accepts a sentence and calculate the number of upper case letters and lower case letters.** <br/>\n",
    "Suppose the input is supplied to the program: Hello world! <br/>\n",
    "Then, the output should be: \n",
    "\n",
    "UPPER CASE 1 <br/>\n",
    "LOWER CASE 9"
   ]
  },
  {
   "cell_type": "code",
   "execution_count": 4,
   "id": "e0c80d5e",
   "metadata": {},
   "outputs": [
    {
     "name": "stdout",
     "output_type": "stream",
     "text": [
      "Enter your sentence: Hello world!\n"
     ]
    }
   ],
   "source": [
    "n = input('Enter your sentence: ')"
   ]
  },
  {
   "cell_type": "code",
   "execution_count": 5,
   "id": "ce43560d",
   "metadata": {},
   "outputs": [
    {
     "name": "stdout",
     "output_type": "stream",
     "text": [
      "Upper Case : 1\n",
      "Lower Case : 9\n"
     ]
    }
   ],
   "source": [
    "u, l = 0, 0\n",
    "\n",
    "for i in n:\n",
    "        \n",
    "    if i.isupper():\n",
    "        u += 1\n",
    "        \n",
    "    elif i.islower():\n",
    "        l += 1\n",
    "        \n",
    "print ('Upper Case :', u)\n",
    "print ('Lower Case :', l)"
   ]
  },
  {
   "cell_type": "markdown",
   "id": "5fd282a3",
   "metadata": {},
   "source": [
    "**Write a program that computes the value of a + aa + aaa + aaaa with a given digit as the value of a.** <br/>\n",
    "Suppose the input is supplied to the program: 9 <br/>\n",
    "Then, the output should be: 11106 "
   ]
  },
  {
   "cell_type": "code",
   "execution_count": 6,
   "id": "6841c165",
   "metadata": {},
   "outputs": [
    {
     "name": "stdout",
     "output_type": "stream",
     "text": [
      "11106\n"
     ]
    }
   ],
   "source": [
    "a = '9'\n",
    "sum = 0\n",
    "\n",
    "for i in range(1,5):\n",
    "    x = a * i\n",
    "    sum = sum + int(x)\n",
    "    \n",
    "print (sum)"
   ]
  }
 ],
 "metadata": {
  "kernelspec": {
   "display_name": "Python 3",
   "language": "python",
   "name": "python3"
  },
  "language_info": {
   "codemirror_mode": {
    "name": "ipython",
    "version": 3
   },
   "file_extension": ".py",
   "mimetype": "text/x-python",
   "name": "python",
   "nbconvert_exporter": "python",
   "pygments_lexer": "ipython3",
   "version": "3.8.8"
  }
 },
 "nbformat": 4,
 "nbformat_minor": 5
}
