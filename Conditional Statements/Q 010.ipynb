{
 "cells": [
  {
   "cell_type": "markdown",
   "id": "715a5d2d",
   "metadata": {},
   "source": [
    "**Write a Python program to convert month name to a number of days.** <br/>\n",
    "Expected Output : <br/>\n",
    "\n",
    "List of months: January, February, March, April, May, June, July, August, September, October, November, December <br/>\n",
    "Input the name of Month: February                                    \n",
    "No. of days : 28/29 days "
   ]
  },
  {
   "cell_type": "code",
   "execution_count": 1,
   "id": "6848ab64",
   "metadata": {},
   "outputs": [
    {
     "name": "stdout",
     "output_type": "stream",
     "text": [
      "List of months: January, February, March, April, May, June, July, August, September, October, November, December\n",
      "Input the name of the Month: February\n",
      "No. of days: 28/29 days\n"
     ]
    }
   ],
   "source": [
    "def convert_month():\n",
    "    print ('List of months: January, February, March, April, May, June, July, August, September, October, November, December')\n",
    "    month = input('Input the name of the Month: ').title()\n",
    "    \n",
    "    if  month in ['January', 'March', 'May', 'July', 'August', 'October', 'December']:\n",
    "        print ('No. of days: 31 days')\n",
    "        \n",
    "    elif month in ['April', 'June', 'September', 'November']:\n",
    "         print ('No. of days: 30 days')\n",
    "        \n",
    "    elif month == 'February':\n",
    "         print ('No. of days: 28/29 days')\n",
    "        \n",
    "    else:\n",
    "        print ('Wrong month name')\n",
    "    \n",
    "convert_month()"
   ]
  }
 ],
 "metadata": {
  "kernelspec": {
   "display_name": "Python 3",
   "language": "python",
   "name": "python3"
  },
  "language_info": {
   "codemirror_mode": {
    "name": "ipython",
    "version": 3
   },
   "file_extension": ".py",
   "mimetype": "text/x-python",
   "name": "python",
   "nbconvert_exporter": "python",
   "pygments_lexer": "ipython3",
   "version": "3.8.8"
  }
 },
 "nbformat": 4,
 "nbformat_minor": 5
}
