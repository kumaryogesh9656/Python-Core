{
 "cells": [
  {
   "cell_type": "markdown",
   "id": "d6dd18dd",
   "metadata": {},
   "source": [
    "**Write a program to convert temperatures to and from Celsius, Fahrenheit.**"
   ]
  },
  {
   "cell_type": "code",
   "execution_count": 1,
   "id": "ddcd9fdc",
   "metadata": {},
   "outputs": [
    {
     "name": "stdout",
     "output_type": "stream",
     "text": [
      "Input the temperature you like to convert: 98.6F\n",
      "The temperature in Celsius is 37.0 degree.\n"
     ]
    }
   ],
   "source": [
    "temp = input(\"Input the temperature you like to convert: \")\n",
    "degree = float(temp[:-1])\n",
    "i_convention = temp[-1]\n",
    "\n",
    "if i_convention.upper() == \"C\":\n",
    "    result = round(((9 * degree)/5 + 32), 2)\n",
    "    o_convention = \"Fahrenheit\"\n",
    "elif i_convention.upper() == \"F\":\n",
    "    result = round(((degree - 32) * 5/9), 2)\n",
    "    o_convention = \"Celsius\"    \n",
    "else:\n",
    "    print (\"Input proper convention\")\n",
    "    exit()\n",
    "    \n",
    "print (f\"The temperature in {o_convention} is {result} degree.\")"
   ]
  }
 ],
 "metadata": {
  "kernelspec": {
   "display_name": "Python 3 (ipykernel)",
   "language": "python",
   "name": "python3"
  },
  "language_info": {
   "codemirror_mode": {
    "name": "ipython",
    "version": 3
   },
   "file_extension": ".py",
   "mimetype": "text/x-python",
   "name": "python",
   "nbconvert_exporter": "python",
   "pygments_lexer": "ipython3",
   "version": "3.9.7"
  }
 },
 "nbformat": 4,
 "nbformat_minor": 5
}
