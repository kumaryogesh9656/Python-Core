{
 "cells": [
  {
   "cell_type": "markdown",
   "id": "2b53f275",
   "metadata": {},
   "source": [
    "**Write a program that accepts a sentence and calculate the number of upper case letters and lower case letters.**"
   ]
  },
  {
   "cell_type": "code",
   "execution_count": 1,
   "id": "e12e729f",
   "metadata": {},
   "outputs": [
    {
     "name": "stdout",
     "output_type": "stream",
     "text": [
      "Enter your sentence: Hello world!\n",
      "Upper Case: 1\n",
      "Lower Case: 9\n"
     ]
    }
   ],
   "source": [
    "n = input(\"Enter your sentence: \")\n",
    "u, l = 0, 0\n",
    "\n",
    "for i in n:        \n",
    "    if i.isupper():\n",
    "        u += 1        \n",
    "    elif i.islower():\n",
    "        l += 1\n",
    "        \n",
    "print (\"Upper Case:\", u)\n",
    "print (\"Lower Case:\", l)"
   ]
  }
 ],
 "metadata": {
  "kernelspec": {
   "display_name": "Python 3 (ipykernel)",
   "language": "python",
   "name": "python3"
  },
  "language_info": {
   "codemirror_mode": {
    "name": "ipython",
    "version": 3
   },
   "file_extension": ".py",
   "mimetype": "text/x-python",
   "name": "python",
   "nbconvert_exporter": "python",
   "pygments_lexer": "ipython3",
   "version": "3.9.7"
  }
 },
 "nbformat": 4,
 "nbformat_minor": 5
}
