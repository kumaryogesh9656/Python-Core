{
 "cells": [
  {
   "cell_type": "markdown",
   "id": "c99a2083",
   "metadata": {},
   "source": [
    "**Write a program to check whether an alphabet is a vowel or consonant.**"
   ]
  },
  {
   "cell_type": "code",
   "execution_count": 1,
   "id": "bd2a6d7e",
   "metadata": {},
   "outputs": [
    {
     "name": "stdout",
     "output_type": "stream",
     "text": [
      "Input a letter of the alphabet: k\n",
      "k is a consonent\n"
     ]
    }
   ],
   "source": [
    "def vowel_consonant():\n",
    "    alphabet = input(\"Input a letter of the alphabet: \")\n",
    "    \n",
    "    for i in alphabet:\n",
    "        if i.isalpha():\n",
    "            if i in \"aeiouAEIOU\":\n",
    "                print (f\"{i} is a vowel\")    \n",
    "            else:\n",
    "                print (f\"{i} is a consonent\")\n",
    "           \n",
    "        else:\n",
    "            print (\"Enter an aplhabet: \")\n",
    "\n",
    "vowel_consonant()"
   ]
  },
  {
   "cell_type": "markdown",
   "id": "a15e206b",
   "metadata": {},
   "source": [
    "**OR**"
   ]
  },
  {
   "cell_type": "code",
   "execution_count": 1,
   "id": "3e20af48",
   "metadata": {},
   "outputs": [
    {
     "name": "stdout",
     "output_type": "stream",
     "text": [
      "Input a letter of the alphabet: k\n",
      "k is a consonent\n"
     ]
    }
   ],
   "source": [
    "def vowel_consonant():\n",
    "    alphabet = input(\"Input a letter of the alphabet: \")\n",
    "    \n",
    "    if alphabet.isalpha():\n",
    "        if alphabet in \"aeiouAEIOU\":\n",
    "            print (f\"{alphabet} is a vowel\")        \n",
    "        else:\n",
    "            print (f\"{alphabet} is a consonent\")\n",
    "            \n",
    "    else:\n",
    "        print (\"Enter an alphabet: \")\n",
    "\n",
    "vowel_consonant()"
   ]
  }
 ],
 "metadata": {
  "kernelspec": {
   "display_name": "Python 3 (ipykernel)",
   "language": "python",
   "name": "python3"
  },
  "language_info": {
   "codemirror_mode": {
    "name": "ipython",
    "version": 3
   },
   "file_extension": ".py",
   "mimetype": "text/x-python",
   "name": "python",
   "nbconvert_exporter": "python",
   "pygments_lexer": "ipython3",
   "version": "3.9.7"
  }
 },
 "nbformat": 4,
 "nbformat_minor": 5
}
