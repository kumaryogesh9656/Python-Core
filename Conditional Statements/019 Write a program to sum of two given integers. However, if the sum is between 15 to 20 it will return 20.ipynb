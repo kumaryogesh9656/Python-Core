{
 "cells": [
  {
   "cell_type": "markdown",
   "id": "02227591",
   "metadata": {},
   "source": [
    "**Write a program to sum of two given integers. However, if the sum is between 15 to 20 it will return 20.**"
   ]
  },
  {
   "cell_type": "code",
   "execution_count": 1,
   "id": "22590857",
   "metadata": {},
   "outputs": [
    {
     "name": "stdout",
     "output_type": "stream",
     "text": [
      "20\n"
     ]
    }
   ],
   "source": [
    "def sum(a, b):\n",
    "    c = a + b\n",
    "    \n",
    "    if c in range(15, 20):\n",
    "        print (20)    \n",
    "    else:\n",
    "        print (c)\n",
    "    \n",
    "sum(10, 9)    "
   ]
  }
 ],
 "metadata": {
  "kernelspec": {
   "display_name": "Python 3 (ipykernel)",
   "language": "python",
   "name": "python3"
  },
  "language_info": {
   "codemirror_mode": {
    "name": "ipython",
    "version": 3
   },
   "file_extension": ".py",
   "mimetype": "text/x-python",
   "name": "python",
   "nbconvert_exporter": "python",
   "pygments_lexer": "ipython3",
   "version": "3.9.7"
  }
 },
 "nbformat": 4,
 "nbformat_minor": 5
}
