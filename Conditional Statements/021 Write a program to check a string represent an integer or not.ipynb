{
 "cells": [
  {
   "cell_type": "markdown",
   "id": "06f0c15a",
   "metadata": {},
   "source": [
    "**Write a program to check a string represent an integer or not.**"
   ]
  },
  {
   "cell_type": "code",
   "execution_count": 1,
   "id": "f7a70613",
   "metadata": {},
   "outputs": [
    {
     "name": "stdout",
     "output_type": "stream",
     "text": [
      "Input a string: 96\n",
      "The string is an integer\n"
     ]
    }
   ],
   "source": [
    "def check_int():\n",
    "    s = input(\"Input a string: \")\n",
    "    s = s.strip()\n",
    "    \n",
    "    if len(s) < 1:\n",
    "        print (\"Input a valid text\")            \n",
    "    else:\n",
    "        if all(s[i] in \"0123456789\" for i in range(len(s))):\n",
    "            print (\"The string is an integer\")            \n",
    "        elif (s[0] in \"+-\") and all(s[i] in \"0123456789\" for i in range(1, len(s))):\n",
    "            print (\"The string is an integer\")            \n",
    "        else:\n",
    "            print (\"The string is not an integer\") \n",
    "            \n",
    "check_int()"
   ]
  }
 ],
 "metadata": {
  "kernelspec": {
   "display_name": "Python 3 (ipykernel)",
   "language": "python",
   "name": "python3"
  },
  "language_info": {
   "codemirror_mode": {
    "name": "ipython",
    "version": 3
   },
   "file_extension": ".py",
   "mimetype": "text/x-python",
   "name": "python",
   "nbconvert_exporter": "python",
   "pygments_lexer": "ipython3",
   "version": "3.9.7"
  }
 },
 "nbformat": 4,
 "nbformat_minor": 5
}
