{
 "cells": [
  {
   "cell_type": "markdown",
   "id": "7d7198f2",
   "metadata": {},
   "source": [
    "**Write a program that prints all the numbers from 0 to 6 except 3 and 6.**"
   ]
  },
  {
   "cell_type": "code",
   "execution_count": 1,
   "id": "88d181c4",
   "metadata": {},
   "outputs": [
    {
     "name": "stdout",
     "output_type": "stream",
     "text": [
      "0 1 2 4 5 "
     ]
    }
   ],
   "source": [
    "for i in range(7):\n",
    "    if i == 6 or i == 3:\n",
    "        continue\n",
    "    \n",
    "    print (i, end = \" \")"
   ]
  },
  {
   "cell_type": "markdown",
   "id": "dfd01ab7",
   "metadata": {},
   "source": [
    "**OR**"
   ]
  },
  {
   "cell_type": "code",
   "execution_count": 1,
   "id": "f5ac7569",
   "metadata": {},
   "outputs": [
    {
     "name": "stdout",
     "output_type": "stream",
     "text": [
      "0 1 2 4 5 "
     ]
    }
   ],
   "source": [
    "for i in range(7):\n",
    "    if i == 6 or i == 3:\n",
    "        pass    \n",
    "    else:\n",
    "        print (i, end = \" \")"
   ]
  },
  {
   "cell_type": "markdown",
   "id": "0744a27d",
   "metadata": {},
   "source": [
    "**OR**"
   ]
  },
  {
   "cell_type": "code",
   "execution_count": 1,
   "id": "9195dfb9",
   "metadata": {},
   "outputs": [
    {
     "name": "stdout",
     "output_type": "stream",
     "text": [
      "0 1 2 4 5 "
     ]
    }
   ],
   "source": [
    "for i in range(7):\n",
    "    if i == 6 or i == 3:\n",
    "        continue    \n",
    "    else:\n",
    "        print (i, end = \" \")"
   ]
  },
  {
   "cell_type": "markdown",
   "id": "27f20735",
   "metadata": {},
   "source": [
    "**OR**"
   ]
  },
  {
   "cell_type": "code",
   "execution_count": 1,
   "id": "9c101a3b",
   "metadata": {},
   "outputs": [
    {
     "name": "stdout",
     "output_type": "stream",
     "text": [
      "0 1 2 4 5 "
     ]
    }
   ],
   "source": [
    "i = 0\n",
    "\n",
    "while i < 7:\n",
    "    if i == 3 or i == 6:\n",
    "        pass\n",
    "        i += 1     \n",
    "    else:\n",
    "        print (i, end = \" \")\n",
    "        i += 1"
   ]
  },
  {
   "cell_type": "markdown",
   "id": "c67a1dad",
   "metadata": {},
   "source": [
    "**OR**"
   ]
  },
  {
   "cell_type": "code",
   "execution_count": 1,
   "id": "0154be6e",
   "metadata": {},
   "outputs": [
    {
     "name": "stdout",
     "output_type": "stream",
     "text": [
      "0 1 2 4 5 "
     ]
    }
   ],
   "source": [
    "i = 0\n",
    "\n",
    "while i < 7:\n",
    "    if i == 3 or i == 6:\n",
    "        i += 1\n",
    "        continue     \n",
    "    else:\n",
    "        print (i, end = \" \")\n",
    "        i += 1"
   ]
  }
 ],
 "metadata": {
  "kernelspec": {
   "display_name": "Python 3 (ipykernel)",
   "language": "python",
   "name": "python3"
  },
  "language_info": {
   "codemirror_mode": {
    "name": "ipython",
    "version": 3
   },
   "file_extension": ".py",
   "mimetype": "text/x-python",
   "name": "python",
   "nbconvert_exporter": "python",
   "pygments_lexer": "ipython3",
   "version": "3.9.7"
  }
 },
 "nbformat": 4,
 "nbformat_minor": 5
}
