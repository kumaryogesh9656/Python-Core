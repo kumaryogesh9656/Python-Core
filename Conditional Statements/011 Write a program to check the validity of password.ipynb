{
 "cells": [
  {
   "cell_type": "markdown",
   "id": "72b595a0",
   "metadata": {},
   "source": [
    "**Write a program to check the validity of password input by users.** <br/>\n",
    "Validation: \n",
    "- At least 1 letter between [a-z] and 1 letter between [A-Z]\n",
    "- At least 1 number between [0-9]\n",
    "- At least 1 character from [$#@]\n",
    "- Minimum length 6 characters\n",
    "- Maximum length 16 characters"
   ]
  },
  {
   "cell_type": "code",
   "execution_count": 1,
   "id": "763b1a3b",
   "metadata": {},
   "outputs": [
    {
     "name": "stdout",
     "output_type": "stream",
     "text": [
      "Enter passwords: ABd1234@1,a F1#,2w3E*,2We3345\n",
      "ABd1234@1\n"
     ]
    }
   ],
   "source": [
    "def pass_validity():\n",
    "    password = input(\"Enter passwords: \").split(\",\")\n",
    "    \n",
    "    for i in password:\n",
    "        upper = lower = digit = character = 0        \n",
    "        for j in i:\n",
    "            if j.isupper():\n",
    "                upper += 1                \n",
    "            elif j.islower():\n",
    "                lower += 1            \n",
    "            elif j.isdigit():\n",
    "                digit += 1                \n",
    "            elif j in \"$#@\":\n",
    "                character += 1                \n",
    "            else:\n",
    "                continue\n",
    "        \n",
    "        if upper > 0 and lower > 0 and digit > 0 and character > 0 and len(i) >= 6 and len(i) <= 16:\n",
    "            print (i)            \n",
    "        else:\n",
    "            continue\n",
    "            \n",
    "pass_validity()"
   ]
  }
 ],
 "metadata": {
  "kernelspec": {
   "display_name": "Python 3 (ipykernel)",
   "language": "python",
   "name": "python3"
  },
  "language_info": {
   "codemirror_mode": {
    "name": "ipython",
    "version": 3
   },
   "file_extension": ".py",
   "mimetype": "text/x-python",
   "name": "python",
   "nbconvert_exporter": "python",
   "pygments_lexer": "ipython3",
   "version": "3.9.7"
  }
 },
 "nbformat": 4,
 "nbformat_minor": 5
}
