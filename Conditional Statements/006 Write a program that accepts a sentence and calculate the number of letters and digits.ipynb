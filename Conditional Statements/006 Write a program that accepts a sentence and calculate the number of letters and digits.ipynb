{
 "cells": [
  {
   "cell_type": "markdown",
   "id": "f5f5c6ee",
   "metadata": {},
   "source": [
    "**Write a program that accepts a sentence and calculate the number of letters and digits.**"
   ]
  },
  {
   "cell_type": "code",
   "execution_count": 1,
   "id": "dc093e5b",
   "metadata": {},
   "outputs": [
    {
     "name": "stdout",
     "output_type": "stream",
     "text": [
      "Enter your sentence: hello world! 123\n",
      "Letters: 10\n",
      "Digits : 3\n"
     ]
    }
   ],
   "source": [
    "n = input(\"Enter your sentence: \")\n",
    "l, d = 0, 0\n",
    "\n",
    "for i in n:\n",
    "    if i.isalpha():\n",
    "        l += 1\n",
    "    elif i.isdigit():\n",
    "        d += 1\n",
    "\n",
    "print (\"Letters:\", l)\n",
    "print (\"Digits :\", d)"
   ]
  }
 ],
 "metadata": {
  "kernelspec": {
   "display_name": "Python 3 (ipykernel)",
   "language": "python",
   "name": "python3"
  },
  "language_info": {
   "codemirror_mode": {
    "name": "ipython",
    "version": 3
   },
   "file_extension": ".py",
   "mimetype": "text/x-python",
   "name": "python",
   "nbconvert_exporter": "python",
   "pygments_lexer": "ipython3",
   "version": "3.9.7"
  }
 },
 "nbformat": 4,
 "nbformat_minor": 5
}
