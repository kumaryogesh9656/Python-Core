{
 "cells": [
  {
   "cell_type": "markdown",
   "id": "bb8b43f2",
   "metadata": {},
   "source": [
    "**Write a program to check a triangle is equilateral, isosceles or scalene.**"
   ]
  },
  {
   "cell_type": "code",
   "execution_count": 1,
   "id": "7416caaa",
   "metadata": {},
   "outputs": [
    {
     "name": "stdout",
     "output_type": "stream",
     "text": [
      "Input lengths of the triangle sides:\n",
      "x: 6\n",
      "y: 5\n",
      "z: 6\n",
      "\n",
      "Isosceles triangle\n"
     ]
    }
   ],
   "source": [
    "def check_triangle():\n",
    "    print (\"Input lengths of the triangle sides:\")\n",
    "    x = (int(input(\"x: \")))\n",
    "    y = (int(input(\"y: \")))\n",
    "    z = (int(input(\"z: \")))\n",
    "    \n",
    "    if x + y > z and y + z > x and x + z > y:\n",
    "        if x == y == z:\n",
    "            print (\"\\nEquilateral triangle\")        \n",
    "        elif x == y or y == z or z == x:\n",
    "            print (\"\\nIsosceles triangle\")        \n",
    "        else:\n",
    "            print (\"\\nScalene triangle\")\n",
    "    else:\n",
    "        print (\"\\nNot a triangle\")\n",
    "        \n",
    "check_triangle()"
   ]
  }
 ],
 "metadata": {
  "kernelspec": {
   "display_name": "Python 3 (ipykernel)",
   "language": "python",
   "name": "python3"
  },
  "language_info": {
   "codemirror_mode": {
    "name": "ipython",
    "version": 3
   },
   "file_extension": ".py",
   "mimetype": "text/x-python",
   "name": "python",
   "nbconvert_exporter": "python",
   "pygments_lexer": "ipython3",
   "version": "3.9.7"
  }
 },
 "nbformat": 4,
 "nbformat_minor": 5
}
