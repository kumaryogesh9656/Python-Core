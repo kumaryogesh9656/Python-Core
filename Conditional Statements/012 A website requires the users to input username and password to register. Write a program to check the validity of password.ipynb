{
 "cells": [
  {
   "cell_type": "markdown",
   "id": "1dad7c0d",
   "metadata": {},
   "source": [
    "**A website requires the users to input username and password to register. Write a program to check the validity of password input by users. <br/>\n",
    "Following are the criteria for checking the password:**\n",
    "- At least 1 letter between [a-z] <br/>\n",
    "- At least 1 letter between [A-Z] <br/>\n",
    "- At least 1 number between [0-9] <br/>\n",
    "- At least 1 character from [$#@] <br/>\n",
    "- Minimum length of transaction password: 6 <br/>\n",
    "- Maximum length of transaction password: 12\n",
    "\n",
    "**Your program should accept a sequence of comma separated passwords and will check them according to the above criteria. Passwords that match the criteria are to be printed, each separated by a comma.**"
   ]
  },
  {
   "cell_type": "code",
   "execution_count": 1,
   "id": "520750d1",
   "metadata": {},
   "outputs": [
    {
     "name": "stdout",
     "output_type": "stream",
     "text": [
      "Enter your passwors: ABd1234@1,a F1#,2w3E*,2We3345\n",
      "ABd1234@1\n"
     ]
    }
   ],
   "source": [
    "password = input(\"Enter your passwors: \").split(\",\")\n",
    "\n",
    "for i in password:\n",
    "    l, d, u, sc = 0, 0, 0, 0\n",
    "    for j in i:               \n",
    "        if j.islower():\n",
    "            l += 1\n",
    "        elif j.isdigit():\n",
    "            d += 1\n",
    "        elif j.isupper():\n",
    "            u += 1\n",
    "        elif j in \"@#$\":\n",
    "            sc += 1\n",
    "        else:\n",
    "            continue\n",
    "    \n",
    "    if l > 0 and d > 0 and u > 0 and sc > 0 and len(i) >= 6 and len(i) <= 12:\n",
    "        print (i)\n",
    "    else:\n",
    "        continue"
   ]
  }
 ],
 "metadata": {
  "kernelspec": {
   "display_name": "Python 3 (ipykernel)",
   "language": "python",
   "name": "python3"
  },
  "language_info": {
   "codemirror_mode": {
    "name": "ipython",
    "version": 3
   },
   "file_extension": ".py",
   "mimetype": "text/x-python",
   "name": "python",
   "nbconvert_exporter": "python",
   "pygments_lexer": "ipython3",
   "version": "3.9.7"
  }
 },
 "nbformat": 4,
 "nbformat_minor": 5
}
