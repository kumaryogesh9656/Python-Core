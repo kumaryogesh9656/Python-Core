{
 "cells": [
  {
   "cell_type": "markdown",
   "id": "e2a40ccd",
   "metadata": {},
   "source": [
    "**Write a program to find numbers between 100 and 400 (both included) where each digit of a number is an even number. The numbers obtained should be printed in a comma-separated sequence.**"
   ]
  },
  {
   "cell_type": "code",
   "execution_count": 1,
   "id": "69a3ba3c",
   "metadata": {},
   "outputs": [
    {
     "name": "stdout",
     "output_type": "stream",
     "text": [
      "200, 202, 204, 206, 208, 220, 222, 224, 226, 228, 240, 242, 244, 246, 248, 260, 262, 264, 266, 268, 280, 282, 284, 286, 288, 400\n"
     ]
    }
   ],
   "source": [
    "def even_between_100_400():\n",
    "    n = []\n",
    "    \n",
    "    for i in range(100, 401):\n",
    "        a = str(i)        \n",
    "        if int(a[0]) % 2 == 0 and int(a[1]) % 2 == 0 and int(a[2]) % 2 == 0:\n",
    "            n.append(a)\n",
    "            \n",
    "    print (\", \".join(n))\n",
    "    \n",
    "even_between_100_400()"
   ]
  }
 ],
 "metadata": {
  "kernelspec": {
   "display_name": "Python 3 (ipykernel)",
   "language": "python",
   "name": "python3"
  },
  "language_info": {
   "codemirror_mode": {
    "name": "ipython",
    "version": 3
   },
   "file_extension": ".py",
   "mimetype": "text/x-python",
   "name": "python",
   "nbconvert_exporter": "python",
   "pygments_lexer": "ipython3",
   "version": "3.9.7"
  }
 },
 "nbformat": 4,
 "nbformat_minor": 5
}
