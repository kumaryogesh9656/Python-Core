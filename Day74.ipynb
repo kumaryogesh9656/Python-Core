{
 "cells": [
  {
   "cell_type": "markdown",
   "id": "7e255f15",
   "metadata": {},
   "source": [
    "**Write a function find(name) in python to display all the names from a list of names which are starting from alphabet 'p'.**"
   ]
  },
  {
   "cell_type": "code",
   "execution_count": 1,
   "id": "a2671dfe",
   "metadata": {},
   "outputs": [
    {
     "name": "stdout",
     "output_type": "stream",
     "text": [
      "Pooja\n",
      "Poonam\n"
     ]
    }
   ],
   "source": [
    "name = [\"Amit\", \"Sumit\", \"Pooja\", \"Mini\", \"Ronit\", \"Poonam\"]\n",
    "\n",
    "def find(name):\n",
    "    for i in range(len(name)):\n",
    "        if name[i][0].lower() == \"p\":\n",
    "            print (name[i])\n",
    "            \n",
    "find(name)"
   ]
  },
  {
   "cell_type": "markdown",
   "id": "9e665f2d",
   "metadata": {},
   "source": [
    "**OR**"
   ]
  },
  {
   "cell_type": "code",
   "execution_count": 1,
   "id": "70589483",
   "metadata": {},
   "outputs": [
    {
     "name": "stdout",
     "output_type": "stream",
     "text": [
      "Pooja\n",
      "Poonam\n"
     ]
    }
   ],
   "source": [
    "name = [\"Amit\", \"Sumit\", \"Pooja\", \"Mini\", \"Ronit\", \"Poonam\"]\n",
    "\n",
    "def find(name):\n",
    "    for i in name:\n",
    "        if i[0].lower() == \"p\":\n",
    "            print (i)\n",
    "            \n",
    "find(name)"
   ]
  }
 ],
 "metadata": {
  "kernelspec": {
   "display_name": "Python 3 (ipykernel)",
   "language": "python",
   "name": "python3"
  },
  "language_info": {
   "codemirror_mode": {
    "name": "ipython",
    "version": 3
   },
   "file_extension": ".py",
   "mimetype": "text/x-python",
   "name": "python",
   "nbconvert_exporter": "python",
   "pygments_lexer": "ipython3",
   "version": "3.9.7"
  }
 },
 "nbformat": 4,
 "nbformat_minor": 5
}
