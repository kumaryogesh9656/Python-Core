{
 "cells": [
  {
   "cell_type": "markdown",
   "id": "abd18d9a",
   "metadata": {},
   "source": [
    "**Write a program in python which swap the alternate members of list (assuming that even number of elements in the list). Like as shown below:** <br/>\n",
    "Original List: L = [23, 45, 67, 29, 12, 1]\n",
    "\n",
    "After Swaping: L = [45, 23, 29, 67, 1, 12]"
   ]
  },
  {
   "cell_type": "code",
   "execution_count": 1,
   "id": "824509dd",
   "metadata": {},
   "outputs": [
    {
     "name": "stdout",
     "output_type": "stream",
     "text": [
      "Original List: [23, 45, 67, 29, 12, 1]\n",
      "\n",
      "After Swaping: [45, 23, 29, 67, 1, 12]\n"
     ]
    }
   ],
   "source": [
    "L = [23, 45, 67, 29, 12, 1]\n",
    "print (f\"Original List: {L}\")\n",
    "for i in range(0, len(L), 2):\n",
    "    L[i], L[i + 1] = L[i + 1], L[i]\n",
    "\n",
    "print (f\"\\nAfter Swaping: {L}\")"
   ]
  }
 ],
 "metadata": {
  "kernelspec": {
   "display_name": "Python 3 (ipykernel)",
   "language": "python",
   "name": "python3"
  },
  "language_info": {
   "codemirror_mode": {
    "name": "ipython",
    "version": 3
   },
   "file_extension": ".py",
   "mimetype": "text/x-python",
   "name": "python",
   "nbconvert_exporter": "python",
   "pygments_lexer": "ipython3",
   "version": "3.9.7"
  }
 },
 "nbformat": 4,
 "nbformat_minor": 5
}
