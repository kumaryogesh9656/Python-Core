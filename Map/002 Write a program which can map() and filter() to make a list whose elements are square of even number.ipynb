{
 "cells": [
  {
   "cell_type": "markdown",
   "id": "e8dca5e3",
   "metadata": {},
   "source": [
    "**Write a program which can map() and filter() to make a list whose elements are square of even number in [1, 2, 3, 4, 5, 6, 7, 8, 9, 10].**"
   ]
  },
  {
   "cell_type": "code",
   "execution_count": 1,
   "id": "2159a82a",
   "metadata": {},
   "outputs": [
    {
     "name": "stdout",
     "output_type": "stream",
     "text": [
      "[4, 16, 36, 64, 100]\n"
     ]
    }
   ],
   "source": [
    "print (list(map(lambda x:x ** 2, filter(lambda x:x % 2 == 0, [1, 2, 3, 4, 5, 6, 7, 8, 9, 10]))))"
   ]
  }
 ],
 "metadata": {
  "kernelspec": {
   "display_name": "Python 3 (ipykernel)",
   "language": "python",
   "name": "python3"
  },
  "language_info": {
   "codemirror_mode": {
    "name": "ipython",
    "version": 3
   },
   "file_extension": ".py",
   "mimetype": "text/x-python",
   "name": "python",
   "nbconvert_exporter": "python",
   "pygments_lexer": "ipython3",
   "version": "3.9.7"
  }
 },
 "nbformat": 4,
 "nbformat_minor": 5
}
