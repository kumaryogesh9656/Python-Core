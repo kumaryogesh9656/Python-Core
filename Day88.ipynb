{
 "cells": [
  {
   "cell_type": "markdown",
   "id": "e149bc90",
   "metadata": {},
   "source": [
    "**Write a function change(L, n) which takes a list and number as an argument and remove that much elements from the end of the list and add those numbers in the beginning of the list. For example:** <br/>\n",
    "Original List: L = [34, 23, 12, 54, 43, 89, 67]\n",
    "\n",
    "Output <br/>\n",
    "[43, 89, 67, 34, 23, 12, 54 ]"
   ]
  },
  {
   "cell_type": "code",
   "execution_count": 1,
   "id": "5291cf8e",
   "metadata": {},
   "outputs": [
    {
     "name": "stdout",
     "output_type": "stream",
     "text": [
      "Original List: [34, 23, 12, 54, 43, 89, 67]\n",
      "\n",
      "[43, 89, 67, 34, 23, 12, 54]\n"
     ]
    }
   ],
   "source": [
    "L = [34, 23, 12, 54, 43, 89, 67]\n",
    "\n",
    "def change(L, n):\n",
    "    print (f\"Original List: {L}\\n\")\n",
    "    \n",
    "    for i in range(n):\n",
    "        L.insert(0, L.pop())\n",
    "    \n",
    "    print (L) \n",
    "    \n",
    "change(L, 3)"
   ]
  }
 ],
 "metadata": {
  "kernelspec": {
   "display_name": "Python 3 (ipykernel)",
   "language": "python",
   "name": "python3"
  },
  "language_info": {
   "codemirror_mode": {
    "name": "ipython",
    "version": 3
   },
   "file_extension": ".py",
   "mimetype": "text/x-python",
   "name": "python",
   "nbconvert_exporter": "python",
   "pygments_lexer": "ipython3",
   "version": "3.9.7"
  }
 },
 "nbformat": 4,
 "nbformat_minor": 5
}
