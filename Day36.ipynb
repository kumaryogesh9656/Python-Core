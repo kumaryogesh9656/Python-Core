{
 "cells": [
  {
   "cell_type": "markdown",
   "id": "b69e370c",
   "metadata": {},
   "source": [
    "**Write a Python program that prints each item and its corresponding type from the following list.**<br/>\n",
    "Sample List : datalist = [1452, 11.23, 1+2j, True, (0, -1), [5, 12], {\"class\":'V', \"section\":'A'}]"
   ]
  },
  {
   "cell_type": "code",
   "execution_count": 1,
   "id": "711c6b9e",
   "metadata": {},
   "outputs": [
    {
     "name": "stdout",
     "output_type": "stream",
     "text": [
      "Type of 1452 is <class 'int'>\n",
      "Type of 11.23 is <class 'float'>\n",
      "Type of (1+2j) is <class 'complex'>\n",
      "Type of True is <class 'bool'>\n",
      "Type of (0, -1) is <class 'tuple'>\n",
      "Type of [5, 12] is <class 'list'>\n",
      "Type of {'class': 'V', 'section': 'A'} is <class 'dict'>\n"
     ]
    }
   ],
   "source": [
    "datalist = [1452, 11.23, 1+2j, True, (0, -1), [5, 12], {\"class\":'V', \"section\":'A'}]\n",
    "\n",
    "for i in datalist:\n",
    "    print (f'Type of {i} is {type(i)}')"
   ]
  },
  {
   "cell_type": "markdown",
   "id": "12478e68",
   "metadata": {},
   "source": [
    "**Write a Python program that prints all the numbers from 0 to 6 except 3 and 6.** <br/>\n",
    "Note : Use 'continue' statement. <br/>\n",
    "Expected Output : \n",
    "\n",
    "0 1 2 4 5"
   ]
  },
  {
   "cell_type": "code",
   "execution_count": 1,
   "id": "adac1212",
   "metadata": {},
   "outputs": [
    {
     "name": "stdout",
     "output_type": "stream",
     "text": [
      "0 1 2 4 5 "
     ]
    }
   ],
   "source": [
    "for i in range(7):\n",
    "    if i == 6 or i == 3:\n",
    "        continue\n",
    "    \n",
    "    print (i, end = ' ')"
   ]
  },
  {
   "cell_type": "markdown",
   "id": "e277d718",
   "metadata": {},
   "source": [
    "**OR**"
   ]
  },
  {
   "cell_type": "code",
   "execution_count": 2,
   "id": "f101575d",
   "metadata": {},
   "outputs": [
    {
     "name": "stdout",
     "output_type": "stream",
     "text": [
      "0 1 2 4 5 "
     ]
    }
   ],
   "source": [
    "for i in range(7):\n",
    "    if i == 6 or i == 3:\n",
    "        pass\n",
    "    \n",
    "    else:\n",
    "        print (i, end = ' ')"
   ]
  },
  {
   "cell_type": "markdown",
   "id": "4ee7bc9b",
   "metadata": {},
   "source": [
    "**OR**"
   ]
  },
  {
   "cell_type": "code",
   "execution_count": 3,
   "id": "feda3506",
   "metadata": {},
   "outputs": [
    {
     "name": "stdout",
     "output_type": "stream",
     "text": [
      "0 1 2 4 5 "
     ]
    }
   ],
   "source": [
    "for i in range(7):\n",
    "    if i == 6 or i == 3:\n",
    "        continue\n",
    "    \n",
    "    else:\n",
    "        print (i, end = ' ')"
   ]
  },
  {
   "cell_type": "markdown",
   "id": "680a8d99",
   "metadata": {},
   "source": [
    "**OR**"
   ]
  },
  {
   "cell_type": "code",
   "execution_count": 4,
   "id": "8f81e295",
   "metadata": {},
   "outputs": [
    {
     "name": "stdout",
     "output_type": "stream",
     "text": [
      "0 1 2 4 5 "
     ]
    }
   ],
   "source": [
    "i = 0\n",
    "\n",
    "while i < 7:\n",
    "    if i == 3 or i == 6:\n",
    "        pass\n",
    "        i += 1\n",
    "     \n",
    "    else:\n",
    "        print (i, end = ' ')\n",
    "        i += 1"
   ]
  },
  {
   "cell_type": "markdown",
   "id": "5f989f57",
   "metadata": {},
   "source": [
    "**OR**"
   ]
  },
  {
   "cell_type": "code",
   "execution_count": 5,
   "id": "9e6230bd",
   "metadata": {},
   "outputs": [
    {
     "name": "stdout",
     "output_type": "stream",
     "text": [
      "0 1 2 4 5 "
     ]
    }
   ],
   "source": [
    "i = 0\n",
    "\n",
    "while i < 7:\n",
    "    if i == 3 or i == 6:\n",
    "        i += 1\n",
    "        continue        \n",
    "     \n",
    "    else:\n",
    "        print (i, end = ' ')\n",
    "        i += 1"
   ]
  }
 ],
 "metadata": {
  "kernelspec": {
   "display_name": "Python 3",
   "language": "python",
   "name": "python3"
  },
  "language_info": {
   "codemirror_mode": {
    "name": "ipython",
    "version": 3
   },
   "file_extension": ".py",
   "mimetype": "text/x-python",
   "name": "python",
   "nbconvert_exporter": "python",
   "pygments_lexer": "ipython3",
   "version": "3.8.8"
  }
 },
 "nbformat": 4,
 "nbformat_minor": 5
}
