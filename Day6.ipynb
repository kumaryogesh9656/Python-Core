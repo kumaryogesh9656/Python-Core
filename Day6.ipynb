{
 "cells": [
  {
   "cell_type": "markdown",
   "id": "866ead4b",
   "metadata": {},
   "source": [
    "**Define a class with a generator which can iterate the numbers, which are divisible by 7, between a given range 0 and n.**"
   ]
  },
  {
   "cell_type": "code",
   "execution_count": 1,
   "id": "27568494",
   "metadata": {},
   "outputs": [],
   "source": [
    "class generator:\n",
    "    def __init__(self, n):\n",
    "        self.n = n\n",
    "        \n",
    "    def div_by_7(self):\n",
    "        for i in range(self.n):\n",
    "            if i % 7 == 0:\n",
    "                yield i"
   ]
  },
  {
   "cell_type": "code",
   "execution_count": 2,
   "id": "efbdd27b",
   "metadata": {},
   "outputs": [],
   "source": [
    "gen = generator(100)"
   ]
  },
  {
   "cell_type": "code",
   "execution_count": 3,
   "id": "418558cb",
   "metadata": {},
   "outputs": [
    {
     "name": "stdout",
     "output_type": "stream",
     "text": [
      "0 7 14 21 28 35 42 49 56 63 70 77 84 91 98 "
     ]
    }
   ],
   "source": [
    "for j in gen.div_by_7():\n",
    "    print (j, end = ' ')    "
   ]
  },
  {
   "cell_type": "markdown",
   "id": "2e95311e",
   "metadata": {},
   "source": [
    "**Write a program to compute the frequency of the words from the input. The output should output after sorting the key alphanumerically.** <br/>\n",
    "Suppose the input is supplied to the program: <br/>\n",
    "New to Python or choosing between Python 2 and Python 3? Read Python 2 or Python 3. <br/>\n",
    "Then, the output should be: \n",
    "\n",
    "2:2 <br/>\n",
    "3.:1 <br/>\n",
    "3?:1 <br/>\n",
    "New:1 <br/>\n",
    "Python:5 <br/>\n",
    "Read:1 <br/>\n",
    "and:1 <br/>\n",
    "between:1 <br/>\n",
    "choosing:1 <br/>\n",
    "or:2 <br/>\n",
    "to:1 <br/>"
   ]
  },
  {
   "cell_type": "code",
   "execution_count": 4,
   "id": "39284dde",
   "metadata": {},
   "outputs": [
    {
     "name": "stdout",
     "output_type": "stream",
     "text": [
      "Enter a sentence: New to Python or choosing between Python 2 and Python 3? Read Python 2 or Python 3.\n"
     ]
    }
   ],
   "source": [
    "words = input('Enter a sentence: ')"
   ]
  },
  {
   "cell_type": "code",
   "execution_count": 5,
   "id": "63dc076b",
   "metadata": {},
   "outputs": [
    {
     "name": "stdout",
     "output_type": "stream",
     "text": [
      "2: 2\n",
      "3.: 1\n",
      "3?: 1\n",
      "New: 1\n",
      "Python: 5\n",
      "Read: 1\n",
      "and: 1\n",
      "between: 1\n",
      "choosing: 1\n",
      "or: 2\n",
      "to: 1\n"
     ]
    }
   ],
   "source": [
    "l = []\n",
    "\n",
    "for i in words.split():\n",
    "    if i not in l:\n",
    "        l.append(i)\n",
    "        l.sort()\n",
    "\n",
    "for j in range(len(l)):\n",
    "    print ('{}: {}'.format(l[j], words.count(l[j])))"
   ]
  }
 ],
 "metadata": {
  "kernelspec": {
   "display_name": "Python 3",
   "language": "python",
   "name": "python3"
  },
  "language_info": {
   "codemirror_mode": {
    "name": "ipython",
    "version": 3
   },
   "file_extension": ".py",
   "mimetype": "text/x-python",
   "name": "python",
   "nbconvert_exporter": "python",
   "pygments_lexer": "ipython3",
   "version": "3.8.8"
  }
 },
 "nbformat": 4,
 "nbformat_minor": 5
}
