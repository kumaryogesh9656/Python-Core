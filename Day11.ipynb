{
 "cells": [
  {
   "cell_type": "markdown",
   "id": "20fed6aa",
   "metadata": {},
   "source": [
    "**Define a function which can generate a dictionary where the keys are numbers between 1 and 20 (both included) and the values are square of keys. The function should just print the keys only.**"
   ]
  },
  {
   "cell_type": "code",
   "execution_count": 1,
   "id": "d244fb73",
   "metadata": {},
   "outputs": [
    {
     "name": "stdout",
     "output_type": "stream",
     "text": [
      "dict_keys([1, 2, 3, 4, 5, 6, 7, 8, 9, 10, 11, 12, 13, 14, 15, 16, 17, 18, 19, 20])\n"
     ]
    }
   ],
   "source": [
    "def dict_values_square():\n",
    "    d = {}\n",
    "    \n",
    "    for i in range(1,21) :\n",
    "        d[i] = i ** 2\n",
    "        \n",
    "    print (d.keys())\n",
    "    \n",
    "dict_values_square()"
   ]
  },
  {
   "cell_type": "markdown",
   "id": "df73b904",
   "metadata": {},
   "source": [
    "**Define a function which can generate and print a list where the values are square of numbers between 1 and 20 (both included).**"
   ]
  },
  {
   "cell_type": "code",
   "execution_count": 2,
   "id": "1176f701",
   "metadata": {},
   "outputs": [
    {
     "name": "stdout",
     "output_type": "stream",
     "text": [
      "[1, 4, 9, 16, 25, 36, 49, 64, 81, 100, 121, 144, 169, 196, 225, 256, 289, 324, 361, 400]\n"
     ]
    }
   ],
   "source": [
    "def list_square():\n",
    "    print ([i ** 2 for i in range(1,21)])\n",
    "    \n",
    "list_square()"
   ]
  }
 ],
 "metadata": {
  "kernelspec": {
   "display_name": "Python 3",
   "language": "python",
   "name": "python3"
  },
  "language_info": {
   "codemirror_mode": {
    "name": "ipython",
    "version": 3
   },
   "file_extension": ".py",
   "mimetype": "text/x-python",
   "name": "python",
   "nbconvert_exporter": "python",
   "pygments_lexer": "ipython3",
   "version": "3.8.8"
  }
 },
 "nbformat": 4,
 "nbformat_minor": 5
}
