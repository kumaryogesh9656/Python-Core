{
 "cells": [
  {
   "cell_type": "markdown",
   "id": "6eee7962",
   "metadata": {},
   "source": [
    "**Define a function which can generate a dictionary where the keys are numbers between 1 and 20 (both included) and the values are square of keys. The function should just print the keys only.**"
   ]
  },
  {
   "cell_type": "code",
   "execution_count": 1,
   "id": "d4513f69",
   "metadata": {},
   "outputs": [
    {
     "name": "stdout",
     "output_type": "stream",
     "text": [
      "dict_keys([1, 2, 3, 4, 5, 6, 7, 8, 9, 10, 11, 12, 13, 14, 15, 16, 17, 18, 19, 20])\n"
     ]
    }
   ],
   "source": [
    "def dict_values_square():\n",
    "    d = {}\n",
    "    \n",
    "    for i in range(1,21) :\n",
    "        d[i] = i ** 2\n",
    "        \n",
    "    print (d.keys())\n",
    "    \n",
    "dict_values_square()"
   ]
  },
  {
   "cell_type": "code",
   "execution_count": null,
   "id": "198b45d8",
   "metadata": {},
   "outputs": [],
   "source": []
  }
 ],
 "metadata": {
  "kernelspec": {
   "display_name": "Python 3",
   "language": "python",
   "name": "python3"
  },
  "language_info": {
   "codemirror_mode": {
    "name": "ipython",
    "version": 3
   },
   "file_extension": ".py",
   "mimetype": "text/x-python",
   "name": "python",
   "nbconvert_exporter": "python",
   "pygments_lexer": "ipython3",
   "version": "3.8.8"
  }
 },
 "nbformat": 4,
 "nbformat_minor": 5
}
