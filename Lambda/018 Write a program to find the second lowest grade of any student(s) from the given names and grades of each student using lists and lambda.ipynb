{
 "cells": [
  {
   "cell_type": "markdown",
   "id": "974979c4",
   "metadata": {},
   "source": [
    "**Write a program to find the second lowest grade of any student(s) from the given names and grades of each student using lists and lambda. Input number of students, names and grades of each student.** <br/>\n",
    "Input number of students: 5 <br/>\n",
    "Name: S ROY <br/>\n",
    "Grade: 1 <br/>\n",
    "Name: B BOSE <br/>\n",
    "Grade: 3 <br/>\n",
    "Name: N KAR <br/>\n",
    "Grade: 2 <br/>\n",
    "Name: C DUTTA <br/>\n",
    "Grade: 1 <br/>\n",
    "Name: G GHOSH <br/>\n",
    "Grade: 1 <br/>\n",
    "\n",
    "Names and Grades of all students: <br/>\n",
    "[['S ROY', 1.0], ['B BOSE', 3.0], ['N KAR', 2.0], ['C DUTTA', 1.0], ['G GHOSH', 1.0]] <br/>\n",
    "Second lowest grade: 2.0 <br/>\n",
    "Names: <br/>\n",
    "N KAR"
   ]
  },
  {
   "cell_type": "code",
   "execution_count": 1,
   "id": "c9f678a7",
   "metadata": {},
   "outputs": [
    {
     "name": "stdout",
     "output_type": "stream",
     "text": [
      "Input number of students: 5\n",
      "Name : S ROY\n",
      "Grade: 1\n",
      "Name : B BOSE\n",
      "Grade: 3\n",
      "Name : N KAR\n",
      "Grade: 2\n",
      "Name : C DUTTA\n",
      "Grade: 1\n",
      "Name : G GHOSH\n",
      "Grade: 1\n",
      "\n",
      "Names and Grades of all students:\n",
      "[['S ROY', 1], ['B BOSE', 3], ['N KAR', 2], ['C DUTTA', 1], ['G GHOSH', 1]]\n",
      "Second lowest grade: 2\n",
      "Names:\n",
      "N KAR\n"
     ]
    }
   ],
   "source": [
    "stud = int(input(\"Input number of students: \"))\n",
    "l = []\n",
    "\n",
    "for i in range(stud):\n",
    "    s_name = input(\"Name : \")\n",
    "    s_grade = int(input(\"Grade: \"))\n",
    "    l.append(list([s_name, s_grade]))\n",
    "\n",
    "lowest = sorted(l, key = lambda x: int(x[1]))\n",
    "\n",
    "for i in range(stud):\n",
    "    if lowest[i][1] != lowest[0][1]:\n",
    "        low = lowest[i][1]\n",
    "        name = lowest[i][0]\n",
    "        break\n",
    "\n",
    "print (\"\")\n",
    "print (\"Names and Grades of all students:\")\n",
    "print (l)\n",
    "print (\"Second lowest grade:\", low)\n",
    "print (\"Names:\")\n",
    "print (name)"
   ]
  },
  {
   "cell_type": "markdown",
   "id": "25c8b433",
   "metadata": {},
   "source": [
    "**OR**"
   ]
  },
  {
   "cell_type": "code",
   "execution_count": 1,
   "id": "4d503b19",
   "metadata": {},
   "outputs": [
    {
     "name": "stdout",
     "output_type": "stream",
     "text": [
      "Input number of students: 5\n",
      "Name : S ROY\n",
      "Grade: 1\n",
      "Name : B BOSE\n",
      "Grade: 3\n",
      "Name : N KAR\n",
      "Grade: 2\n",
      "Name : C DUTTA\n",
      "Grade: 1\n",
      "Name : G GHOSH\n",
      "Grade: 1\n",
      "\n",
      "Names and Grades of all students:\n",
      "[['S ROY', 1], ['B BOSE', 3], ['N KAR', 2], ['C DUTTA', 1], ['G GHOSH', 1]]\n",
      "Second lowest grade: 2\n",
      "Names:\n",
      "N KAR\n"
     ]
    }
   ],
   "source": [
    "stud = int(input(\"Input number of students: \"))\n",
    "l = []\n",
    "m = []\n",
    "\n",
    "for i in range(stud):\n",
    "    s_name = input(\"Name : \")\n",
    "    s_grade = int(input(\"Grade: \"))\n",
    "    l.append(list([s_name, s_grade]))\n",
    "\n",
    "for i in l:\n",
    "    for j in i:\n",
    "        if type(j) == int:\n",
    "            if j not in m:\n",
    "                m.append(j)\n",
    "\n",
    "for i in range(stud):\n",
    "    m.sort()\n",
    "    if m[1] == l[i][1]:\n",
    "        low = l[i][1]\n",
    "        name = l[i][0]\n",
    "        break\n",
    "\n",
    "print (\"\")\n",
    "print (\"Names and Grades of all students:\")\n",
    "print (l)\n",
    "print (\"Second lowest grade:\", low)\n",
    "print (\"Names:\")\n",
    "print (name)"
   ]
  }
 ],
 "metadata": {
  "kernelspec": {
   "display_name": "Python 3 (ipykernel)",
   "language": "python",
   "name": "python3"
  },
  "language_info": {
   "codemirror_mode": {
    "name": "ipython",
    "version": 3
   },
   "file_extension": ".py",
   "mimetype": "text/x-python",
   "name": "python",
   "nbconvert_exporter": "python",
   "pygments_lexer": "ipython3",
   "version": "3.9.7"
  }
 },
 "nbformat": 4,
 "nbformat_minor": 5
}
