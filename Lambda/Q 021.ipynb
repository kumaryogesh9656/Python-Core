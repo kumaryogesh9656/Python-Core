{
 "cells": [
  {
   "cell_type": "markdown",
   "id": "5833c4cb",
   "metadata": {},
   "source": [
    "**20. Write a Python program to find the numbers of a given string and store them in a list, display the numbers which are bigger than the length of the list in sorted form. Use lambda function to solve the problem.** <br/>\n",
    "Original string: sdf 23 safs8 5 sdfsd8 sdfs 56 21sfs 20 5\n",
    "\n",
    "Numbers in sorted form: <br/>\n",
    "20 23 56"
   ]
  },
  {
   "cell_type": "code",
   "execution_count": 1,
   "id": "ed33b79b",
   "metadata": {},
   "outputs": [
    {
     "name": "stdout",
     "output_type": "stream",
     "text": [
      "Original string: sdf 23 safs8 5 sdfsd8 sdfs 56 21sfs 20 5\n",
      "\n",
      "Numbers in sorted form:\n",
      "20 23 56 "
     ]
    }
   ],
   "source": [
    "print ('Original string: sdf 23 safs8 5 sdfsd8 sdfs 56 21sfs 20 5')\n",
    "string = 'sdf 23 safs8 5 sdfsd8 sdfs 56 21sfs 20 5'\n",
    "l = []\n",
    "\n",
    "for i in string.split(' '):\n",
    "    if i.isdigit():\n",
    "        l.append(int(i))\n",
    "        \n",
    "print ('\\nNumbers in sorted form:')    \n",
    "\n",
    "for i in ((filter(lambda x:x > len(string.split(' ')), sorted(l)))):\n",
    "    print(i, end = ' ')"
   ]
  }
 ],
 "metadata": {
  "kernelspec": {
   "display_name": "Python 3 (ipykernel)",
   "language": "python",
   "name": "python3"
  },
  "language_info": {
   "codemirror_mode": {
    "name": "ipython",
    "version": 3
   },
   "file_extension": ".py",
   "mimetype": "text/x-python",
   "name": "python",
   "nbconvert_exporter": "python",
   "pygments_lexer": "ipython3",
   "version": "3.9.7"
  }
 },
 "nbformat": 4,
 "nbformat_minor": 5
}
