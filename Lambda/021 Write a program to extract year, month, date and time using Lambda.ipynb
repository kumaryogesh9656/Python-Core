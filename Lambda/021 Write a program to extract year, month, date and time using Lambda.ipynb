{
 "cells": [
  {
   "cell_type": "markdown",
   "id": "7bc2141f",
   "metadata": {},
   "source": [
    "**Write a program to extract year, month, date and time using Lambda.**"
   ]
  },
  {
   "cell_type": "code",
   "execution_count": 1,
   "id": "f0cd3e9c",
   "metadata": {},
   "outputs": [],
   "source": [
    "import datetime"
   ]
  },
  {
   "cell_type": "code",
   "execution_count": 1,
   "id": "2835a74f",
   "metadata": {},
   "outputs": [
    {
     "name": "stdout",
     "output_type": "stream",
     "text": [
      "2022-05-28 12:41:59.072406\n",
      "2022\n",
      "5\n",
      "28\n",
      "12:41:59.072406\n"
     ]
    }
   ],
   "source": [
    "t = datetime.datetime.now()\n",
    "print (t)\n",
    "\n",
    "year = lambda x: x.year\n",
    "month = lambda x: x.month\n",
    "day = lambda x: x.day\n",
    "time = lambda x: x.time()\n",
    "\n",
    "print (year(t))\n",
    "print (month(t))\n",
    "print (day(t))\n",
    "print (time(t))"
   ]
  }
 ],
 "metadata": {
  "kernelspec": {
   "display_name": "Python 3 (ipykernel)",
   "language": "python",
   "name": "python3"
  },
  "language_info": {
   "codemirror_mode": {
    "name": "ipython",
    "version": 3
   },
   "file_extension": ".py",
   "mimetype": "text/x-python",
   "name": "python",
   "nbconvert_exporter": "python",
   "pygments_lexer": "ipython3",
   "version": "3.9.7"
  }
 },
 "nbformat": 4,
 "nbformat_minor": 5
}
