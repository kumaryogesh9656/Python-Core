{
 "cells": [
  {
   "cell_type": "markdown",
   "id": "7bc2141f",
   "metadata": {},
   "source": [
    "**Write a program to extract year, month, date and time using Lambda.**"
   ]
  },
  {
   "cell_type": "code",
   "execution_count": 1,
   "id": "2835a74f",
   "metadata": {},
   "outputs": [
    {
     "name": "stdout",
     "output_type": "stream",
     "text": [
      "2022-05-28 12:41:59.072406\n",
      "2022\n",
      "5\n",
      "28\n",
      "12:41:59.072406\n"
     ]
    }
   ],
   "source": [
    "import datetime\n",
    "\n",
    "time = datetime.datetime.now()\n",
    "print (time)\n",
    "\n",
    "y = lambda x:x.year\n",
    "m = lambda x:x.month\n",
    "d = lambda x:x.day\n",
    "t = lambda x:x.time()\n",
    "\n",
    "print (y(time))\n",
    "print (m(time))\n",
    "print (d(time))\n",
    "print (t(time))"
   ]
  }
 ],
 "metadata": {
  "kernelspec": {
   "display_name": "Python 3 (ipykernel)",
   "language": "python",
   "name": "python3"
  },
  "language_info": {
   "codemirror_mode": {
    "name": "ipython",
    "version": 3
   },
   "file_extension": ".py",
   "mimetype": "text/x-python",
   "name": "python",
   "nbconvert_exporter": "python",
   "pygments_lexer": "ipython3",
   "version": "3.9.7"
  }
 },
 "nbformat": 4,
 "nbformat_minor": 5
}
