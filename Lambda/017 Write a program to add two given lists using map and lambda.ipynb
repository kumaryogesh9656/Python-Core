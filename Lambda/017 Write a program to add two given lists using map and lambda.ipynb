{
 "cells": [
  {
   "cell_type": "markdown",
   "id": "0696aa31",
   "metadata": {},
   "source": [
    "**Write a program to add two given lists using map and lambda.**"
   ]
  },
  {
   "cell_type": "code",
   "execution_count": 1,
   "id": "6791189a",
   "metadata": {},
   "outputs": [
    {
     "name": "stdout",
     "output_type": "stream",
     "text": [
      "Original list:\n",
      "[1, 2, 3]\n",
      "[4, 5, 6]\n",
      "\n",
      "Result: after adding two list\n",
      "[5, 7, 9]\n"
     ]
    }
   ],
   "source": [
    "l1 = [1, 2, 3]\n",
    "l2 = [4, 5, 6]\n",
    "print (\"Original list:\")\n",
    "print (l1)\n",
    "print (l2)\n",
    "\n",
    "print (\"\\nResult: after adding two list\")\n",
    "print (list(map(lambda x, y: x + y, l1, l2)))"
   ]
  }
 ],
 "metadata": {
  "kernelspec": {
   "display_name": "Python 3 (ipykernel)",
   "language": "python",
   "name": "python3"
  },
  "language_info": {
   "codemirror_mode": {
    "name": "ipython",
    "version": 3
   },
   "file_extension": ".py",
   "mimetype": "text/x-python",
   "name": "python",
   "nbconvert_exporter": "python",
   "pygments_lexer": "ipython3",
   "version": "3.9.7"
  }
 },
 "nbformat": 4,
 "nbformat_minor": 5
}
