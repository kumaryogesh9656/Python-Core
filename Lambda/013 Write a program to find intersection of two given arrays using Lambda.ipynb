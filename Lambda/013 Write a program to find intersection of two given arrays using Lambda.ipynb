{
 "cells": [
  {
   "cell_type": "markdown",
   "id": "993d9a5e",
   "metadata": {},
   "source": [
    "**Write a program to find intersection of two given arrays using Lambda.**"
   ]
  },
  {
   "cell_type": "code",
   "execution_count": 1,
   "id": "0d594ac3",
   "metadata": {},
   "outputs": [
    {
     "name": "stdout",
     "output_type": "stream",
     "text": [
      "Original arrays:\n",
      "[1, 2, 3, 5, 7, 8, 9, 10]\n",
      "[1, 2, 4, 8, 9]\n",
      "\n",
      "Intersection of the said arrays: [1, 2, 8, 9]\n"
     ]
    }
   ],
   "source": [
    "a1 = [1, 2, 3, 5, 7, 8, 9, 10]\n",
    "a2 = [1, 2, 4, 8, 9]\n",
    "print (\"Original arrays:\")\n",
    "print (a1)\n",
    "print (a2)\n",
    "\n",
    "print (\"\\nIntersection of the said arrays:\", list(filter(lambda x:x in a1, a2)))"
   ]
  }
 ],
 "metadata": {
  "kernelspec": {
   "display_name": "Python 3 (ipykernel)",
   "language": "python",
   "name": "python3"
  },
  "language_info": {
   "codemirror_mode": {
    "name": "ipython",
    "version": 3
   },
   "file_extension": ".py",
   "mimetype": "text/x-python",
   "name": "python",
   "nbconvert_exporter": "python",
   "pygments_lexer": "ipython3",
   "version": "3.9.7"
  }
 },
 "nbformat": 4,
 "nbformat_minor": 5
}
