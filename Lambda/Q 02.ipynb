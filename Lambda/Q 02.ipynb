{
 "cells": [
  {
   "cell_type": "markdown",
   "id": "519ba41b",
   "metadata": {},
   "source": [
    "**Write a program which can filter even numbers in a list by using filter function. The list is: [1, 2, 3, 4, 5, 6, 7, 8, 9, 10].**"
   ]
  },
  {
   "cell_type": "code",
   "execution_count": 2,
   "id": "4950b10b",
   "metadata": {},
   "outputs": [
    {
     "name": "stdout",
     "output_type": "stream",
     "text": [
      "[2, 4, 6, 8, 10]\n"
     ]
    }
   ],
   "source": [
    "print (list(filter(lambda x:x % 2 == 0, [1, 2, 3, 4, 5, 6, 7, 8, 9, 10])))"
   ]
  },
  {
   "cell_type": "markdown",
   "id": "a13484fc",
   "metadata": {},
   "source": [
    "**Write a program which can map() to make a list whose elements are square of elements in [1, 2, 3, 4, 5, 6, 7, 8, 9, 10].**"
   ]
  },
  {
   "cell_type": "code",
   "execution_count": 3,
   "id": "029c0fe9",
   "metadata": {},
   "outputs": [
    {
     "name": "stdout",
     "output_type": "stream",
     "text": [
      "[1, 4, 9, 16, 25, 36, 49, 64, 81, 100]\n"
     ]
    }
   ],
   "source": [
    "print (list(map(lambda x:x ** 2, [1, 2, 3, 4, 5, 6, 7, 8, 9, 10])))"
   ]
  },
  {
   "cell_type": "markdown",
   "id": "bdec0f67",
   "metadata": {},
   "source": [
    "**Write a program which can map() and filter() to make a list whose elements are square of even number in [1, 2, 3, 4, 5, 6, 7, 8, 9, 10].**"
   ]
  },
  {
   "cell_type": "code",
   "execution_count": 4,
   "id": "6dbe3ded",
   "metadata": {},
   "outputs": [
    {
     "name": "stdout",
     "output_type": "stream",
     "text": [
      "[4, 16, 36, 64, 100]\n"
     ]
    }
   ],
   "source": [
    "print (list(map(lambda x:x ** 2, filter(lambda x:x % 2 == 0, [1, 2, 3, 4, 5, 6, 7, 8, 9, 10]))))"
   ]
  }
 ],
 "metadata": {
  "kernelspec": {
   "display_name": "Python 3",
   "language": "python",
   "name": "python3"
  },
  "language_info": {
   "codemirror_mode": {
    "name": "ipython",
    "version": 3
   },
   "file_extension": ".py",
   "mimetype": "text/x-python",
   "name": "python",
   "nbconvert_exporter": "python",
   "pygments_lexer": "ipython3",
   "version": "3.8.8"
  }
 },
 "nbformat": 4,
 "nbformat_minor": 5
}
