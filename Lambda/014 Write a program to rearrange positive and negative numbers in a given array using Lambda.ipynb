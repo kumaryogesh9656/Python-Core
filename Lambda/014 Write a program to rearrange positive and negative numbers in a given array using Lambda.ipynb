{
 "cells": [
  {
   "cell_type": "markdown",
   "id": "65f1f102",
   "metadata": {},
   "source": [
    "**Write a program to rearrange positive and negative numbers in a given array using Lambda.**"
   ]
  },
  {
   "cell_type": "code",
   "execution_count": 1,
   "id": "7f07381f",
   "metadata": {},
   "outputs": [
    {
     "name": "stdout",
     "output_type": "stream",
     "text": [
      "Original arrays:\n",
      "[-1, 2, -3, 5, 7, 8, 9, -10]\n",
      "\n",
      "Rearrange positive and negative numbers of the said array:\n",
      "[2, 5, 7, 8, 9, -10, -3, -1]\n"
     ]
    }
   ],
   "source": [
    "a = [-1, 2, -3, 5, 7, 8, 9, -10]\n",
    "print (\"Original arrays:\")\n",
    "print (a)\n",
    "\n",
    "print (\"\\nRearrange positive and negative numbers of the said array:\")\n",
    "print (sorted(a, key = lambda x:x if x == 0 else -1/x))"
   ]
  }
 ],
 "metadata": {
  "kernelspec": {
   "display_name": "Python 3 (ipykernel)",
   "language": "python",
   "name": "python3"
  },
  "language_info": {
   "codemirror_mode": {
    "name": "ipython",
    "version": 3
   },
   "file_extension": ".py",
   "mimetype": "text/x-python",
   "name": "python",
   "nbconvert_exporter": "python",
   "pygments_lexer": "ipython3",
   "version": "3.9.7"
  }
 },
 "nbformat": 4,
 "nbformat_minor": 5
}
