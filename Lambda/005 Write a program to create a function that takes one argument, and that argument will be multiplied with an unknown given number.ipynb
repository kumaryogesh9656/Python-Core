{
 "cells": [
  {
   "cell_type": "markdown",
   "id": "1578f4ad",
   "metadata": {},
   "source": [
    "**Write a program to create a function that takes one argument, and that argument will be multiplied with an unknown given number.**"
   ]
  },
  {
   "cell_type": "code",
   "execution_count": 1,
   "id": "25b967e2",
   "metadata": {},
   "outputs": [
    {
     "name": "stdout",
     "output_type": "stream",
     "text": [
      "30\n",
      "45\n",
      "60\n",
      "75\n"
     ]
    }
   ],
   "source": [
    "def multiply(n):\n",
    "    for i in range(2, n + 1):\n",
    "        m = lambda x:x * 15\n",
    "        print (m(i))\n",
    "        \n",
    "multiply(5)"
   ]
  }
 ],
 "metadata": {
  "kernelspec": {
   "display_name": "Python 3 (ipykernel)",
   "language": "python",
   "name": "python3"
  },
  "language_info": {
   "codemirror_mode": {
    "name": "ipython",
    "version": 3
   },
   "file_extension": ".py",
   "mimetype": "text/x-python",
   "name": "python",
   "nbconvert_exporter": "python",
   "pygments_lexer": "ipython3",
   "version": "3.9.7"
  }
 },
 "nbformat": 4,
 "nbformat_minor": 5
}
