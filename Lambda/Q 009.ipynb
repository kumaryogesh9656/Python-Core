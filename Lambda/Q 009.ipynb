{
 "cells": [
  {
   "cell_type": "markdown",
   "id": "531a2571",
   "metadata": {},
   "source": [
    "**Write a Python program to square and cube every number in a given list of integers using Lambda.** <br/>\n",
    "Original list of integers: <br/>\n",
    "[1, 2, 3, 4, 5, 6, 7, 8, 9, 10]\n",
    "\n",
    "Square every number of the said list: <br/>\n",
    "[1, 4, 9, 16, 25, 36, 49, 64, 81, 100] <br/>\n",
    "Cube every number of the said list: <br/>\n",
    "[1, 8, 27, 64, 125, 216, 343, 512, 729, 1000]"
   ]
  },
  {
   "cell_type": "code",
   "execution_count": 1,
   "id": "7f8535ee",
   "metadata": {},
   "outputs": [
    {
     "name": "stdout",
     "output_type": "stream",
     "text": [
      "Original list of integers:\n",
      "[1, 2, 3, 4, 5, 6, 7, 8, 9, 10]\n",
      "\n",
      "Square every number of the said list:\n",
      "[1, 4, 9, 16, 25, 36, 49, 64, 81, 100]\n",
      "Cube every number of the said list:\n",
      "[1, 8, 27, 64, 125, 216, 343, 512, 729, 1000]\n"
     ]
    }
   ],
   "source": [
    "print ('Original list of integers:')\n",
    "print ('[1, 2, 3, 4, 5, 6, 7, 8, 9, 10]')\n",
    "\n",
    "print ('\\nSquare every number of the said list:')\n",
    "print (list(map(lambda x:x ** 2, [1, 2, 3, 4, 5, 6, 7, 8, 9, 10])))\n",
    "print ('Cube every number of the said list:')\n",
    "print (list(map(lambda x:x ** 3, [1, 2, 3, 4, 5, 6, 7, 8, 9, 10])))"
   ]
  }
 ],
 "metadata": {
  "kernelspec": {
   "display_name": "Python 3 (ipykernel)",
   "language": "python",
   "name": "python3"
  },
  "language_info": {
   "codemirror_mode": {
    "name": "ipython",
    "version": 3
   },
   "file_extension": ".py",
   "mimetype": "text/x-python",
   "name": "python",
   "nbconvert_exporter": "python",
   "pygments_lexer": "ipython3",
   "version": "3.9.7"
  }
 },
 "nbformat": 4,
 "nbformat_minor": 5
}
