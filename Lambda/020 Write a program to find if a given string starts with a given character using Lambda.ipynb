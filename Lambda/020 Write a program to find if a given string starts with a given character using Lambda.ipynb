{
 "cells": [
  {
   "cell_type": "markdown",
   "id": "a9df2ff2",
   "metadata": {},
   "source": [
    "**Write a program to find if a given string starts with a given character using Lambda.**"
   ]
  },
  {
   "cell_type": "code",
   "execution_count": 1,
   "id": "1fcc537d",
   "metadata": {},
   "outputs": [
    {
     "name": "stdout",
     "output_type": "stream",
     "text": [
      "True\n",
      "False\n"
     ]
    }
   ],
   "source": [
    "s = lambda x:True if x.startswith(\"A\") else False\n",
    "print (s(\"Amit\"))\n",
    "print (s(\"amit\"))"
   ]
  }
 ],
 "metadata": {
  "kernelspec": {
   "display_name": "Python 3 (ipykernel)",
   "language": "python",
   "name": "python3"
  },
  "language_info": {
   "codemirror_mode": {
    "name": "ipython",
    "version": 3
   },
   "file_extension": ".py",
   "mimetype": "text/x-python",
   "name": "python",
   "nbconvert_exporter": "python",
   "pygments_lexer": "ipython3",
   "version": "3.9.7"
  }
 },
 "nbformat": 4,
 "nbformat_minor": 5
}
