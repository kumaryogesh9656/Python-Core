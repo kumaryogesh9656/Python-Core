{
 "cells": [
  {
   "cell_type": "markdown",
   "id": "f69cca97",
   "metadata": {},
   "source": [
    "**Write a program to check whether a given string is number or not using Lambda.**"
   ]
  },
  {
   "cell_type": "code",
   "execution_count": 1,
   "id": "831a10bd",
   "metadata": {},
   "outputs": [
    {
     "name": "stdout",
     "output_type": "stream",
     "text": [
      "Checking numbers:\n",
      "26587     : True\n",
      "4.2365    : True\n",
      "-12547    : True\n",
      "00        : True\n",
      "A001      : False\n",
      "001       : True\n",
      "-16.4     : True\n",
      "-24587.11 : True\n"
     ]
    }
   ],
   "source": [
    "check_num = lambda x:x.replace(\".\", \"\", 1).isdigit()\n",
    "check_num_negative = lambda n:check_num(n[1:]) if n[0] == \"-\" else check_num(n)\n",
    "\n",
    "print (\"Checking numbers:\")\n",
    "print (f\"26587     : {check_num_negative('26587')}\")\n",
    "print (f\"4.2365    : {check_num_negative('4.2365')}\")\n",
    "print (f\"-12547    : {check_num_negative('-12547')}\")\n",
    "print (f\"00        : {check_num_negative('00')}\")\n",
    "print (f\"A001      : {check_num_negative('A001')}\")\n",
    "print (f\"001       : {check_num_negative('001')}\")\n",
    "print (f\"-16.4     : {check_num_negative('-16.4')}\")\n",
    "print (f\"-24587.11 : {check_num_negative('-24587.11')}\")"
   ]
  }
 ],
 "metadata": {
  "kernelspec": {
   "display_name": "Python 3 (ipykernel)",
   "language": "python",
   "name": "python3"
  },
  "language_info": {
   "codemirror_mode": {
    "name": "ipython",
    "version": 3
   },
   "file_extension": ".py",
   "mimetype": "text/x-python",
   "name": "python",
   "nbconvert_exporter": "python",
   "pygments_lexer": "ipython3",
   "version": "3.9.7"
  }
 },
 "nbformat": 4,
 "nbformat_minor": 5
}
