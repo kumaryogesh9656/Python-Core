{
 "cells": [
  {
   "cell_type": "markdown",
   "id": "5cdd078a",
   "metadata": {},
   "source": [
    "**Write a program to count the even, odd numbers in a given array of integers using Lambda.**"
   ]
  },
  {
   "cell_type": "code",
   "execution_count": 1,
   "id": "4d3ce5e5",
   "metadata": {},
   "outputs": [
    {
     "name": "stdout",
     "output_type": "stream",
     "text": [
      "Original arrays:\n",
      "[1, 2, 3, 5, 7, 8, 9, 10]\n",
      "\n",
      "Number of even numbers in the above array: 3\n",
      "Number of odd numbers in the above array: 5\n"
     ]
    }
   ],
   "source": [
    "a = [1, 2, 3, 5, 7, 8, 9, 10]\n",
    "print (\"Original arrays:\")\n",
    "print (a)\n",
    "\n",
    "print (\"\\nNumber of even numbers in the above array:\", len(list(filter(lambda x:x % 2 == 0, a))))\n",
    "print (\"Number of odd numbers in the above array:\", len(list(filter(lambda x:x % 2 != 0, a))))"
   ]
  }
 ],
 "metadata": {
  "kernelspec": {
   "display_name": "Python 3 (ipykernel)",
   "language": "python",
   "name": "python3"
  },
  "language_info": {
   "codemirror_mode": {
    "name": "ipython",
    "version": 3
   },
   "file_extension": ".py",
   "mimetype": "text/x-python",
   "name": "python",
   "nbconvert_exporter": "python",
   "pygments_lexer": "ipython3",
   "version": "3.9.7"
  }
 },
 "nbformat": 4,
 "nbformat_minor": 5
}
