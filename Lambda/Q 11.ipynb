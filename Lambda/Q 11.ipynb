{
 "cells": [
  {
   "cell_type": "markdown",
   "id": "f69cca97",
   "metadata": {},
   "source": [
    "**Write a Python program to check whether a given string is number or not using Lambda.** <br/>\n",
    "Sample Output: \n",
    "\n",
    "True <br/>\n",
    "True <br/>\n",
    "False <br/>\n",
    "True <br/>\n",
    "False <br/>\n",
    "True \n",
    "\n",
    "Print checking numbers: <br/>\n",
    "True <br/>\n",
    "True"
   ]
  },
  {
   "cell_type": "code",
   "execution_count": 1,
   "id": "831a10bd",
   "metadata": {},
   "outputs": [
    {
     "name": "stdout",
     "output_type": "stream",
     "text": [
      "True\n",
      "True\n",
      "False\n",
      "True\n",
      "False\n",
      "True\n",
      "\n",
      "Print checking numbers:\n",
      "True\n",
      "True\n"
     ]
    }
   ],
   "source": [
    "check_num = lambda x:x.replace('.', '', 1).isdigit()\n",
    "print (check_num('26587'))\n",
    "print (check_num('4.2365'))\n",
    "print (check_num('-12547'))\n",
    "print (check_num('00'))\n",
    "print (check_num('A001'))\n",
    "print (check_num('001'))\n",
    "print ('\\nPrint checking numbers:')\n",
    "\n",
    "check_num_negative = lambda n:check_num(n[1:]) if n[0] == '-' else check_num(n)\n",
    "print (check_num_negative('-16.4'))\n",
    "print (check_num_negative('-24587.11'))"
   ]
  }
 ],
 "metadata": {
  "kernelspec": {
   "display_name": "Python 3 (ipykernel)",
   "language": "python",
   "name": "python3"
  },
  "language_info": {
   "codemirror_mode": {
    "name": "ipython",
    "version": 3
   },
   "file_extension": ".py",
   "mimetype": "text/x-python",
   "name": "python",
   "nbconvert_exporter": "python",
   "pygments_lexer": "ipython3",
   "version": "3.9.7"
  }
 },
 "nbformat": 4,
 "nbformat_minor": 5
}
