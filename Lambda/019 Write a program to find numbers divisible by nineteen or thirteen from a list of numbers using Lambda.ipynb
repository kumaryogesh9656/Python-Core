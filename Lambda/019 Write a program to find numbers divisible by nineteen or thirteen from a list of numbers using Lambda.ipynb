{
 "cells": [
  {
   "cell_type": "markdown",
   "id": "fc1cc3bd",
   "metadata": {},
   "source": [
    "**Write a program to find numbers divisible by nineteen or thirteen from a list of numbers using Lambda.**"
   ]
  },
  {
   "cell_type": "code",
   "execution_count": 1,
   "id": "dfb13ae4",
   "metadata": {},
   "outputs": [
    {
     "name": "stdout",
     "output_type": "stream",
     "text": [
      "Orginal list:\n",
      "[19, 65, 57, 39, 152, 639, 121, 44, 90, 190]\n",
      "\n",
      "Numbers of the above list divisible by nineteen or thirteen:\n",
      "[19, 65, 57, 39, 152, 190]\n"
     ]
    }
   ],
   "source": [
    "l = [19, 65, 57, 39, 152, 639, 121, 44, 90, 190]\n",
    "print (\"Orginal list:\")\n",
    "print (l)\n",
    "\n",
    "print (\"\\nNumbers of the above list divisible by nineteen or thirteen:\")\n",
    "print (list(filter(lambda x:x % 19 == 0 or x % 13 == 0, l)))"
   ]
  }
 ],
 "metadata": {
  "kernelspec": {
   "display_name": "Python 3 (ipykernel)",
   "language": "python",
   "name": "python3"
  },
  "language_info": {
   "codemirror_mode": {
    "name": "ipython",
    "version": 3
   },
   "file_extension": ".py",
   "mimetype": "text/x-python",
   "name": "python",
   "nbconvert_exporter": "python",
   "pygments_lexer": "ipython3",
   "version": "3.9.7"
  }
 },
 "nbformat": 4,
 "nbformat_minor": 5
}
