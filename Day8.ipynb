{
 "cells": [
  {
   "cell_type": "markdown",
   "id": "bf2dd0a3",
   "metadata": {},
   "source": [
    "**Define a function that can convert an integer into a string and print it in console.**"
   ]
  },
  {
   "cell_type": "code",
   "execution_count": 1,
   "id": "12053566",
   "metadata": {},
   "outputs": [
    {
     "name": "stdout",
     "output_type": "stream",
     "text": [
      "10\n"
     ]
    }
   ],
   "source": [
    "def int_to_str(n):\n",
    "    print (str(n))\n",
    "\n",
    "int_to_str(10)"
   ]
  },
  {
   "cell_type": "markdown",
   "id": "21e60c6d",
   "metadata": {},
   "source": [
    "**Define a function that can convert an integer into a string and print it in console.**"
   ]
  },
  {
   "cell_type": "code",
   "execution_count": 2,
   "id": "366ea406",
   "metadata": {},
   "outputs": [
    {
     "name": "stdout",
     "output_type": "stream",
     "text": [
      "20\n"
     ]
    }
   ],
   "source": [
    "def int_to_str(n):\n",
    "    print (str(n))\n",
    "\n",
    "int_to_str(20)"
   ]
  },
  {
   "cell_type": "markdown",
   "id": "9f20cd74",
   "metadata": {},
   "source": [
    "**Define a function that can receive two integral numbers in string form and compute their sum and then print it in console.**"
   ]
  },
  {
   "cell_type": "code",
   "execution_count": 3,
   "id": "1714d4ff",
   "metadata": {},
   "outputs": [
    {
     "name": "stdout",
     "output_type": "stream",
     "text": [
      "60\n"
     ]
    }
   ],
   "source": [
    "def sum_of_strings(a, b):\n",
    "    print (int(a) + int(b))\n",
    "\n",
    "sum_of_strings('20', '40')"
   ]
  }
 ],
 "metadata": {
  "kernelspec": {
   "display_name": "Python 3",
   "language": "python",
   "name": "python3"
  },
  "language_info": {
   "codemirror_mode": {
    "name": "ipython",
    "version": 3
   },
   "file_extension": ".py",
   "mimetype": "text/x-python",
   "name": "python",
   "nbconvert_exporter": "python",
   "pygments_lexer": "ipython3",
   "version": "3.8.8"
  }
 },
 "nbformat": 4,
 "nbformat_minor": 5
}
