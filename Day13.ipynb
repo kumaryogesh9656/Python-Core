{
 "cells": [
  {
   "cell_type": "markdown",
   "id": "aa0ca8eb",
   "metadata": {},
   "source": [
    "**Define a function which can generate and print a tuple where the value are square of numbers between 1 and 20 (both included).**"
   ]
  },
  {
   "cell_type": "code",
   "execution_count": 1,
   "id": "12fd1702",
   "metadata": {},
   "outputs": [
    {
     "name": "stdout",
     "output_type": "stream",
     "text": [
      "(1, 4, 9, 16, 25, 36, 49, 64, 81, 100, 121, 144, 169, 196, 225, 256, 289, 324, 361, 400)\n"
     ]
    }
   ],
   "source": [
    "def tuple_squr():\n",
    "    print (tuple([i ** 2 for i in range(1,21)]))\n",
    "    \n",
    "tuple_squr()"
   ]
  },
  {
   "cell_type": "markdown",
   "id": "2bd22de4",
   "metadata": {},
   "source": [
    "**With a given tuple (1, 2, 3, 4, 5, 6, 7, 8, 9, 10), write a program to print the first half values in one line and the last half values in one line.**"
   ]
  },
  {
   "cell_type": "code",
   "execution_count": 2,
   "id": "aaf47a9a",
   "metadata": {},
   "outputs": [
    {
     "name": "stdout",
     "output_type": "stream",
     "text": [
      "(1, 2, 3, 4, 5)\n",
      "(6, 7, 8, 9, 10)\n"
     ]
    }
   ],
   "source": [
    "t = (1, 2, 3, 4, 5, 6, 7, 8, 9, 10)\n",
    "\n",
    "print (t[:5])\n",
    "print (t[5:])"
   ]
  }
 ],
 "metadata": {
  "kernelspec": {
   "display_name": "Python 3",
   "language": "python",
   "name": "python3"
  },
  "language_info": {
   "codemirror_mode": {
    "name": "ipython",
    "version": 3
   },
   "file_extension": ".py",
   "mimetype": "text/x-python",
   "name": "python",
   "nbconvert_exporter": "python",
   "pygments_lexer": "ipython3",
   "version": "3.8.8"
  }
 },
 "nbformat": 4,
 "nbformat_minor": 5
}
