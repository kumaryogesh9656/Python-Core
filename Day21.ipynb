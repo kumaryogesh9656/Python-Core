{
 "cells": [
  {
   "cell_type": "markdown",
   "id": "69826038",
   "metadata": {},
   "source": [
    "**Please write a program to print the list after removing delete even numbers in [5, 6, 77, 45, 22, 12, 24].**"
   ]
  },
  {
   "cell_type": "code",
   "execution_count": 1,
   "id": "fa0382a5",
   "metadata": {},
   "outputs": [
    {
     "name": "stdout",
     "output_type": "stream",
     "text": [
      "[5, 77, 45]\n"
     ]
    }
   ],
   "source": [
    "print (list(filter(lambda x:x % 2 != 0, [5, 6, 77, 45, 22, 12, 24])))"
   ]
  },
  {
   "cell_type": "markdown",
   "id": "4502717b",
   "metadata": {},
   "source": [
    "**By using list comprehension, please write a program to print the list after removing delete numbers which are divisible by 5 and 7 in [12, 24, 35, 70, 88, 120, 155].**"
   ]
  },
  {
   "cell_type": "code",
   "execution_count": 2,
   "id": "ef50dd69",
   "metadata": {},
   "outputs": [
    {
     "name": "stdout",
     "output_type": "stream",
     "text": [
      "[12, 24, 88]\n"
     ]
    }
   ],
   "source": [
    "l = [12, 24, 35, 70, 88, 120, 155]\n",
    "\n",
    "print ([i for i in l if i % 5 != 0 and i % 7 != 0])"
   ]
  }
 ],
 "metadata": {
  "kernelspec": {
   "display_name": "Python 3",
   "language": "python",
   "name": "python3"
  },
  "language_info": {
   "codemirror_mode": {
    "name": "ipython",
    "version": 3
   },
   "file_extension": ".py",
   "mimetype": "text/x-python",
   "name": "python",
   "nbconvert_exporter": "python",
   "pygments_lexer": "ipython3",
   "version": "3.8.8"
  }
 },
 "nbformat": 4,
 "nbformat_minor": 5
}
