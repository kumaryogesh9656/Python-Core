{
 "cells": [
  {
   "cell_type": "markdown",
   "id": "4188fac4",
   "metadata": {},
   "source": [
    "**Define a class which has at least two methods: <br/>\n",
    "getString: to get a string from console input <br/>\n",
    "printString: to print the string in upper case.**"
   ]
  },
  {
   "cell_type": "code",
   "execution_count": 2,
   "id": "00f1dee4",
   "metadata": {},
   "outputs": [],
   "source": [
    "class St:\n",
    "    def __init__(self):\n",
    "        self.string = \"\"\n",
    "        \n",
    "    def getString(self):\n",
    "        self.string = input(\"Enter the String: \")\n",
    "        \n",
    "    def printString(self):\n",
    "        print (self.string.upper())"
   ]
  },
  {
   "cell_type": "code",
   "execution_count": 10,
   "id": "1cf8b7bf",
   "metadata": {},
   "outputs": [
    {
     "name": "stdout",
     "output_type": "stream",
     "text": [
      "Enter the String: amit\n",
      "AMIT\n"
     ]
    }
   ],
   "source": [
    "s = St()\n",
    "s.getString()\n",
    "s.printString()"
   ]
  },
  {
   "cell_type": "markdown",
   "id": "325e8375",
   "metadata": {},
   "source": [
    "**Write a program that calculates and prints the value according to the given formula: <br/>\n",
    "Q = Square root of [(2 * C * D)/H]**\n",
    "\n",
    "**Following are the fixed values of C and H: C is 50. H is 30. <br/>\n",
    "D is the variable whose values should be input to your program in a comma-separated sequence.** <br/>\n",
    "Let us assume the following comma separated input sequence is given to the program: 100,150,180 <br/>\n",
    "The output of the program should be: 18, 22, 24"
   ]
  },
  {
   "cell_type": "code",
   "execution_count": 4,
   "id": "63ba0c50",
   "metadata": {},
   "outputs": [
    {
     "name": "stdout",
     "output_type": "stream",
     "text": [
      "Enter your number: 100,150,180\n"
     ]
    }
   ],
   "source": [
    "D = input('Enter your number: ').split(',')\n",
    "C = 50\n",
    "H = 30"
   ]
  },
  {
   "cell_type": "code",
   "execution_count": 7,
   "id": "47563d7f",
   "metadata": {},
   "outputs": [
    {
     "name": "stdout",
     "output_type": "stream",
     "text": [
      "18, 22, 24\n"
     ]
    }
   ],
   "source": [
    "import math\n",
    "l = []\n",
    "\n",
    "for i in D:\n",
    "    X = int(i)\n",
    "    Q = (2 * C * X) / H\n",
    "    l.append(str(round(math.sqrt(Q))))\n",
    "    \n",
    "print (', '.join(l))"
   ]
  },
  {
   "cell_type": "markdown",
   "id": "cbf8cf57",
   "metadata": {},
   "source": [
    "**Write a program which takes 2 digits, X,Y as input and generates a 2-dimensional array. The element value in the i-th row and j-th column of the array should be ixj.** <br/>\n",
    "Note: i = 0, 1.., X-1; j = 0, 1,.., Y-1. <br/>\n",
    "Suppose the following inputs are given to the program: 3, 5 <br/>\n",
    "Then, the output of the program should be: [[0, 0, 0, 0, 0], [0, 1, 2, 3, 4], [0, 2, 4, 6, 8]]"
   ]
  },
  {
   "cell_type": "code",
   "execution_count": 8,
   "id": "72b4aea0",
   "metadata": {},
   "outputs": [
    {
     "name": "stdout",
     "output_type": "stream",
     "text": [
      "Input number of rows: 3\n",
      "Input number of columns: 5\n"
     ]
    }
   ],
   "source": [
    "row = int(input(\"Input number of rows: \"))\n",
    "col = int(input(\"Input number of columns: \"))\n",
    "matrix = [[c for c in range(col)] for r in range(row)]"
   ]
  },
  {
   "cell_type": "code",
   "execution_count": 9,
   "id": "a69de05a",
   "metadata": {},
   "outputs": [
    {
     "name": "stdout",
     "output_type": "stream",
     "text": [
      "[[0, 0, 0, 0, 0], [0, 1, 2, 3, 4], [0, 2, 4, 6, 8]]\n"
     ]
    }
   ],
   "source": [
    "for i in range(row):\n",
    "    for j in range(col):\n",
    "        matrix[i][j] = i * j\n",
    "        \n",
    "print (matrix)"
   ]
  }
 ],
 "metadata": {
  "kernelspec": {
   "display_name": "Python 3",
   "language": "python",
   "name": "python3"
  },
  "language_info": {
   "codemirror_mode": {
    "name": "ipython",
    "version": 3
   },
   "file_extension": ".py",
   "mimetype": "text/x-python",
   "name": "python",
   "nbconvert_exporter": "python",
   "pygments_lexer": "ipython3",
   "version": "3.8.8"
  }
 },
 "nbformat": 4,
 "nbformat_minor": 5
}
