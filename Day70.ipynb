{
 "cells": [
  {
   "cell_type": "markdown",
   "id": "fc1cc3bd",
   "metadata": {},
   "source": [
    "**Write a Python program to find numbers divisible by nineteen or thirteen from a list of numbers using Lambda.** <br/>\n",
    "Orginal list: <br/>\n",
    "[19, 65, 57, 39, 152, 639, 121, 44, 90, 190] \n",
    "\n",
    "Numbers of the above list divisible by nineteen or thirteen: <br/>\n",
    "[19, 65, 57, 39, 152, 190]"
   ]
  },
  {
   "cell_type": "code",
   "execution_count": 1,
   "id": "dfb13ae4",
   "metadata": {},
   "outputs": [
    {
     "name": "stdout",
     "output_type": "stream",
     "text": [
      "Orginal list:\n",
      "[19, 65, 57, 39, 152, 639, 121, 44, 90, 190]\n",
      "\n",
      "Numbers of the above list divisible by nineteen or thirteen:\n",
      "[19, 65, 57, 39, 152, 190]\n"
     ]
    }
   ],
   "source": [
    "print ('Orginal list:')\n",
    "print ('[19, 65, 57, 39, 152, 639, 121, 44, 90, 190]')\n",
    "\n",
    "print ('\\nNumbers of the above list divisible by nineteen or thirteen:')\n",
    "print (list(filter(lambda x:x % 19 == 0 or x % 13 == 0, [19, 65, 57, 39, 152, 639, 121, 44, 90, 190])))"
   ]
  }
 ],
 "metadata": {
  "kernelspec": {
   "display_name": "Python 3 (ipykernel)",
   "language": "python",
   "name": "python3"
  },
  "language_info": {
   "codemirror_mode": {
    "name": "ipython",
    "version": 3
   },
   "file_extension": ".py",
   "mimetype": "text/x-python",
   "name": "python",
   "nbconvert_exporter": "python",
   "pygments_lexer": "ipython3",
   "version": "3.9.7"
  }
 },
 "nbformat": 4,
 "nbformat_minor": 5
}
