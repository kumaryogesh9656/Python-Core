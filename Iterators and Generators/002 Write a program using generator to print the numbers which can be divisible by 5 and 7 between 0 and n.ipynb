{
 "cells": [
  {
   "cell_type": "markdown",
   "id": "be51e48e",
   "metadata": {},
   "source": [
    "**Write a program using generator to print the numbers which can be divisible by 5 and 7 between 0 and n in comma separated form while n is input by console.**"
   ]
  },
  {
   "cell_type": "code",
   "execution_count": 1,
   "id": "3ac3948c",
   "metadata": {},
   "outputs": [
    {
     "name": "stdout",
     "output_type": "stream",
     "text": [
      "Enter a number: 100\n",
      "\n",
      "Numbers which are divisible by 5 and 7 between 0 and 100:\n",
      "0, 35, 70\n"
     ]
    }
   ],
   "source": [
    "num = int(input(\"Enter a number: \"))\n",
    "l = []\n",
    "\n",
    "def gen(n):\n",
    "    for i in range(0, n + 1):\n",
    "        if i % 5 == 0 and i % 7 == 0:\n",
    "            yield i\n",
    "\n",
    "for i in gen(num):\n",
    "    l.append(str(i))\n",
    "    \n",
    "print (f\"\\nNumbers which are divisible by 5 and 7 between 0 and {num}:\")\n",
    "print (\", \".join(l))"
   ]
  }
 ],
 "metadata": {
  "kernelspec": {
   "display_name": "Python 3 (ipykernel)",
   "language": "python",
   "name": "python3"
  },
  "language_info": {
   "codemirror_mode": {
    "name": "ipython",
    "version": 3
   },
   "file_extension": ".py",
   "mimetype": "text/x-python",
   "name": "python",
   "nbconvert_exporter": "python",
   "pygments_lexer": "ipython3",
   "version": "3.9.7"
  }
 },
 "nbformat": 4,
 "nbformat_minor": 5
}
