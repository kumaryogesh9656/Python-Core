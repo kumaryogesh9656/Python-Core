{
 "cells": [
  {
   "cell_type": "markdown",
   "id": "49c8f151",
   "metadata": {},
   "source": [
    "**Please write a program using generator to print the even numbers between 0 and n in comma separated form while n is input by console.** <br/>\n",
    "Example: If the following n is given as input to the program: 10 <br/>\n",
    "Then, the output of the program should be: 0,2,4,6,8,10 "
   ]
  },
  {
   "cell_type": "code",
   "execution_count": 1,
   "id": "5e5c2bc8",
   "metadata": {},
   "outputs": [
    {
     "name": "stdout",
     "output_type": "stream",
     "text": [
      "0, 2, 4, 6, 8, 10\n"
     ]
    }
   ],
   "source": [
    "def func(n):\n",
    "    for i in range(0, n + 1):\n",
    "        if i % 2 == 0:\n",
    "            yield i\n",
    "l = []\n",
    "\n",
    "for i in func(10):\n",
    "    l.append(str(i))\n",
    "    \n",
    "print (', '.join(l))"
   ]
  },
  {
   "cell_type": "markdown",
   "id": "6b74f553",
   "metadata": {},
   "source": [
    "**Please write a program using generator to print the numbers which can be divisible by 5 and 7 between 0 and n in comma separated form while n is input by console.** <br/> \n",
    "If the following n is given as input to the program: 100 <br/>\n",
    "Then, the output of the program should be: 0, 35, 70 "
   ]
  },
  {
   "cell_type": "code",
   "execution_count": 2,
   "id": "1df7bbb4",
   "metadata": {},
   "outputs": [
    {
     "name": "stdout",
     "output_type": "stream",
     "text": [
      "0, 35, 70\n"
     ]
    }
   ],
   "source": [
    "l = []\n",
    "\n",
    "def gen(n):\n",
    "    for i in range(0, n + 1):\n",
    "        if i % 5 == 0 and i % 7 == 0:\n",
    "            yield i\n",
    "\n",
    "for i in gen(100):\n",
    "    l.append(str(i))\n",
    "    \n",
    "print (', '.join(l))"
   ]
  },
  {
   "cell_type": "markdown",
   "id": "cdd75c36",
   "metadata": {},
   "source": [
    "**By using list comprehension, please write a program to print the list after removing the 0th,4th,5th numbers in [12, 24, 35, 70, 88, 120, 155].**"
   ]
  },
  {
   "cell_type": "code",
   "execution_count": 3,
   "id": "8d60773d",
   "metadata": {},
   "outputs": [
    {
     "name": "stdout",
     "output_type": "stream",
     "text": [
      "[24, 35, 24, 155]\n"
     ]
    }
   ],
   "source": [
    "l = [12, 24, 35, 24, 88, 120, 155]\n",
    "\n",
    "print ([l[i] for i in range(len(l)) if i not in (0, 4, 5)])"
   ]
  }
 ],
 "metadata": {
  "kernelspec": {
   "display_name": "Python 3",
   "language": "python",
   "name": "python3"
  },
  "language_info": {
   "codemirror_mode": {
    "name": "ipython",
    "version": 3
   },
   "file_extension": ".py",
   "mimetype": "text/x-python",
   "name": "python",
   "nbconvert_exporter": "python",
   "pygments_lexer": "ipython3",
   "version": "3.8.8"
  }
 },
 "nbformat": 4,
 "nbformat_minor": 5
}
