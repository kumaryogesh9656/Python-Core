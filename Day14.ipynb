{
 "cells": [
  {
   "cell_type": "markdown",
   "id": "da4473b7",
   "metadata": {},
   "source": [
    "**Write a program to generate and print another tuple whose values are even numbers in the given tuple (1, 2, 3, 4, 5, 6, 7, 8, 9, 10).**"
   ]
  },
  {
   "cell_type": "code",
   "execution_count": 2,
   "id": "b6db869f",
   "metadata": {},
   "outputs": [
    {
     "name": "stdout",
     "output_type": "stream",
     "text": [
      "(2, 4, 6, 8, 10)\n"
     ]
    }
   ],
   "source": [
    "print (tuple(filter(lambda x:x % 2 == 0, (1, 2, 3, 4, 5, 6, 7, 8, 9, 10))))"
   ]
  },
  {
   "cell_type": "markdown",
   "id": "dd8491af",
   "metadata": {},
   "source": [
    "**Write a program which accepts a string as input to print \"Yes\" if the string is \"yes\" or \"YES\" or \"Yes\", otherwise print \"No\".**"
   ]
  },
  {
   "cell_type": "code",
   "execution_count": 3,
   "id": "07f1a31b",
   "metadata": {},
   "outputs": [
    {
     "name": "stdout",
     "output_type": "stream",
     "text": [
      "Enter string: yes\n",
      "Yes\n"
     ]
    }
   ],
   "source": [
    "n = input('Enter string: ')\n",
    "\n",
    "if n == 'yes' or n == 'YES' or n == 'Yes':\n",
    "    print ('Yes')\n",
    "else:\n",
    "    print ('No')"
   ]
  }
 ],
 "metadata": {
  "kernelspec": {
   "display_name": "Python 3",
   "language": "python",
   "name": "python3"
  },
  "language_info": {
   "codemirror_mode": {
    "name": "ipython",
    "version": 3
   },
   "file_extension": ".py",
   "mimetype": "text/x-python",
   "name": "python",
   "nbconvert_exporter": "python",
   "pygments_lexer": "ipython3",
   "version": "3.8.8"
  }
 },
 "nbformat": 4,
 "nbformat_minor": 5
}
