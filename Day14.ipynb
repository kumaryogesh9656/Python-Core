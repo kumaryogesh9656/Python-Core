{
 "cells": [
  {
   "cell_type": "markdown",
   "id": "a9aa374e",
   "metadata": {},
   "source": [
    "**Write a program to generate and print another tuple whose values are even numbers in the given tuple (1, 2, 3, 4, 5, 6, 7, 8, 9, 10).**"
   ]
  },
  {
   "cell_type": "code",
   "execution_count": 2,
   "id": "6c628a2d",
   "metadata": {},
   "outputs": [
    {
     "name": "stdout",
     "output_type": "stream",
     "text": [
      "(2, 4, 6, 8, 10)\n"
     ]
    }
   ],
   "source": [
    "print (tuple(filter(lambda x:x % 2 == 0, (1, 2, 3, 4, 5, 6, 7, 8, 9, 10))))"
   ]
  },
  {
   "cell_type": "markdown",
   "id": "3e03111c",
   "metadata": {},
   "source": [
    "**Write a program which accepts a string as input to print \"Yes\" if the string is \"yes\" or \"YES\" or \"Yes\", otherwise print \"No\".**"
   ]
  },
  {
   "cell_type": "code",
   "execution_count": null,
   "id": "06c7eb81",
   "metadata": {},
   "outputs": [],
   "source": []
  }
 ],
 "metadata": {
  "kernelspec": {
   "display_name": "Python 3",
   "language": "python",
   "name": "python3"
  },
  "language_info": {
   "codemirror_mode": {
    "name": "ipython",
    "version": 3
   },
   "file_extension": ".py",
   "mimetype": "text/x-python",
   "name": "python",
   "nbconvert_exporter": "python",
   "pygments_lexer": "ipython3",
   "version": "3.8.8"
  }
 },
 "nbformat": 4,
 "nbformat_minor": 5
}
