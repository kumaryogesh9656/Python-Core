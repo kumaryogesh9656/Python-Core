{
 "cells": [
  {
   "cell_type": "markdown",
   "id": "9d715bc6",
   "metadata": {},
   "source": [
    "**Define a function which can print a dictionary where the keys are numbers between 1 and 3 (both included) and the values are square of keys.**"
   ]
  },
  {
   "cell_type": "code",
   "execution_count": 1,
   "id": "761eee0a",
   "metadata": {},
   "outputs": [
    {
     "name": "stdout",
     "output_type": "stream",
     "text": [
      "{1: 1, 2: 4, 3: 9}\n"
     ]
    }
   ],
   "source": [
    "def dict_values_square():\n",
    "    d = {}\n",
    "    \n",
    "    for i in range(1,4) :\n",
    "        d[i] = i ** 2\n",
    "        \n",
    "    print (d)\n",
    "    \n",
    "dict_values_square()"
   ]
  },
  {
   "cell_type": "markdown",
   "id": "22fa1262",
   "metadata": {},
   "source": [
    "**Or**"
   ]
  },
  {
   "cell_type": "code",
   "execution_count": 2,
   "id": "dffe7c43",
   "metadata": {},
   "outputs": [
    {
     "name": "stdout",
     "output_type": "stream",
     "text": [
      "{1: 1, 2: 4, 3: 9}\n"
     ]
    }
   ],
   "source": [
    "def dict_values_square():\n",
    "    print ({i:i ** 2 for i in range(1,4)})\n",
    "    \n",
    "dict_values_square()"
   ]
  },
  {
   "cell_type": "markdown",
   "id": "68e81869",
   "metadata": {},
   "source": [
    "**Define a function which can print a dictionary where the keys are numbers between 1 and 20 (both included) and the values are square of keys.**"
   ]
  },
  {
   "cell_type": "code",
   "execution_count": 4,
   "id": "6ecea9a4",
   "metadata": {},
   "outputs": [
    {
     "name": "stdout",
     "output_type": "stream",
     "text": [
      "{1: 1, 2: 4, 3: 9, 4: 16, 5: 25, 6: 36, 7: 49, 8: 64, 9: 81, 10: 100, 11: 121, 12: 144, 13: 169, 14: 196, 15: 225, 16: 256, 17: 289, 18: 324, 19: 361, 20: 400}\n"
     ]
    }
   ],
   "source": [
    "def dict_values_square():\n",
    "    d = {}\n",
    "    \n",
    "    for i in range(1,21) :\n",
    "        d[i] = i ** 2\n",
    "        \n",
    "    print (d)\n",
    "    \n",
    "dict_values_square()"
   ]
  },
  {
   "cell_type": "markdown",
   "id": "e837caac",
   "metadata": {},
   "source": [
    "**Or**"
   ]
  },
  {
   "cell_type": "code",
   "execution_count": 3,
   "id": "9fc715a7",
   "metadata": {},
   "outputs": [
    {
     "name": "stdout",
     "output_type": "stream",
     "text": [
      "{1: 1, 2: 4, 3: 9, 4: 16, 5: 25, 6: 36, 7: 49, 8: 64, 9: 81, 10: 100, 11: 121, 12: 144, 13: 169, 14: 196, 15: 225, 16: 256, 17: 289, 18: 324, 19: 361, 20: 400}\n"
     ]
    }
   ],
   "source": [
    "def dict_values_square():\n",
    "    print ({i:i ** 2 for i in range(1,21)})\n",
    "    \n",
    "dict_values_square()"
   ]
  },
  {
   "cell_type": "markdown",
   "id": "db20a2a6",
   "metadata": {},
   "source": [
    "**Define a function which can generate a dictionary where the keys are numbers between 1 and 20 (both included) and the values are square of keys. The function should just print the values only.**"
   ]
  },
  {
   "cell_type": "code",
   "execution_count": 6,
   "id": "4f231146",
   "metadata": {},
   "outputs": [
    {
     "name": "stdout",
     "output_type": "stream",
     "text": [
      "dict_values([1, 4, 9, 16, 25, 36, 49, 64, 81, 100, 121, 144, 169, 196, 225, 256, 289, 324, 361, 400])\n"
     ]
    }
   ],
   "source": [
    "def dict_values_square():\n",
    "    d = {}\n",
    "    \n",
    "    for i in range(1,21) :\n",
    "        d[i] = i ** 2\n",
    "        \n",
    "    print (d.values())\n",
    "    \n",
    "dict_values_square()"
   ]
  }
 ],
 "metadata": {
  "kernelspec": {
   "display_name": "Python 3",
   "language": "python",
   "name": "python3"
  },
  "language_info": {
   "codemirror_mode": {
    "name": "ipython",
    "version": 3
   },
   "file_extension": ".py",
   "mimetype": "text/x-python",
   "name": "python",
   "nbconvert_exporter": "python",
   "pygments_lexer": "ipython3",
   "version": "3.8.8"
  }
 },
 "nbformat": 4,
 "nbformat_minor": 5
}
