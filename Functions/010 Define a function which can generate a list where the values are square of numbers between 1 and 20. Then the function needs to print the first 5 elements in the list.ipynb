{
 "cells": [
  {
   "cell_type": "markdown",
   "id": "6784dfbf",
   "metadata": {},
   "source": [
    "**Define a function which can generate a list where the values are square of numbers between 1 and 20 (both included). Then the function needs to print the first 5 elements in the list.**"
   ]
  },
  {
   "cell_type": "code",
   "execution_count": 1,
   "id": "65d9695a",
   "metadata": {},
   "outputs": [
    {
     "name": "stdout",
     "output_type": "stream",
     "text": [
      "[1, 4, 9, 16, 25]\n"
     ]
    }
   ],
   "source": [
    "def list_square():\n",
    "    l = []\n",
    "    \n",
    "    for i in range(1, 21):\n",
    "        l.append(i ** 2)\n",
    "        \n",
    "    print (l[:5])\n",
    "    \n",
    "list_square()"
   ]
  }
 ],
 "metadata": {
  "kernelspec": {
   "display_name": "Python 3 (ipykernel)",
   "language": "python",
   "name": "python3"
  },
  "language_info": {
   "codemirror_mode": {
    "name": "ipython",
    "version": 3
   },
   "file_extension": ".py",
   "mimetype": "text/x-python",
   "name": "python",
   "nbconvert_exporter": "python",
   "pygments_lexer": "ipython3",
   "version": "3.9.7"
  }
 },
 "nbformat": 4,
 "nbformat_minor": 5
}
