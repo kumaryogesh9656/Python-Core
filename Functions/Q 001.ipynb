{
 "cells": [
  {
   "cell_type": "markdown",
   "id": "eded023f",
   "metadata": {},
   "source": [
    "**Write a method which can calculate square value of number.**"
   ]
  },
  {
   "cell_type": "code",
   "execution_count": 1,
   "id": "1c6adf62",
   "metadata": {},
   "outputs": [
    {
     "name": "stdout",
     "output_type": "stream",
     "text": [
      "25\n"
     ]
    }
   ],
   "source": [
    "def square(n):\n",
    "    return n ** 2\n",
    "\n",
    "print (square(5))"
   ]
  },
  {
   "cell_type": "markdown",
   "id": "47068705",
   "metadata": {},
   "source": [
    "**Define a class, which have a class parameter and have a same instance parameter.**"
   ]
  },
  {
   "cell_type": "code",
   "execution_count": 3,
   "id": "5ed1981f",
   "metadata": {},
   "outputs": [
    {
     "name": "stdout",
     "output_type": "stream",
     "text": [
      "Person name is Amit\n"
     ]
    }
   ],
   "source": [
    "class Person:\n",
    "    name = 'Person'\n",
    "    \n",
    "    def __init__(self, name):\n",
    "        self.name = name\n",
    "        \n",
    "insance_parameter = Person('Amit')\n",
    "\n",
    "print (f'{Person.name} name is {insance_parameter.name}')"
   ]
  },
  {
   "cell_type": "markdown",
   "id": "65a61234",
   "metadata": {},
   "source": [
    "**Define a function which can compute the sum of two numbers.**"
   ]
  },
  {
   "cell_type": "code",
   "execution_count": 5,
   "id": "4c461983",
   "metadata": {},
   "outputs": [
    {
     "name": "stdout",
     "output_type": "stream",
     "text": [
      "15\n"
     ]
    }
   ],
   "source": [
    "def sum(a, b):\n",
    "    return a + b\n",
    "\n",
    "print (sum(5, 10))"
   ]
  }
 ],
 "metadata": {
  "kernelspec": {
   "display_name": "Python 3",
   "language": "python",
   "name": "python3"
  },
  "language_info": {
   "codemirror_mode": {
    "name": "ipython",
    "version": 3
   },
   "file_extension": ".py",
   "mimetype": "text/x-python",
   "name": "python",
   "nbconvert_exporter": "python",
   "pygments_lexer": "ipython3",
   "version": "3.8.8"
  }
 },
 "nbformat": 4,
 "nbformat_minor": 5
}
