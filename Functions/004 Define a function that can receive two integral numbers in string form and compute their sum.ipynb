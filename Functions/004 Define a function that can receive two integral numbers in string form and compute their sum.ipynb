{
 "cells": [
  {
   "cell_type": "markdown",
   "id": "aa8f6193",
   "metadata": {},
   "source": [
    "**Define a function that can receive two integral numbers in string form and compute their sum and then print it in console.**"
   ]
  },
  {
   "cell_type": "code",
   "execution_count": 1,
   "id": "70bcff0c",
   "metadata": {},
   "outputs": [
    {
     "name": "stdout",
     "output_type": "stream",
     "text": [
      "60\n"
     ]
    }
   ],
   "source": [
    "def sum_of_strings(a, b):\n",
    "    print (int(a) + int(b))\n",
    "\n",
    "sum_of_strings(\"20\", \"40\")"
   ]
  }
 ],
 "metadata": {
  "kernelspec": {
   "display_name": "Python 3 (ipykernel)",
   "language": "python",
   "name": "python3"
  },
  "language_info": {
   "codemirror_mode": {
    "name": "ipython",
    "version": 3
   },
   "file_extension": ".py",
   "mimetype": "text/x-python",
   "name": "python",
   "nbconvert_exporter": "python",
   "pygments_lexer": "ipython3",
   "version": "3.9.7"
  }
 },
 "nbformat": 4,
 "nbformat_minor": 5
}
