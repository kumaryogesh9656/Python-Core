{
 "cells": [
  {
   "cell_type": "markdown",
   "id": "bf2dd0a3",
   "metadata": {},
   "source": [
    "**Define a function that can convert an integer into a string and print it in console.**"
   ]
  },
  {
   "cell_type": "code",
   "execution_count": 1,
   "id": "12053566",
   "metadata": {},
   "outputs": [
    {
     "name": "stdout",
     "output_type": "stream",
     "text": [
      "10\n"
     ]
    }
   ],
   "source": [
    "def int_to_str(n):\n",
    "    print (str(n))\n",
    "\n",
    "int_to_str(10)"
   ]
  }
 ],
 "metadata": {
  "kernelspec": {
   "display_name": "Python 3 (ipykernel)",
   "language": "python",
   "name": "python3"
  },
  "language_info": {
   "codemirror_mode": {
    "name": "ipython",
    "version": 3
   },
   "file_extension": ".py",
   "mimetype": "text/x-python",
   "name": "python",
   "nbconvert_exporter": "python",
   "pygments_lexer": "ipython3",
   "version": "3.9.7"
  }
 },
 "nbformat": 4,
 "nbformat_minor": 5
}
