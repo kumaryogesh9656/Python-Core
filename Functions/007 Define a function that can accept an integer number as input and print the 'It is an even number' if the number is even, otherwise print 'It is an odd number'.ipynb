{
 "cells": [
  {
   "cell_type": "markdown",
   "id": "7816e826",
   "metadata": {},
   "source": [
    "**Define a function that can accept an integer number as input and print the 'It is an even number' if the number is even, otherwise print 'It is an odd number'.**"
   ]
  },
  {
   "cell_type": "code",
   "execution_count": 1,
   "id": "3e8c92a2",
   "metadata": {},
   "outputs": [
    {
     "name": "stdout",
     "output_type": "stream",
     "text": [
      "It is an even number\n"
     ]
    }
   ],
   "source": [
    "def even_odd(n):\n",
    "    if n % 2 == 0:\n",
    "        print (\"It is an even number\")\n",
    "    else:\n",
    "        print (\"It is an odd number\")\n",
    "    \n",
    "even_odd(90)"
   ]
  }
 ],
 "metadata": {
  "kernelspec": {
   "display_name": "Python 3 (ipykernel)",
   "language": "python",
   "name": "python3"
  },
  "language_info": {
   "codemirror_mode": {
    "name": "ipython",
    "version": 3
   },
   "file_extension": ".py",
   "mimetype": "text/x-python",
   "name": "python",
   "nbconvert_exporter": "python",
   "pygments_lexer": "ipython3",
   "version": "3.9.7"
  }
 },
 "nbformat": 4,
 "nbformat_minor": 5
}
