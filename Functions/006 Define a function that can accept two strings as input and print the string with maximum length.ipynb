{
 "cells": [
  {
   "cell_type": "markdown",
   "id": "6bf550e9",
   "metadata": {},
   "source": [
    "**Define a function that can accept two strings as input and print the string with maximum length in console. If two strings have the same length, then the function should print all strings line by line.**"
   ]
  },
  {
   "cell_type": "code",
   "execution_count": 1,
   "id": "9ac1644d",
   "metadata": {},
   "outputs": [
    {
     "name": "stdout",
     "output_type": "stream",
     "text": [
      "Sharma\n"
     ]
    }
   ],
   "source": [
    "def max_string(one, two):\n",
    "    if len(one) == len(two):\n",
    "        print (one)\n",
    "        print (two)\n",
    "        \n",
    "    elif len(one) > len(two):\n",
    "        print (one)\n",
    "        \n",
    "    else:\n",
    "        print (two)\n",
    "        \n",
    "max_string(\"Anil\", \"Sharma\")"
   ]
  }
 ],
 "metadata": {
  "kernelspec": {
   "display_name": "Python 3 (ipykernel)",
   "language": "python",
   "name": "python3"
  },
  "language_info": {
   "codemirror_mode": {
    "name": "ipython",
    "version": 3
   },
   "file_extension": ".py",
   "mimetype": "text/x-python",
   "name": "python",
   "nbconvert_exporter": "python",
   "pygments_lexer": "ipython3",
   "version": "3.9.7"
  }
 },
 "nbformat": 4,
 "nbformat_minor": 5
}
