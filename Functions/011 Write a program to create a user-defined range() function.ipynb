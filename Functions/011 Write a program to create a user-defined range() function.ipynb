{
 "cells": [
  {
   "cell_type": "markdown",
   "id": "81083c91",
   "metadata": {},
   "source": [
    "**Write a program to create a user-defined range() function.**"
   ]
  },
  {
   "cell_type": "code",
   "execution_count": 1,
   "id": "f1700113",
   "metadata": {},
   "outputs": [
    {
     "name": "stdout",
     "output_type": "stream",
     "text": [
      "[0, 1, 2, 3, 4, 5, 6, 7, 8, 9, 10]\n"
     ]
    }
   ],
   "source": [
    "def user_defined_range(stop, step = 1, start = 0):\n",
    "    l = []\n",
    "    \n",
    "    while start < stop:\n",
    "        l.append(start)\n",
    "        start = start + step\n",
    "        \n",
    "    print (l) \n",
    "        \n",
    "user_defined_range(11)"
   ]
  },
  {
   "cell_type": "markdown",
   "id": "4616bdd6",
   "metadata": {},
   "source": [
    "**OR**"
   ]
  },
  {
   "cell_type": "code",
   "execution_count": 1,
   "id": "ce3428c5",
   "metadata": {},
   "outputs": [
    {
     "name": "stdout",
     "output_type": "stream",
     "text": [
      "[0, 2, 4, 6, 8, 10, 12, 14, 16, 18, 20]\n"
     ]
    }
   ],
   "source": [
    "def user_defined_range(stop, step = 1, start = 0):\n",
    "    l = []\n",
    "    \n",
    "    while start < stop:\n",
    "        l.append(start)\n",
    "        start = start + step\n",
    "        \n",
    "    print (l)\n",
    "        \n",
    "user_defined_range(21, 2)"
   ]
  }
 ],
 "metadata": {
  "kernelspec": {
   "display_name": "Python 3 (ipykernel)",
   "language": "python",
   "name": "python3"
  },
  "language_info": {
   "codemirror_mode": {
    "name": "ipython",
    "version": 3
   },
   "file_extension": ".py",
   "mimetype": "text/x-python",
   "name": "python",
   "nbconvert_exporter": "python",
   "pygments_lexer": "ipython3",
   "version": "3.9.7"
  }
 },
 "nbformat": 4,
 "nbformat_minor": 5
}
