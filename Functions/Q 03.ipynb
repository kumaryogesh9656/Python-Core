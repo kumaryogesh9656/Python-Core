{
 "cells": [
  {
   "cell_type": "markdown",
   "id": "dc9c74cf",
   "metadata": {},
   "source": [
    "**Define a function that can accept two strings as input and concatenate them and then print it in console.**"
   ]
  },
  {
   "cell_type": "code",
   "execution_count": 2,
   "id": "1bac145f",
   "metadata": {},
   "outputs": [
    {
     "name": "stdout",
     "output_type": "stream",
     "text": [
      "Anil Sharma\n"
     ]
    }
   ],
   "source": [
    "def concat_strings(a, b):\n",
    "    print (a, b)\n",
    "\n",
    "concat_strings(a = 'Anil', b = 'Sharma')"
   ]
  },
  {
   "cell_type": "markdown",
   "id": "e8cab87f",
   "metadata": {},
   "source": [
    "**Define a function that can accept two strings as input and print the string with maximum length in console. If two strings have the same length, then the function should print all strings line by line.**"
   ]
  },
  {
   "cell_type": "code",
   "execution_count": 3,
   "id": "741608ec",
   "metadata": {},
   "outputs": [
    {
     "name": "stdout",
     "output_type": "stream",
     "text": [
      "Sharma\n"
     ]
    }
   ],
   "source": [
    "def max_string(one, two):\n",
    "    if len(one) == len(two):\n",
    "        print (one)\n",
    "        print (two)\n",
    "        \n",
    "    elif len(one) > len(two):\n",
    "        print (one)\n",
    "        \n",
    "    else:\n",
    "        print (two)\n",
    "        \n",
    "max_string('Anil', 'Sharma')"
   ]
  },
  {
   "cell_type": "markdown",
   "id": "09dd80d9",
   "metadata": {},
   "source": [
    "**Define a function that can accept an integer number as input and print the \"It is an even number\" if the number is even, otherwise print \"It is an odd number\".**"
   ]
  },
  {
   "cell_type": "code",
   "execution_count": 4,
   "id": "a7fde80a",
   "metadata": {},
   "outputs": [
    {
     "name": "stdout",
     "output_type": "stream",
     "text": [
      "It is an even number\n"
     ]
    }
   ],
   "source": [
    "def even_odd(n):\n",
    "    if n % 2 == 0:\n",
    "        print (\"It is an even number\")\n",
    "    else:\n",
    "        print (\"It is an odd number\")\n",
    "    \n",
    "even_odd(90)"
   ]
  }
 ],
 "metadata": {
  "kernelspec": {
   "display_name": "Python 3",
   "language": "python",
   "name": "python3"
  },
  "language_info": {
   "codemirror_mode": {
    "name": "ipython",
    "version": 3
   },
   "file_extension": ".py",
   "mimetype": "text/x-python",
   "name": "python",
   "nbconvert_exporter": "python",
   "pygments_lexer": "ipython3",
   "version": "3.8.8"
  }
 },
 "nbformat": 4,
 "nbformat_minor": 5
}
