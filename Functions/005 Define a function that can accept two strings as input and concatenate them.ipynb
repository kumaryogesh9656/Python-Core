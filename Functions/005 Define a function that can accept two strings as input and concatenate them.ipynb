{
 "cells": [
  {
   "cell_type": "markdown",
   "id": "dc9c74cf",
   "metadata": {},
   "source": [
    "**Define a function that can accept two strings as input and concatenate them and then print it in console.**"
   ]
  },
  {
   "cell_type": "code",
   "execution_count": 1,
   "id": "1bac145f",
   "metadata": {},
   "outputs": [
    {
     "name": "stdout",
     "output_type": "stream",
     "text": [
      "AnilSharma\n"
     ]
    }
   ],
   "source": [
    "def concat_strings(a, b):\n",
    "    print (a + b)\n",
    "\n",
    "concat_strings(a = \"Anil\", b = \"Sharma\")"
   ]
  }
 ],
 "metadata": {
  "kernelspec": {
   "display_name": "Python 3 (ipykernel)",
   "language": "python",
   "name": "python3"
  },
  "language_info": {
   "codemirror_mode": {
    "name": "ipython",
    "version": 3
   },
   "file_extension": ".py",
   "mimetype": "text/x-python",
   "name": "python",
   "nbconvert_exporter": "python",
   "pygments_lexer": "ipython3",
   "version": "3.9.7"
  }
 },
 "nbformat": 4,
 "nbformat_minor": 5
}
